{
 "cells": [
  {
   "cell_type": "markdown",
   "metadata": {},
   "source": [
    "Michelle Hu  \n",
    "---\n",
    "University of Washington  \n",
    "AMATH 563  \n",
    "Homework 3  \n",
    "Due: May 27, 2020  "
   ]
  },
  {
   "cell_type": "code",
   "execution_count": 1,
   "metadata": {},
   "outputs": [],
   "source": [
    "%load_ext autoreload\n",
    "%autoreload 2"
   ]
  },
  {
   "cell_type": "code",
   "execution_count": 2,
   "metadata": {},
   "outputs": [
    {
     "name": "stderr",
     "output_type": "stream",
     "text": [
      "/home/jmhu/miniconda/envs/gda_py3/lib/python3.6/site-packages/dask/config.py:168: YAMLLoadWarning: calling yaml.load() without Loader=... is deprecated, as the default Loader is unsafe. Please read https://msg.pyyaml.org/load for full details.\n",
      "  data = yaml.load(f.read()) or {}\n",
      "/home/jmhu/miniconda/envs/gda_py3/lib/python3.6/site-packages/distributed/config.py:20: YAMLLoadWarning: calling yaml.load() without Loader=... is deprecated, as the default Loader is unsafe. Please read https://msg.pyyaml.org/load for full details.\n",
      "  defaults = yaml.load(f)\n"
     ]
    }
   ],
   "source": [
    "import os\n",
    "import pandas as pd\n",
    "import numpy as np\n",
    "import matplotlib.pyplot as plt\n",
    "\n",
    "import dask.array as da\n",
    "import dask\n",
    "import xarray as xr\n",
    "import seaborn as sns\n",
    "\n",
    "# import pickle\n",
    "# import seaborn as sns"
   ]
  },
  {
   "cell_type": "code",
   "execution_count": 3,
   "metadata": {
    "scrolled": true
   },
   "outputs": [],
   "source": [
    "wd=\"/mnt/Backups/jmhu/git_dirs/ComplexSystems_AMATH563/hw3\"\n",
    "data_dir=wd+\"/data/\"\n",
    "model_dir=wd+\"/models/\"\n",
    "\n",
    "cropped_dir=data_dir + \"yale_cropped/\"\n",
    "uncropped_dir=data_dir + \"yale_uncropped/\""
   ]
  },
  {
   "cell_type": "markdown",
   "metadata": {},
   "source": [
    "### Functions"
   ]
  },
  {
   "cell_type": "code",
   "execution_count": 4,
   "metadata": {},
   "outputs": [],
   "source": [
    "import glob\n",
    "def fn_list(thisDir, fn_pattern):\n",
    "    '''\n",
    "    Function that returns a sorted list of filenames \n",
    "    based on a regex pattern in specified directory\n",
    "    '''\n",
    "    fns=[]\n",
    "    for f in glob.glob(thisDir + \"/\" + fn_pattern): fns.append(f)\n",
    "    fns.sort()\n",
    "    return fns"
   ]
  },
  {
   "cell_type": "code",
   "execution_count": 5,
   "metadata": {},
   "outputs": [],
   "source": [
    "# def densify(t, y, dt):\n",
    "#     from scipy.interpolate import interp1d\n",
    "#     f = interp1d(t, y, kind='cubic')\n",
    "#     tnew = np.arange(t[0], t[-1], dt)\n",
    "#     ynew = f(tnew)\n",
    "#     return(tnew, ynew)\n",
    "\n",
    "# def DMD(X, Xprime, r, dt):\n",
    "#     '''Dynamic Mode Decomposition Function from book'''\n",
    "#     U,Sigma,VT = np.linalg.svd(X,full_matrices=0) # Step 1\n",
    "#     Ur = U[:,:r]\n",
    "#     Sigmar = np.diag(Sigma[:r])\n",
    "#     VTr = VT[:r,:]\n",
    "#     Atilde = np.linalg.solve(Sigmar.T,(Ur.T @ Xprime @ VTr.T).T).T # Step 2\n",
    "#     Lambda, W = np.linalg.eig(Atilde) # Step 3\n",
    "#     Lambda = np.diag(Lambda)\n",
    "    \n",
    "#     Phi = Xprime @ np.linalg.solve(Sigmar.T,VTr).T @ W # Step 4\n",
    "#     alpha1 = Sigmar @ VTr[:,0]\n",
    "#     b = np.linalg.solve(W @ Lambda,alpha1)\n",
    "#     Omega = np.log(np.diag(Lambda))/dt\n",
    "#     return Phi, Omega, b, Lambda\n",
    "\n",
    "# def forecast(Phi, Omega, t, b, r, dt):\n",
    "#     u_modes = np.zeros((r, t))\n",
    "#     time_vector = dt*np.arange(-1, t-1)\n",
    "#     for i in np.arange(0, t):\n",
    "#         u_modes[:, i]=b * np.exp(Omega * time_vector[i])\n",
    "#     Xdmd = Phi @ u_modes\n",
    "#     print(t, u_modes.shape, time_vector.shape, Xdmd.shape)\n",
    "#     return(Xdmd)"
   ]
  },
  {
   "cell_type": "markdown",
   "metadata": {},
   "source": [
    "#### Figure formatting"
   ]
  },
  {
   "cell_type": "code",
   "execution_count": 6,
   "metadata": {},
   "outputs": [],
   "source": [
    "y_position=0.92\n",
    "fontsize=16\n",
    "weight=\"bold\""
   ]
  },
  {
   "cell_type": "markdown",
   "metadata": {},
   "source": [
    "### Load data"
   ]
  },
  {
   "cell_type": "code",
   "execution_count": 7,
   "metadata": {},
   "outputs": [],
   "source": [
    "cropped_fns = fn_list(data_dir+\"yale_cropped/yale*\", \"*\")\n",
    "uncropped_fns = fn_list(data_dir+\"yale_uncropped\", \"*\")"
   ]
  },
  {
   "cell_type": "markdown",
   "metadata": {},
   "source": [
    "# Start with cropped images "
   ]
  },
  {
   "cell_type": "markdown",
   "metadata": {},
   "source": [
    "#### With delayed "
   ]
  },
  {
   "cell_type": "code",
   "execution_count": 8,
   "metadata": {},
   "outputs": [
    {
     "name": "stderr",
     "output_type": "stream",
     "text": [
      "/home/jmhu/miniconda/envs/gda_py3/lib/python3.6/site-packages/rasterio/__init__.py:216: NotGeoreferencedWarning: Dataset has no geotransform set. The identity matrix may be returned.\n",
      "  s = DatasetReader(path, driver=driver, **kwargs)\n"
     ]
    },
    {
     "name": "stdout",
     "output_type": "stream",
     "text": [
      "CPU times: user 338 ms, sys: 11.8 ms, total: 350 ms\n",
      "Wall time: 350 ms\n"
     ]
    }
   ],
   "source": [
    "%%time\n",
    "xr_rio = dask.delayed(xr.open_rasterio, pure=True)\n",
    "\n",
    "# Delayed\n",
    "lazy=[xr_rio(fn) for fn in cropped_fns] \n",
    "\n",
    "# Get template\n",
    "f=lazy[0].compute()\n",
    "\n",
    "# Create dask array for image cube\n",
    "arrays=[da.from_delayed(x, \n",
    "                      shape=f.shape, \n",
    "                      dtype=f.dtype) \n",
    "      for x in lazy]\n",
    "stack = da.concatenate(arrays, axis=0)"
   ]
  },
  {
   "cell_type": "code",
   "execution_count": 9,
   "metadata": {},
   "outputs": [
    {
     "data": {
      "text/plain": [
       "dask.array<concatenate, shape=(2432, 192, 168), dtype=uint8, chunksize=(1, 192, 168)>"
      ]
     },
     "execution_count": 9,
     "metadata": {},
     "output_type": "execute_result"
    }
   ],
   "source": [
    "stack"
   ]
  },
  {
   "cell_type": "code",
   "execution_count": 10,
   "metadata": {},
   "outputs": [
    {
     "data": {
      "text/plain": [
       "<matplotlib.image.AxesImage at 0x7f5d7f8fdac8>"
      ]
     },
     "execution_count": 10,
     "metadata": {},
     "output_type": "execute_result"
    },
    {
     "data": {
      "image/png": "[encoded data removed]",
      "text/plain": [
       "<Figure size 432x288 with 1 Axes>"
      ]
     },
     "metadata": {
      "needs_background": "light"
     },
     "output_type": "display_data"
    }
   ],
   "source": [
    "plt.imshow(stack[0])"
   ]
  },
  {
   "cell_type": "markdown",
   "metadata": {},
   "source": [
    "## Question 1. Do an SVD analysis of the images"
   ]
  },
  {
   "cell_type": "markdown",
   "metadata": {},
   "source": [
    "#### Reshape stack with images as column vectors (1D) and each image as a new column"
   ]
  },
  {
   "cell_type": "code",
   "execution_count": 13,
   "metadata": {},
   "outputs": [
    {
     "name": "stdout",
     "output_type": "stream",
     "text": [
      "CPU times: user 14.9 s, sys: 1.17 s, total: 16 s\n",
      "Wall time: 16.8 s\n"
     ]
    }
   ],
   "source": [
    "%%time\n",
    "# Create dask array for SVD analysis\n",
    "arrays=[da.from_delayed(x, \n",
    "                      shape=f.shape, \n",
    "                      dtype=f.dtype) \n",
    "      for x in lazy]\n",
    "\n",
    "rav_stack=[np.array(x).ravel() for x in arrays]\n",
    "rav_stack = da.stack(rav_stack, axis=1)"
   ]
  },
  {
   "cell_type": "code",
   "execution_count": 20,
   "metadata": {},
   "outputs": [
    {
     "name": "stdout",
     "output_type": "stream",
     "text": [
      "CPU times: user 916 ms, sys: 79.1 ms, total: 995 ms\n",
      "Wall time: 910 ms\n"
     ]
    }
   ],
   "source": [
    "%%time\n",
    "rav_stack = np.array(rav_stack)"
   ]
  },
  {
   "cell_type": "markdown",
   "metadata": {},
   "source": [
    "#### Direct computation"
   ]
  },
  {
   "cell_type": "code",
   "execution_count": 24,
   "metadata": {},
   "outputs": [
    {
     "name": "stdout",
     "output_type": "stream",
     "text": [
      "CPU times: user 1h 17min 48s, sys: 2min 10s, total: 1h 19min 59s\n",
      "Wall time: 4min 22s\n"
     ]
    }
   ],
   "source": [
    "%%time\n",
    "u, s, v = np.linalg.svd(rav_stack)"
   ]
  },
  {
   "cell_type": "code",
   "execution_count": 83,
   "metadata": {},
   "outputs": [
    {
     "name": "stdout",
     "output_type": "stream",
     "text": [
      "Modes > 0.00%:  6\n"
     ]
    },
    {
     "data": {
      "image/png": "[encoded data removed]",
      "text/plain": [
       "<Figure size 432x288 with 1 Axes>"
      ]
     },
     "metadata": {
      "needs_background": "light"
     },
     "output_type": "display_data"
    }
   ],
   "source": [
    "var_explained = np.round(s**2/np.sum(s**2), decimals=2)\n",
    "print(\"Modes > 0.00%: \", \n",
    "      len(var_explained[var_explained>0]))\n",
    "\n",
    "subset=len(var_explained[var_explained>0])\n",
    "fig, ax = plt.subplots(figsize=(6, 4))\n",
    "svd_bars = sns.barplot(x=list(range(1,len(var_explained[:subset])+1)),\n",
    "                       y=var_explained[:subset], color=\"limegreen\", ec='k', ax=ax)\n",
    "ax.set_xlabel('SV', fontsize=16)\n",
    "ax.set_ylabel('% Var Explained', fontsize=16)\n",
    "ax.set_ylim(0, 0.8)\n",
    "\n",
    "# Label the bars\n",
    "for p in svd_bars.patches:\n",
    "    width = p.get_width()\n",
    "    ax.text(p.get_x() + p.get_width()/2., \n",
    "            p.get_height()+0.01, \n",
    "            np.round(p.get_height(), 2), \n",
    "            fontsize=13, color='k', ha='center', va='bottom')"
   ]
  },
  {
   "cell_type": "code",
   "execution_count": 84,
   "metadata": {},
   "outputs": [
    {
     "name": "stdout",
     "output_type": "stream",
     "text": [
      "CPU times: user 41min 57s, sys: 1min 40s, total: 43min 37s\n",
      "Wall time: 2min 14s\n"
     ]
    }
   ],
   "source": [
    "%%time\n",
    "import scipy \n",
    "u, s, v = scipy.linalg.svd(rav_stack)"
   ]
  },
  {
   "cell_type": "code",
   "execution_count": 85,
   "metadata": {},
   "outputs": [
    {
     "name": "stdout",
     "output_type": "stream",
     "text": [
      "Modes > 0.00%:  6\n"
     ]
    },
    {
     "data": {
      "image/png": "[encoded data removed]",
      "text/plain": [
       "<Figure size 432x288 with 1 Axes>"
      ]
     },
     "metadata": {
      "needs_background": "light"
     },
     "output_type": "display_data"
    }
   ],
   "source": [
    "var_explained = np.round(s**2/np.sum(s**2), decimals=2)\n",
    "print(\"Modes > 0.00%: \", \n",
    "      len(var_explained[var_explained>0]))\n",
    "\n",
    "subset=len(var_explained[var_explained>0])\n",
    "fig, ax = plt.subplots(figsize=(6, 4))\n",
    "svd_bars = sns.barplot(x=list(range(1,len(var_explained[:subset])+1)),\n",
    "                       y=var_explained[:subset], color=\"limegreen\", ec='k', ax=ax)\n",
    "ax.set_xlabel('SV', fontsize=16)\n",
    "ax.set_ylabel('% Var Explained', fontsize=16)\n",
    "ax.set_ylim(0, 0.8)\n",
    "\n",
    "# Label the bars\n",
    "for p in svd_bars.patches:\n",
    "    width = p.get_width()\n",
    "    ax.text(p.get_x() + p.get_width()/2., \n",
    "            p.get_height()+0.01, \n",
    "            np.round(p.get_height(), 2), \n",
    "            fontsize=13, color='k', ha='center', va='bottom')"
   ]
  },
  {
   "cell_type": "markdown",
   "metadata": {},
   "source": [
    "#### Truncated computation"
   ]
  },
  {
   "cell_type": "code",
   "execution_count": 94,
   "metadata": {},
   "outputs": [
    {
     "name": "stdout",
     "output_type": "stream",
     "text": [
      "CPU times: user 32.9 s, sys: 16 s, total: 48.9 s\n",
      "Wall time: 4.8 s\n"
     ]
    }
   ],
   "source": [
    "%%time\n",
    "from sklearn.decomposition import TruncatedSVD\n",
    "svd = TruncatedSVD(n_components=10, n_iter=7, random_state=42)\n",
    "svd.fit(rav_stack)"
   ]
  },
  {
   "cell_type": "code",
   "execution_count": 95,
   "metadata": {},
   "outputs": [
    {
     "data": {
      "text/plain": [
       "array([0.11149673, 0.46498221, 0.07935187, 0.05926816, 0.02009348,\n",
       "       0.01910296, 0.01431927, 0.01250264, 0.00994269, 0.00978692])"
      ]
     },
     "execution_count": 95,
     "metadata": {},
     "output_type": "execute_result"
    }
   ],
   "source": [
    "svd.explained_variance_ratio_"
   ]
  },
  {
   "cell_type": "code",
   "execution_count": 96,
   "metadata": {},
   "outputs": [
    {
     "data": {
      "text/plain": [
       "0.8008469305982837"
      ]
     },
     "execution_count": 96,
     "metadata": {},
     "output_type": "execute_result"
    }
   ],
   "source": [
    "svd.explained_variance_ratio_.sum()"
   ]
  },
  {
   "cell_type": "code",
   "execution_count": 97,
   "metadata": {},
   "outputs": [
    {
     "data": {
      "text/plain": [
       "array([700713.66880122, 318294.97785939, 132243.9176869 , 113876.21602423,\n",
       "        66167.63611551,  64511.96226738,  55861.38118987,  52310.40812852,\n",
       "        46585.50069695,  46195.85042184])"
      ]
     },
     "execution_count": 97,
     "metadata": {},
     "output_type": "execute_result"
    }
   ],
   "source": [
    "svd.singular_values_"
   ]
  },
  {
   "cell_type": "code",
   "execution_count": 98,
   "metadata": {},
   "outputs": [
    {
     "data": {
      "text/plain": [
       "10"
      ]
     },
     "execution_count": 98,
     "metadata": {},
     "output_type": "execute_result"
    }
   ],
   "source": [
    "svd.n_components"
   ]
  },
  {
   "cell_type": "code",
   "execution_count": 102,
   "metadata": {},
   "outputs": [
    {
     "data": {
      "text/plain": [
       "(10, 2432)"
      ]
     },
     "execution_count": 102,
     "metadata": {},
     "output_type": "execute_result"
    }
   ],
   "source": [
    "svd.components_.shape"
   ]
  },
  {
   "cell_type": "code",
   "execution_count": 115,
   "metadata": {},
   "outputs": [
    {
     "data": {
      "text/plain": [
       "array([ 753055.15234354, 3140515.96609096,  535947.00287113,\n",
       "        400300.49658712,  135712.48563372,  129022.4991268 ,\n",
       "         96713.17524288,   84443.53205628,   67153.50060865,\n",
       "         66101.39049151])"
      ]
     },
     "execution_count": 115,
     "metadata": {},
     "output_type": "execute_result"
    }
   ],
   "source": [
    "svd.explained_variance_"
   ]
  },
  {
   "cell_type": "code",
   "execution_count": 116,
   "metadata": {},
   "outputs": [
    {
     "data": {
      "text/plain": [
       "array([0.11149673, 0.46498221, 0.07935187, 0.05926816, 0.02009348,\n",
       "       0.01910296, 0.01431927, 0.01250264, 0.00994269, 0.00978692])"
      ]
     },
     "execution_count": 116,
     "metadata": {},
     "output_type": "execute_result"
    }
   ],
   "source": [
    "svd.explained_variance_ratio_"
   ]
  },
  {
   "cell_type": "code",
   "execution_count": 111,
   "metadata": {},
   "outputs": [
    {
     "data": {
      "text/plain": [
       "array([0.77, 0.16, 0.03, 0.02, 0.01, 0.01, 0.  , 0.  , 0.  , 0.  ])"
      ]
     },
     "execution_count": 111,
     "metadata": {},
     "output_type": "execute_result"
    }
   ],
   "source": [
    "np.round(svd.singular_values_**2/np.sum(svd.singular_values_**2), 2)"
   ]
  },
  {
   "cell_type": "code",
   "execution_count": 117,
   "metadata": {},
   "outputs": [
    {
     "name": "stdout",
     "output_type": "stream",
     "text": [
      "Modes > 0.00%:  6\n"
     ]
    },
    {
     "data": {
      "image/png": "[encoded data removed]",
      "text/plain": [
       "<Figure size 432x288 with 1 Axes>"
      ]
     },
     "metadata": {
      "needs_background": "light"
     },
     "output_type": "display_data"
    }
   ],
   "source": [
    "var_explained = np.round(svd.singular_values_**2/np.sum(svd.singular_values_**2), 2)\n",
    "print(\"Modes > 0.00%: \", \n",
    "      len(var_explained[var_explained>0]))\n",
    "\n",
    "subset=len(var_explained[var_explained>0])\n",
    "fig, ax = plt.subplots(figsize=(6, 4))\n",
    "svd_bars = sns.barplot(x=list(range(1,len(var_explained[:subset])+1)),\n",
    "                       y=var_explained[:subset], color=\"limegreen\", ec='k', ax=ax)\n",
    "ax.set_xlabel('SV', fontsize=16)\n",
    "ax.set_ylabel('% Var Explained', fontsize=16)\n",
    "ax.set_ylim(0, 0.8)\n",
    "\n",
    "# Label the bars\n",
    "for p in svd_bars.patches:\n",
    "    width = p.get_width()\n",
    "    ax.text(p.get_x() + p.get_width()/2., \n",
    "            p.get_height()+0.01, \n",
    "            np.round(p.get_height(), 2), \n",
    "            fontsize=13, color='k', ha='center', va='bottom')"
   ]
  },
  {
   "cell_type": "code",
   "execution_count": 106,
   "metadata": {},
   "outputs": [
    {
     "data": {
      "text/plain": [
       "(32256, 32256)"
      ]
     },
     "execution_count": 106,
     "metadata": {},
     "output_type": "execute_result"
    }
   ],
   "source": [
    "u.shape"
   ]
  },
  {
   "cell_type": "code",
   "execution_count": 107,
   "metadata": {},
   "outputs": [
    {
     "data": {
      "text/plain": [
       "(2432,)"
      ]
     },
     "execution_count": 107,
     "metadata": {},
     "output_type": "execute_result"
    }
   ],
   "source": [
    "s.shape"
   ]
  },
  {
   "cell_type": "code",
   "execution_count": 108,
   "metadata": {},
   "outputs": [
    {
     "data": {
      "text/plain": [
       "(2432, 2432)"
      ]
     },
     "execution_count": 108,
     "metadata": {},
     "output_type": "execute_result"
    }
   ],
   "source": [
    "v.shape"
   ]
  },
  {
   "cell_type": "code",
   "execution_count": null,
   "metadata": {},
   "outputs": [],
   "source": [
    "U = \n",
    "Sigma = \n",
    "V = "
   ]
  },
  {
   "cell_type": "markdown",
   "metadata": {},
   "source": [
    "---"
   ]
  },
  {
   "cell_type": "code",
   "execution_count": null,
   "metadata": {},
   "outputs": [],
   "source": []
  }
 ],
 "metadata": {
  "kernelspec": {
   "display_name": "gda_py3",
   "language": "python",
   "name": "gda_py3"
  },
  "language_info": {
   "codemirror_mode": {
    "name": "ipython",
    "version": 3
   },
   "file_extension": ".py",
   "mimetype": "text/x-python",
   "name": "python",
   "nbconvert_exporter": "python",
   "pygments_lexer": "ipython3",
   "version": "3.6.7"
  }
 },
 "nbformat": 4,
 "nbformat_minor": 2
}
