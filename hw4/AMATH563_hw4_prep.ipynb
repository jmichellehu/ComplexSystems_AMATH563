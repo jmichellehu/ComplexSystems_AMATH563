{
 "cells": [
  {
   "cell_type": "markdown",
   "metadata": {},
   "source": [
    "## Preprocessing and dataset exploration"
   ]
  },
  {
   "cell_type": "code",
   "execution_count": 1,
   "metadata": {},
   "outputs": [],
   "source": [
    "import os\n",
    "import pandas as pd\n",
    "import numpy as np\n",
    "import matplotlib.pyplot as plt"
   ]
  },
  {
   "cell_type": "markdown",
   "metadata": {},
   "source": [
    "### Set up directories"
   ]
  },
  {
   "cell_type": "code",
   "execution_count": 2,
   "metadata": {},
   "outputs": [],
   "source": [
    "wd=\"/mnt/Backups/jmhu/git_dirs/ComplexSystems_AMATH563/hw4\"\n",
    "\n",
    "data_dir=wd+\"/data/\"\n",
    "model_dir=wd+\"/models/\"\n",
    "    \n",
    "if not os.path.exists(data_dir):\n",
    "    !mkdir $data_dir\n",
    "\n",
    "if not os.path.exists(model_dir):\n",
    "    !mkdir $model_dir"
   ]
  },
  {
   "cell_type": "markdown",
   "metadata": {},
   "source": [
    "### Download codes"
   ]
  },
  {
   "cell_type": "code",
   "execution_count": 5,
   "metadata": {},
   "outputs": [
    {
     "name": "stdout",
     "output_type": "stream",
     "text": [
      "--2020-05-11 14:23:24--  http://faculty.washington.edu/kutz/PDECODES.zip\r\n",
      "Resolving faculty.washington.edu (faculty.washington.edu)... 140.142.11.80\r\n",
      "Connecting to faculty.washington.edu (faculty.washington.edu)|140.142.11.80|:80... connected.\r\n",
      "HTTP request sent, awaiting response... 200 OK\r\n",
      "Length: 3865 (3.8K) [application/zip]\r\n",
      "Saving to: ‘/mnt/Backups/jmhu/git_dirs/ComplexSystems_AMATH563/hw4/data//PDECODES.zip’\r\n",
      "\r\n",
      "\r",
      "          /mnt/Back   0%[                    ]       0  --.-KB/s               \r",
      "/mnt/Backups/jmhu/g 100%[===================>]   3.77K  --.-KB/s    in 0s      \r\n",
      "\r\n",
      "2020-05-11 14:23:24 (243 MB/s) - ‘/mnt/Backups/jmhu/git_dirs/ComplexSystems_AMATH563/hw4/data//PDECODES.zip’ saved [3865/3865]\r\n",
      "\r\n"
     ]
    }
   ],
   "source": [
    "!wget -O $data_dir/PDECODES.zip http://faculty.washington.edu/kutz/PDECODES.zip"
   ]
  },
  {
   "cell_type": "markdown",
   "metadata": {},
   "source": [
    "### Note that this is MATLAB code and will need to be reconfigured for Python"
   ]
  }
 ],
 "metadata": {
  "kernelspec": {
   "display_name": "gda_py3",
   "language": "python",
   "name": "gda_py3"
  },
  "language_info": {
   "codemirror_mode": {
    "name": "ipython",
    "version": 3
   },
   "file_extension": ".py",
   "mimetype": "text/x-python",
   "name": "python",
   "nbconvert_exporter": "python",
   "pygments_lexer": "ipython3",
   "version": "3.6.7"
  }
 },
 "nbformat": 4,
 "nbformat_minor": 2
}
