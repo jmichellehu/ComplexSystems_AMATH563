{
 "cells": [
  {
   "cell_type": "markdown",
   "metadata": {},
   "source": [
    "Michelle Hu  \n",
    "---\n",
    "University of Washington  \n",
    "AMATH 563  \n",
    "Homework 4  \n",
    "Due: June 14, 2020  "
   ]
  },
  {
   "cell_type": "markdown",
   "metadata": {},
   "source": [
    "### Directories"
   ]
  },
  {
   "cell_type": "code",
   "execution_count": 1,
   "metadata": {},
   "outputs": [],
   "source": [
    "wd=\"/mnt/Backups/jmhu/git_dirs/ComplexSystems_AMATH563/hw4\"\n",
    "data_dir=wd+\"/data/\"\n",
    "model_dir=wd+\"/models/\""
   ]
  },
  {
   "cell_type": "markdown",
   "metadata": {},
   "source": [
    "## Reaction-diffusion equation"
   ]
  },
  {
   "cell_type": "code",
   "execution_count": 2,
   "metadata": {},
   "outputs": [],
   "source": [
    "# % REACTION-DIFFUSION\n",
    "# uvt=[reshape(fft2(u(:,:,1)),1,N) reshape(fft2(v(:,:,1)),1,N)].';\n",
    "# [t,uvsol]=ode45('reaction_diffusion_rhs',t,uvt,[],K22,d1,d2,beta,n,N);\n",
    "\n",
    "\n",
    "# for j=1:length(t)-1\n",
    "# ut=reshape((uvsol(j,1:N).'),n,n);\n",
    "# vt=reshape((uvsol(j,(N+1):(2*N)).'),n,n);\n",
    "# u(:,:,j+1)=real(ifft2(ut));\n",
    "# v(:,:,j+1)=real(ifft2(vt));\n",
    "\n",
    "# figure(1)\n",
    "# pcolor(x,y,v(:,:,j+1)); shading interp; colormap(hot); colorbar; drawnow; \n",
    "# end\n",
    "\n",
    "# save('reaction_diffusion_big.mat','t','x','y','u','v')\n",
    "\n",
    "# %%\n",
    "# load reaction_diffusion_big\n",
    "# pcolor(x,y,u(:,:,end)); shading interp; colormap(hot)"
   ]
  },
  {
   "cell_type": "code",
   "execution_count": 3,
   "metadata": {},
   "outputs": [],
   "source": [
    "import numpy as np\n",
    "import matplotlib.pyplot as plt\n",
    "from scipy.integrate import odeint\n",
    "from scipy.integrate import solve_ivp"
   ]
  },
  {
   "cell_type": "markdown",
   "metadata": {},
   "source": [
    "#### Set-up"
   ]
  },
  {
   "cell_type": "code",
   "execution_count": 4,
   "metadata": {},
   "outputs": [],
   "source": [
    "t=np.arange(0, 10+0.05, 0.05)\n",
    "d1=0.1\n",
    "d2=0.1\n",
    "beta=1.0\n",
    "L=20\n",
    "n=512\n",
    "\n",
    "N=n*n\n",
    "x2=np.linspace(-L/2,L/2,n+1)\n",
    "x=x2[:-1]\n",
    "y=x\n",
    "kx=(2*np.pi/L*np.concatenate((np.arange(0, n/2), \n",
    "                              np.arange(-n/2, 0))))\n",
    "ky=kx"
   ]
  },
  {
   "cell_type": "markdown",
   "metadata": {},
   "source": [
    "#### Initial conditions"
   ]
  },
  {
   "cell_type": "code",
   "execution_count": 5,
   "metadata": {},
   "outputs": [],
   "source": [
    "X,Y = np.meshgrid(x, y)\n",
    "KX, KY = np.meshgrid(kx, ky)\n",
    "K2 = KX**2 + KY**2\n",
    "\n",
    "K22 = np.reshape(K2, N, 1)\n",
    "m=1 # number of spirals\n",
    "\n",
    "u = np.zeros((len(x),len(y),len(t)))\n",
    "v = np.zeros((len(x),len(y),len(t)))\n",
    "\n",
    "u[:,:,0]=np.tanh(np.sqrt(X**2+Y**2))*np.cos(m*np.angle(X+Y*1j)-(np.sqrt(X**2 + Y**2)));\n",
    "v[:,:,0]=np.tanh(np.sqrt(X**2+Y**2))*np.sin(m*np.angle(X+Y*1j)-(np.sqrt(X**2 + Y**2)));"
   ]
  },
  {
   "cell_type": "code",
   "execution_count": 6,
   "metadata": {},
   "outputs": [],
   "source": [
    "# REACTION-DIFFUSION\n",
    "uvt=np.concatenate((np.reshape(np.fft.fft2(u[:,:,0]), (1, N)).T, np.reshape(np.fft.fft2(v[:,:,0]), (1, N)).T))"
   ]
  },
  {
   "cell_type": "code",
   "execution_count": 7,
   "metadata": {},
   "outputs": [],
   "source": [
    "def reaction_diffusion_rhs(t, uvt, K22, d1, d2, beta, n, N):\n",
    "    # Calculate u and v\n",
    "    ut = np.reshape(uvt[:N], (n,n))\n",
    "    vt = np.reshape(uvt[N:2*N], (n,n))\n",
    "    u = np.real(np.fft.ifft2(ut))\n",
    "    v = np.real(np.fft.ifft2(vt))\n",
    "    \n",
    "    # Calculate reaction terms\n",
    "    u3 = u**3\n",
    "    v3 = v**3\n",
    "    u2v = u**2*v\n",
    "    uv2 = u*v**2\n",
    "    utrhs = np.reshape(np.fft.fft2(u-u3-uv2+beta*u2v+beta*v3), (N,1))\n",
    "    vtrhs = np.reshape(np.fft.fft2(v-u2v-v3-beta*u3-beta*uv2), (N,1))\n",
    "\n",
    "#     l = [K22, uvt, ut, vt, u, v, u3, v3, u2v, uv2, utrhs, vtrhs]    \n",
    "#     for i in l:\n",
    "#         print(type(i), i.dtype, i.shape)\n",
    "\n",
    "    rhs = np.concatenate((-d1*K22*np.squeeze(uvt[:N])+np.squeeze(utrhs), \n",
    "                          -d2*K22*np.squeeze(uvt[N:])+np.squeeze(vtrhs)))\n",
    "    return rhs"
   ]
  },
  {
   "cell_type": "code",
   "execution_count": 8,
   "metadata": {},
   "outputs": [
    {
     "name": "stdout",
     "output_type": "stream",
     "text": [
      "CPU times: user 2min 3s, sys: 2min 22s, total: 4min 25s\n",
      "Wall time: 17.4 s\n"
     ]
    }
   ],
   "source": [
    "%%time\n",
    "y0=np.squeeze(uvt)\n",
    "uvsol = solve_ivp(reaction_diffusion_rhs, t, y0,\n",
    "                  args=(K22, d1, d2, beta, n, N), \n",
    "                  dense_output=True\n",
    "                 )"
   ]
  },
  {
   "cell_type": "code",
   "execution_count": 9,
   "metadata": {},
   "outputs": [
    {
     "data": {
      "text/plain": [
       "((23,), (524288, 23))"
      ]
     },
     "execution_count": 9,
     "metadata": {},
     "output_type": "execute_result"
    }
   ],
   "source": [
    "uvsol.t.shape, uvsol.y.shape"
   ]
  },
  {
   "cell_type": "code",
   "execution_count": 19,
   "metadata": {},
   "outputs": [],
   "source": [
    "ut=np.reshape(uvsol.sol(0)[:N].T, (n,n))\n",
    "vt=np.reshape(uvsol.sol(0)[N:2*N], (n,n))"
   ]
  },
  {
   "cell_type": "code",
   "execution_count": 21,
   "metadata": {},
   "outputs": [
    {
     "data": {
      "text/plain": [
       "((512,), (512,), (512, 512, 201))"
      ]
     },
     "execution_count": 21,
     "metadata": {},
     "output_type": "execute_result"
    }
   ],
   "source": [
    "x.shape, y.shape, v.shape"
   ]
  },
  {
   "cell_type": "code",
   "execution_count": 25,
   "metadata": {},
   "outputs": [
    {
     "ename": "TypeError",
     "evalue": "Invalid dimensions for image data",
     "output_type": "error",
     "traceback": [
      "\u001b[0;31m---------------------------------------------------------------------------\u001b[0m",
      "\u001b[0;31mTypeError\u001b[0m                                 Traceback (most recent call last)",
      "\u001b[0;32m<ipython-input-25-82edab5d0d41>\u001b[0m in \u001b[0;36m<module>\u001b[0;34m\u001b[0m\n\u001b[0;32m----> 1\u001b[0;31m \u001b[0mplt\u001b[0m\u001b[0;34m.\u001b[0m\u001b[0mimshow\u001b[0m\u001b[0;34m(\u001b[0m\u001b[0mv\u001b[0m\u001b[0;34m)\u001b[0m\u001b[0;34m\u001b[0m\u001b[0;34m\u001b[0m\u001b[0m\n\u001b[0m",
      "\u001b[0;32m~/miniconda/envs/gda_py3/lib/python3.6/site-packages/matplotlib/pyplot.py\u001b[0m in \u001b[0;36mimshow\u001b[0;34m(X, cmap, norm, aspect, interpolation, alpha, vmin, vmax, origin, extent, shape, filternorm, filterrad, imlim, resample, url, data, **kwargs)\u001b[0m\n\u001b[1;32m   2697\u001b[0m         \u001b[0mfilternorm\u001b[0m\u001b[0;34m=\u001b[0m\u001b[0mfilternorm\u001b[0m\u001b[0;34m,\u001b[0m \u001b[0mfilterrad\u001b[0m\u001b[0;34m=\u001b[0m\u001b[0mfilterrad\u001b[0m\u001b[0;34m,\u001b[0m \u001b[0mimlim\u001b[0m\u001b[0;34m=\u001b[0m\u001b[0mimlim\u001b[0m\u001b[0;34m,\u001b[0m\u001b[0;34m\u001b[0m\u001b[0;34m\u001b[0m\u001b[0m\n\u001b[1;32m   2698\u001b[0m         resample=resample, url=url, **({\"data\": data} if data is not\n\u001b[0;32m-> 2699\u001b[0;31m         None else {}), **kwargs)\n\u001b[0m\u001b[1;32m   2700\u001b[0m     \u001b[0msci\u001b[0m\u001b[0;34m(\u001b[0m\u001b[0m__ret\u001b[0m\u001b[0;34m)\u001b[0m\u001b[0;34m\u001b[0m\u001b[0;34m\u001b[0m\u001b[0m\n\u001b[1;32m   2701\u001b[0m     \u001b[0;32mreturn\u001b[0m \u001b[0m__ret\u001b[0m\u001b[0;34m\u001b[0m\u001b[0;34m\u001b[0m\u001b[0m\n",
      "\u001b[0;32m~/miniconda/envs/gda_py3/lib/python3.6/site-packages/matplotlib/__init__.py\u001b[0m in \u001b[0;36minner\u001b[0;34m(ax, data, *args, **kwargs)\u001b[0m\n\u001b[1;32m   1808\u001b[0m                         \u001b[0;34m\"the Matplotlib list!)\"\u001b[0m \u001b[0;34m%\u001b[0m \u001b[0;34m(\u001b[0m\u001b[0mlabel_namer\u001b[0m\u001b[0;34m,\u001b[0m \u001b[0mfunc\u001b[0m\u001b[0;34m.\u001b[0m\u001b[0m__name__\u001b[0m\u001b[0;34m)\u001b[0m\u001b[0;34m,\u001b[0m\u001b[0;34m\u001b[0m\u001b[0;34m\u001b[0m\u001b[0m\n\u001b[1;32m   1809\u001b[0m                         RuntimeWarning, stacklevel=2)\n\u001b[0;32m-> 1810\u001b[0;31m             \u001b[0;32mreturn\u001b[0m \u001b[0mfunc\u001b[0m\u001b[0;34m(\u001b[0m\u001b[0max\u001b[0m\u001b[0;34m,\u001b[0m \u001b[0;34m*\u001b[0m\u001b[0margs\u001b[0m\u001b[0;34m,\u001b[0m \u001b[0;34m**\u001b[0m\u001b[0mkwargs\u001b[0m\u001b[0;34m)\u001b[0m\u001b[0;34m\u001b[0m\u001b[0;34m\u001b[0m\u001b[0m\n\u001b[0m\u001b[1;32m   1811\u001b[0m \u001b[0;34m\u001b[0m\u001b[0m\n\u001b[1;32m   1812\u001b[0m         inner.__doc__ = _add_data_doc(inner.__doc__,\n",
      "\u001b[0;32m~/miniconda/envs/gda_py3/lib/python3.6/site-packages/matplotlib/axes/_axes.py\u001b[0m in \u001b[0;36mimshow\u001b[0;34m(self, X, cmap, norm, aspect, interpolation, alpha, vmin, vmax, origin, extent, shape, filternorm, filterrad, imlim, resample, url, **kwargs)\u001b[0m\n\u001b[1;32m   5492\u001b[0m                               resample=resample, **kwargs)\n\u001b[1;32m   5493\u001b[0m \u001b[0;34m\u001b[0m\u001b[0m\n\u001b[0;32m-> 5494\u001b[0;31m         \u001b[0mim\u001b[0m\u001b[0;34m.\u001b[0m\u001b[0mset_data\u001b[0m\u001b[0;34m(\u001b[0m\u001b[0mX\u001b[0m\u001b[0;34m)\u001b[0m\u001b[0;34m\u001b[0m\u001b[0;34m\u001b[0m\u001b[0m\n\u001b[0m\u001b[1;32m   5495\u001b[0m         \u001b[0mim\u001b[0m\u001b[0;34m.\u001b[0m\u001b[0mset_alpha\u001b[0m\u001b[0;34m(\u001b[0m\u001b[0malpha\u001b[0m\u001b[0;34m)\u001b[0m\u001b[0;34m\u001b[0m\u001b[0;34m\u001b[0m\u001b[0m\n\u001b[1;32m   5496\u001b[0m         \u001b[0;32mif\u001b[0m \u001b[0mim\u001b[0m\u001b[0;34m.\u001b[0m\u001b[0mget_clip_path\u001b[0m\u001b[0;34m(\u001b[0m\u001b[0;34m)\u001b[0m \u001b[0;32mis\u001b[0m \u001b[0;32mNone\u001b[0m\u001b[0;34m:\u001b[0m\u001b[0;34m\u001b[0m\u001b[0;34m\u001b[0m\u001b[0m\n",
      "\u001b[0;32m~/miniconda/envs/gda_py3/lib/python3.6/site-packages/matplotlib/image.py\u001b[0m in \u001b[0;36mset_data\u001b[0;34m(self, A)\u001b[0m\n\u001b[1;32m    636\u001b[0m         if not (self._A.ndim == 2\n\u001b[1;32m    637\u001b[0m                 or self._A.ndim == 3 and self._A.shape[-1] in [3, 4]):\n\u001b[0;32m--> 638\u001b[0;31m             \u001b[0;32mraise\u001b[0m \u001b[0mTypeError\u001b[0m\u001b[0;34m(\u001b[0m\u001b[0;34m\"Invalid dimensions for image data\"\u001b[0m\u001b[0;34m)\u001b[0m\u001b[0;34m\u001b[0m\u001b[0;34m\u001b[0m\u001b[0m\n\u001b[0m\u001b[1;32m    639\u001b[0m \u001b[0;34m\u001b[0m\u001b[0m\n\u001b[1;32m    640\u001b[0m         \u001b[0;32mif\u001b[0m \u001b[0mself\u001b[0m\u001b[0;34m.\u001b[0m\u001b[0m_A\u001b[0m\u001b[0;34m.\u001b[0m\u001b[0mndim\u001b[0m \u001b[0;34m==\u001b[0m \u001b[0;36m3\u001b[0m\u001b[0;34m:\u001b[0m\u001b[0;34m\u001b[0m\u001b[0;34m\u001b[0m\u001b[0m\n",
      "\u001b[0;31mTypeError\u001b[0m: Invalid dimensions for image data"
     ]
    },
    {
     "data": {
      "image/png": "[encoded data removed]",
      "text/plain": [
       "<Figure size 432x288 with 1 Axes>"
      ]
     },
     "metadata": {
      "needs_background": "light"
     },
     "output_type": "display_data"
    }
   ],
   "source": [
    "plt.imshow(v)"
   ]
  },
  {
   "cell_type": "code",
   "execution_count": 13,
   "metadata": {},
   "outputs": [
    {
     "name": "stdout",
     "output_type": "stream",
     "text": [
      "0.0\n",
      "0.05\n",
      "0.1\n",
      "0.15000000000000002\n",
      "0.2\n",
      "0.25\n",
      "0.30000000000000004\n",
      "0.35000000000000003\n",
      "0.4\n",
      "0.45\n",
      "0.5\n",
      "0.55\n",
      "0.6000000000000001\n",
      "0.65\n",
      "0.7000000000000001\n",
      "0.75\n",
      "0.8\n",
      "0.8500000000000001\n",
      "0.9\n",
      "0.9500000000000001\n",
      "1.0\n",
      "1.05\n",
      "1.1\n",
      "1.1500000000000001\n",
      "1.2000000000000002\n",
      "1.25\n",
      "1.3\n",
      "1.35\n",
      "1.4000000000000001\n",
      "1.4500000000000002\n",
      "1.5\n",
      "1.55\n",
      "1.6\n",
      "1.6500000000000001\n",
      "1.7000000000000002\n",
      "1.75\n",
      "1.8\n",
      "1.85\n",
      "1.9000000000000001\n",
      "1.9500000000000002\n",
      "2.0\n",
      "2.0500000000000003\n",
      "2.1\n",
      "2.15\n",
      "2.2\n",
      "2.25\n",
      "2.3000000000000003\n",
      "2.35\n",
      "2.4000000000000004\n",
      "2.45\n",
      "2.5\n",
      "2.5500000000000003\n",
      "2.6\n",
      "2.6500000000000004\n",
      "2.7\n",
      "2.75\n",
      "2.8000000000000003\n",
      "2.85\n",
      "2.9000000000000004\n",
      "2.95\n",
      "3.0\n",
      "3.0500000000000003\n",
      "3.1\n",
      "3.1500000000000004\n",
      "3.2\n",
      "3.25\n",
      "3.3000000000000003\n",
      "3.35\n",
      "3.4000000000000004\n",
      "3.45\n",
      "3.5\n",
      "3.5500000000000003\n",
      "3.6\n",
      "3.6500000000000004\n",
      "3.7\n",
      "3.75\n",
      "3.8000000000000003\n",
      "3.85\n",
      "3.9000000000000004\n",
      "3.95\n",
      "4.0\n",
      "4.05\n",
      "4.1000000000000005\n",
      "4.15\n",
      "4.2\n",
      "4.25\n",
      "4.3\n",
      "4.3500000000000005\n",
      "4.4\n",
      "4.45\n",
      "4.5\n",
      "4.55\n",
      "4.6000000000000005\n",
      "4.65\n",
      "4.7\n",
      "4.75\n",
      "4.800000000000001\n",
      "4.8500000000000005\n",
      "4.9\n",
      "4.95\n",
      "5.0\n",
      "5.050000000000001\n",
      "5.1000000000000005\n",
      "5.15\n",
      "5.2\n",
      "5.25\n",
      "5.300000000000001\n",
      "5.3500000000000005\n",
      "5.4\n",
      "5.45\n",
      "5.5\n",
      "5.550000000000001\n",
      "5.6000000000000005\n",
      "5.65\n",
      "5.7\n",
      "5.75\n",
      "5.800000000000001\n",
      "5.8500000000000005\n",
      "5.9\n",
      "5.95\n",
      "6.0\n",
      "6.050000000000001\n",
      "6.1000000000000005\n",
      "6.15\n",
      "6.2\n",
      "6.25\n",
      "6.300000000000001\n",
      "6.3500000000000005\n",
      "6.4\n",
      "6.45\n",
      "6.5\n",
      "6.550000000000001\n",
      "6.6000000000000005\n",
      "6.65\n",
      "6.7\n",
      "6.75\n",
      "6.800000000000001\n",
      "6.8500000000000005\n",
      "6.9\n",
      "6.95\n",
      "7.0\n",
      "7.050000000000001\n",
      "7.1000000000000005\n",
      "7.15\n",
      "7.2\n",
      "7.25\n",
      "7.300000000000001\n",
      "7.3500000000000005\n",
      "7.4\n",
      "7.45\n",
      "7.5\n",
      "7.550000000000001\n",
      "7.6000000000000005\n",
      "7.65\n",
      "7.7\n",
      "7.75\n",
      "7.800000000000001\n",
      "7.8500000000000005\n",
      "7.9\n",
      "7.95\n",
      "8.0\n",
      "8.05\n",
      "8.1\n",
      "8.15\n",
      "8.200000000000001\n",
      "8.25\n",
      "8.3\n",
      "8.35\n",
      "8.4\n",
      "8.450000000000001\n",
      "8.5\n",
      "8.55\n",
      "8.6\n",
      "8.65\n",
      "8.700000000000001\n",
      "8.75\n",
      "8.8\n",
      "8.85\n",
      "8.9\n",
      "8.950000000000001\n",
      "9.0\n",
      "9.05\n",
      "9.1\n",
      "9.15\n",
      "9.200000000000001\n",
      "9.25\n",
      "9.3\n",
      "9.35\n",
      "9.4\n",
      "9.450000000000001\n",
      "9.5\n",
      "9.55\n",
      "9.600000000000001\n",
      "9.65\n",
      "9.700000000000001\n",
      "9.75\n",
      "9.8\n",
      "9.850000000000001\n",
      "9.9\n",
      "9.950000000000001\n",
      "10.0\n"
     ]
    }
   ],
   "source": [
    "fig, ax = plt.subplots(1)\n",
    "\n",
    "for i in t:\n",
    "    ut=np.reshape(uvsol.sol(i)[:N].T, (n,n))\n",
    "    vt=np.reshape(uvsol.sol(i)[N:2*N], (n,n))a\n",
    "    u[:,:,i+1]=np.real(np.fft.ifft2(ut))\n",
    "    v[:,:,i+1]=np.real(np.fft.ifft2(vt))\n"
   ]
  },
  {
   "cell_type": "code",
   "execution_count": 10,
   "metadata": {},
   "outputs": [
    {
     "data": {
      "text/plain": [
       "  message: 'The solver successfully reached the end of the integration interval.'\n",
       "     nfev: 152\n",
       "     njev: 0\n",
       "      nlu: 0\n",
       "      sol: <scipy.integrate._ivp.common.OdeSolution object at 0x7fb9b26a1550>\n",
       "   status: 0\n",
       "  success: True\n",
       "        t: array([0.        , 0.0010161 , 0.00203221, 0.00315733, 0.00435708,\n",
       "       0.00571297, 0.00727889, 0.0090731 , 0.01106676, 0.01323044,\n",
       "       0.01556407, 0.01804881, 0.0206112 , 0.02336264, 0.02646506,\n",
       "       0.02994835, 0.033854  , 0.03745021, 0.04001184, 0.04257346,\n",
       "       0.04524611, 0.04794101, 0.05      ])\n",
       " t_events: None\n",
       "        y: array([[ 199.29961096    +0.j        ,  199.08913474    +0.j        ,\n",
       "         198.88057038    +0.j        , ...,\n",
       "         190.48143787    +0.j        ,  189.97339063    +0.j        ,\n",
       "         189.58603205    +0.j        ],\n",
       "       [-148.67401334 -3747.41876627j, -149.08030921 -3746.12941139j,\n",
       "        -149.48861108 -3744.85388648j, ...,\n",
       "        -167.17414666 -3693.80663346j, -168.28205719 -3690.71196377j,\n",
       "        -169.12851382 -3688.35060235j],\n",
       "       [-128.60119669 +2117.12130377j, -128.74379733 +2105.45675227j,\n",
       "        -128.88626823 +2093.83986368j, ...,\n",
       "        -134.75309574 +1613.60504384j, -135.1060947  +1584.23108045j,\n",
       "        -135.37477872 +1561.82526763j],\n",
       "       ...,\n",
       "       [ 197.65116028-36192.20125337j,  197.84994222-36166.12694001j,\n",
       "         198.05001365-36140.00655853j, ...,\n",
       "         206.73850916-35004.68732116j,  207.28075684-34932.51123839j,\n",
       "         207.69475794-34877.26416806j],\n",
       "       [ 202.50755912-23106.35417524j,  202.82401042-23124.43889327j,\n",
       "         203.14232259-23142.50269006j, ...,\n",
       "         216.99538659-23888.00714723j,  217.86432138-23932.99518529j,\n",
       "         218.52816913-23967.2477573j ],\n",
       "       [ -51.99254881 +2535.98444299j,  -51.64501981 +2523.82215525j,\n",
       "         -51.29636782 +2511.63164413j, ...,\n",
       "         -36.2123919  +1986.09608472j,  -35.26297291 +1953.05391926j,\n",
       "         -34.53709354 +1927.79238649j]])\n",
       " y_events: None"
      ]
     },
     "execution_count": 10,
     "metadata": {},
     "output_type": "execute_result"
    }
   ],
   "source": [
    "uvsol"
   ]
  },
  {
   "cell_type": "markdown",
   "metadata": {},
   "source": [
    "## Kuramoto-Sivashinsky equation"
   ]
  },
  {
   "cell_type": "code",
   "execution_count": null,
   "metadata": {},
   "outputs": [],
   "source": [
    "def ks():\n",
    "    \n",
    "    return"
   ]
  },
  {
   "cell_type": "markdown",
   "metadata": {},
   "source": [
    "#### 1. Train a NN that can advance the solution from t to t + ∆t for the KS equation"
   ]
  },
  {
   "cell_type": "code",
   "execution_count": null,
   "metadata": {},
   "outputs": [],
   "source": []
  },
  {
   "cell_type": "markdown",
   "metadata": {},
   "source": [
    "#### 2. Compare your evolution trajectories for your NN against using the ODE time-stepper provided with different initial conditions"
   ]
  },
  {
   "cell_type": "code",
   "execution_count": null,
   "metadata": {},
   "outputs": [],
   "source": []
  },
  {
   "cell_type": "markdown",
   "metadata": {},
   "source": [
    "#### 3. For the reaction-diffusion system, first project to a low-dimensional subspace via the SVD and see how forecasting works in the low-rank variables."
   ]
  },
  {
   "cell_type": "markdown",
   "metadata": {},
   "source": [
    "## Lorenz equations"
   ]
  },
  {
   "cell_type": "code",
   "execution_count": null,
   "metadata": {},
   "outputs": [],
   "source": [
    "def lorenz_deriv(x_y_z, t0, sigma, beta, rho):\n",
    "    x, y, z = x_y_z\n",
    "    return [sigma * (y - x), x * (rho - z) - y, x * y - beta * z]"
   ]
  },
  {
   "cell_type": "code",
   "execution_count": null,
   "metadata": {},
   "outputs": [],
   "source": [
    "dt = 0.01\n",
    "T = 8\n",
    "t = np.arange(0,T+dt,dt)\n",
    "beta = 8/3\n",
    "sigma = 10\n",
    "rho = 28"
   ]
  },
  {
   "cell_type": "markdown",
   "metadata": {},
   "source": [
    "#### 1. Train a NN to advance the solution from t to t+∆t for ρ=10, 28 and 40. Now see how well your NN works for future state prediction for ρ = 17 and ρ = 35."
   ]
  },
  {
   "cell_type": "code",
   "execution_count": null,
   "metadata": {},
   "outputs": [],
   "source": []
  },
  {
   "cell_type": "markdown",
   "metadata": {},
   "source": [
    "#### 2. See if you can train your NN to identify (for ρ = 28) when a transition from one lobe to another is imminent. Determine how far in advance you can make this prediction. (NOTE: you will have to label the transitions in a test set in order to do this task)"
   ]
  },
  {
   "cell_type": "code",
   "execution_count": null,
   "metadata": {},
   "outputs": [],
   "source": []
  },
  {
   "cell_type": "code",
   "execution_count": 18,
   "metadata": {},
   "outputs": [
    {
     "name": "stdout",
     "output_type": "stream",
     "text": [
      "0.1\n",
      "0.2\n",
      "0.5\n"
     ]
    }
   ],
   "source": [
    "# odeint example\n",
    "\n",
    "y0=5\n",
    "\n",
    "def model(y, t, k):\n",
    "    dydt = -k * y\n",
    "    return dydt\n",
    "\n",
    "\n",
    "t=np.linspace(0,20)\n",
    "\n",
    "ks=np.array([0.1, 0.2, 0.5])\n",
    "ys=[]\n",
    "\n",
    "for k in ks:\n",
    "    print(k)\n",
    "    y=odeint(model, y0, t, args=(k,))\n",
    "    ys.append(y)\n",
    "ys=(np.array(ys))"
   ]
  },
  {
   "cell_type": "code",
   "execution_count": 19,
   "metadata": {},
   "outputs": [
    {
     "name": "stdout",
     "output_type": "stream",
     "text": [
      "(50, 1)\n",
      "(50, 1)\n",
      "(50, 1)\n"
     ]
    },
    {
     "data": {
      "image/png": "[encoded data removed]",
      "text/plain": [
       "<Figure size 432x288 with 1 Axes>"
      ]
     },
     "metadata": {
      "needs_background": "light"
     },
     "output_type": "display_data"
    }
   ],
   "source": [
    "lss=['r-', 'b--', 'g:']\n",
    "for k, y, ls in zip(ks, ys, lss):\n",
    "    print(y.shape)\n",
    "    plt.plot(t, y, ls, linewidth=2, label='k='+str(k))\n",
    "plt.xlabel('time')\n",
    "plt.ylabel('y(t)')\n",
    "plt.legend()\n",
    "plt.show()    "
   ]
  }
 ],
 "metadata": {
  "kernelspec": {
   "display_name": "gda_py3",
   "language": "python",
   "name": "gda_py3"
  },
  "language_info": {
   "codemirror_mode": {
    "name": "ipython",
    "version": 3
   },
   "file_extension": ".py",
   "mimetype": "text/x-python",
   "name": "python",
   "nbconvert_exporter": "python",
   "pygments_lexer": "ipython3",
   "version": "3.6.7"
  }
 },
 "nbformat": 4,
 "nbformat_minor": 2
}
