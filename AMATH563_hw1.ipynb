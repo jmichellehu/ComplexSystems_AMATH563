{
 "cells": [
  {
   "cell_type": "code",
   "execution_count": 4,
   "metadata": {},
   "outputs": [],
   "source": [
    "data_dir=\"/Users/michellehu/git_dirs/ComplexSystems_AMATH563/data/\""
   ]
  },
  {
   "cell_type": "code",
   "execution_count": 32,
   "metadata": {
    "scrolled": true
   },
   "outputs": [
    {
     "name": "stdout",
     "output_type": "stream",
     "text": [
      "Missing /Users/michellehu/git_dirs/ComplexSystems_AMATH563/data/t10k-labels-idx1-ubyte.gz\n",
      "Downloading now...\n",
      "--2020-04-02 15:00:00--  http://yann.lecun.com/exdb/mnist/t10k-labels-idx1-ubyte.gz\n",
      "Resolving yann.lecun.com (yann.lecun.com)... 2606:4700:3031::681c:6cc, 2606:4700:3033::681c:7cc, 104.28.7.204, ...\n",
      "Connecting to yann.lecun.com (yann.lecun.com)|2606:4700:3031::681c:6cc|:80... connected.\n",
      "HTTP request sent, awaiting response... 200 OK\n",
      "Length: 4542 (4.4K) [application/x-gzip]\n",
      "Saving to: ‘/Users/michellehu/git_dirs/ComplexSystems_AMATH563/data/t10k-labels-idx1-ubyte.gz’\n",
      "\n",
      "/Users/michellehu/g 100%[===================>]   4.44K  --.-KB/s    in 0s      \n",
      "\n",
      "2020-04-02 15:00:01 (167 MB/s) - ‘/Users/michellehu/git_dirs/ComplexSystems_AMATH563/data/t10k-labels-idx1-ubyte.gz’ saved [4542/4542]\n",
      "\n",
      "Missing /Users/michellehu/git_dirs/ComplexSystems_AMATH563/data/t10k-images-idx3-ubyte.gz\n",
      "Downloading now...\n",
      "--2020-04-02 15:00:01--  http://yann.lecun.com/exdb/mnist/t10k-images-idx3-ubyte.gz\n",
      "Resolving yann.lecun.com (yann.lecun.com)... 2606:4700:3031::681c:6cc, 2606:4700:3033::681c:7cc, 104.28.7.204, ...\n",
      "Connecting to yann.lecun.com (yann.lecun.com)|2606:4700:3031::681c:6cc|:80... connected.\n",
      "HTTP request sent, awaiting response... 200 OK\n",
      "Length: 1648877 (1.6M) [application/x-gzip]\n",
      "Saving to: ‘/Users/michellehu/git_dirs/ComplexSystems_AMATH563/data/t10k-images-idx3-ubyte.gz’\n",
      "\n",
      "/Users/michellehu/g 100%[===================>]   1.57M  4.33MB/s    in 0.4s    \n",
      "\n",
      "2020-04-02 15:00:02 (4.33 MB/s) - ‘/Users/michellehu/git_dirs/ComplexSystems_AMATH563/data/t10k-images-idx3-ubyte.gz’ saved [1648877/1648877]\n",
      "\n",
      "Missing /Users/michellehu/git_dirs/ComplexSystems_AMATH563/data/train-labels-idx1-ubyte.gz\n",
      "Downloading now...\n",
      "--2020-04-02 15:00:02--  http://yann.lecun.com/exdb/mnist/train-labels-idx1-ubyte.gz\n",
      "Resolving yann.lecun.com (yann.lecun.com)... 2606:4700:3031::681c:6cc, 2606:4700:3033::681c:7cc, 104.28.7.204, ...\n",
      "Connecting to yann.lecun.com (yann.lecun.com)|2606:4700:3031::681c:6cc|:80... connected.\n",
      "HTTP request sent, awaiting response... 200 OK\n",
      "Length: 28881 (28K) [application/x-gzip]\n",
      "Saving to: ‘/Users/michellehu/git_dirs/ComplexSystems_AMATH563/data/train-labels-idx1-ubyte.gz’\n",
      "\n",
      "/Users/michellehu/g 100%[===================>]  28.20K  --.-KB/s    in 0s      \n",
      "\n",
      "2020-04-02 15:00:02 (138 MB/s) - ‘/Users/michellehu/git_dirs/ComplexSystems_AMATH563/data/train-labels-idx1-ubyte.gz’ saved [28881/28881]\n",
      "\n",
      "Missing /Users/michellehu/git_dirs/ComplexSystems_AMATH563/data/train-images-idx3-ubyte.gz\n",
      "Downloading now...\n",
      "--2020-04-02 15:00:03--  http://yann.lecun.com/exdb/mnist/train-images-idx3-ubyte.gz\n",
      "Resolving yann.lecun.com (yann.lecun.com)... 2606:4700:3031::681c:6cc, 2606:4700:3033::681c:7cc, 104.28.7.204, ...\n",
      "Connecting to yann.lecun.com (yann.lecun.com)|2606:4700:3031::681c:6cc|:80... connected.\n",
      "HTTP request sent, awaiting response... 200 OK\n",
      "Length: 9912422 (9.5M) [application/x-gzip]\n",
      "Saving to: ‘/Users/michellehu/git_dirs/ComplexSystems_AMATH563/data/train-images-idx3-ubyte.gz’\n",
      "\n",
      "/Users/michellehu/g 100%[===================>]   9.45M  6.50MB/s    in 1.5s    \n",
      "\n",
      "2020-04-02 15:00:05 (6.50 MB/s) - ‘/Users/michellehu/git_dirs/ComplexSystems_AMATH563/data/train-images-idx3-ubyte.gz’ saved [9912422/9912422]\n",
      "\n"
     ]
    }
   ],
   "source": [
    "# Download data if you haven't already\n",
    "import os\n",
    "gz_fns=[\"t10k-labels-idx1-ubyte.gz\", \"t10k-images-idx3-ubyte.gz\", \"train-labels-idx1-ubyte.gz\", \"train-images-idx3-ubyte.gz\"]\n",
    "data_paths=[data_dir + gz for gz in gz_fns]\n",
    "data_sources=[\"http://yann.lecun.com/exdb/mnist/\" + gz for gz in gz_fns]\n",
    "data_sources\n",
    "for f, source in zip(data_paths, data_sources):\n",
    "    if os.path.exists(f):\n",
    "        print(\"Exists!\")\n",
    "    else:\n",
    "        print(\"Missing\", f)\n",
    "        print(\"Downloading now...\")\n",
    "        !wget -O $f $source"
   ]
  },
  {
   "cell_type": "code",
   "execution_count": 6,
   "metadata": {},
   "outputs": [],
   "source": [
    "# From https://github.com/daniel-e/mnist_octave/blob/master/mnist.py\n",
    "import struct, gzip\n",
    "import scipy.io\n",
    "import numpy as np\n",
    "\n",
    "def loadY(fnlabel):\n",
    "    f = gzip.open(fnlabel, 'rb')\n",
    "    f.read(8)\n",
    "    return np.frombuffer(f.read(), dtype = np.uint8)\n",
    "\n",
    "def loadX(fnimg):\n",
    "    f = gzip.open(fnimg, 'rb')\n",
    "    f.read(16)\n",
    "    return np.frombuffer(f.read(), dtype = np.uint8).reshape((-1, 28*28))"
   ]
  },
  {
   "cell_type": "code",
   "execution_count": 34,
   "metadata": {},
   "outputs": [],
   "source": [
    "# Unzip, reformat and reshape\n",
    "trainX = loadX(data_dir+\"train-images-idx3-ubyte.gz\")\n",
    "trainY = loadY(data_dir+\"train-labels-idx1-ubyte.gz\")\n",
    "testX = loadX(data_dir+\"t10k-images-idx3-ubyte.gz\")\n",
    "testY = loadY(data_dir+\"t10k-labels-idx1-ubyte.gz\")"
   ]
  },
  {
   "cell_type": "code",
   "execution_count": 42,
   "metadata": {},
   "outputs": [
    {
     "name": "stdout",
     "output_type": "stream",
     "text": [
      "(784,)\n",
      "(28, 28)\n",
      "28*28 = 784\n"
     ]
    }
   ],
   "source": [
    "# double check that these reshapings make sense\n",
    "print(trainX[0].shape)\n",
    "print(trainX[0].reshape(28,28).shape)\n",
    "print(\"28*28 =\", 28*28)"
   ]
  },
  {
   "cell_type": "code",
   "execution_count": 44,
   "metadata": {},
   "outputs": [
    {
     "name": "stdout",
     "output_type": "stream",
     "text": [
      "(60000, 784)\n",
      "(60000,)\n",
      "(10000, 784)\n",
      "(10000,)\n"
     ]
    }
   ],
   "source": [
    "# Check sizes of train and test datasets and labels\n",
    "print(trainX.shape)\n",
    "print(trainY.shape)\n",
    "print(testX.shape)\n",
    "print(testY.shape)"
   ]
  },
  {
   "cell_type": "code",
   "execution_count": 45,
   "metadata": {},
   "outputs": [
    {
     "name": "stdout",
     "output_type": "stream",
     "text": [
      "Digits:  0 1 2 3 4 5 6 7 8 9\n",
      "labels: [0 1 2 3 4 5 6 7 8 9]\n",
      "Class distribution: [5923 6742 5958 6131 5842 5421 5918 6265 5851 5949]\n"
     ]
    }
   ],
   "source": [
    "# Look at class distribution\n",
    "# http://rasbt.github.io/mlxtend/user_guide/data/loadlocal_mnist/\n",
    "print('Digits:  0 1 2 3 4 5 6 7 8 9')\n",
    "print('labels: %s' % np.unique(trainY))\n",
    "print('Class distribution: %s' % np.bincount(trainY))"
   ]
  },
  {
   "cell_type": "code",
   "execution_count": 59,
   "metadata": {},
   "outputs": [
    {
     "name": "stdout",
     "output_type": "stream",
     "text": [
      "<class 'int'>\n",
      "label:  0  in one-hot representation:  [1 0 0 0 0 0 0 0 0 0]\n",
      "<class 'int'>\n",
      "label:  1  in one-hot representation:  [0 1 0 0 0 0 0 0 0 0]\n",
      "<class 'int'>\n",
      "label:  2  in one-hot representation:  [0 0 1 0 0 0 0 0 0 0]\n",
      "<class 'int'>\n",
      "label:  3  in one-hot representation:  [0 0 0 1 0 0 0 0 0 0]\n",
      "<class 'int'>\n",
      "label:  4  in one-hot representation:  [0 0 0 0 1 0 0 0 0 0]\n",
      "<class 'int'>\n",
      "label:  5  in one-hot representation:  [0 0 0 0 0 1 0 0 0 0]\n",
      "<class 'int'>\n",
      "label:  6  in one-hot representation:  [0 0 0 0 0 0 1 0 0 0]\n",
      "<class 'int'>\n",
      "label:  7  in one-hot representation:  [0 0 0 0 0 0 0 1 0 0]\n",
      "<class 'int'>\n",
      "label:  8  in one-hot representation:  [0 0 0 0 0 0 0 0 1 0]\n",
      "<class 'int'>\n",
      "label:  9  in one-hot representation:  [0 0 0 0 0 0 0 0 0 1]\n"
     ]
    }
   ],
   "source": [
    "# https://www.python-course.eu/neural_network_mnist.php\n",
    "# Turn labels in one-hot representation\n",
    "lr = np.arange(10)\n",
    "\n",
    "for label in range(10):\n",
    "    one_hot = (lr==label).astype(np.int)\n",
    "    print(\"label: \", label, \" in one-hot representation: \", one_hot)"
   ]
  },
  {
   "cell_type": "code",
   "execution_count": 19,
   "metadata": {},
   "outputs": [
    {
     "data": {
      "image/png": "[encoded data removed]",
      "text/plain": [
       "<Figure size 432x288 with 1 Axes>"
      ]
     },
     "metadata": {
      "needs_background": "light"
     },
     "output_type": "display_data"
    },
    {
     "data": {
      "image/png": "[encoded data removed]",
      "text/plain": [
       "<Figure size 432x288 with 1 Axes>"
      ]
     },
     "metadata": {
      "needs_background": "light"
     },
     "output_type": "display_data"
    },
    {
     "data": {
      "image/png": "[encoded data removed]",
      "text/plain": [
       "<Figure size 432x288 with 1 Axes>"
      ]
     },
     "metadata": {
      "needs_background": "light"
     },
     "output_type": "display_data"
    },
    {
     "data": {
      "image/png": "[encoded data removed]",
      "text/plain": [
       "<Figure size 432x288 with 1 Axes>"
      ]
     },
     "metadata": {
      "needs_background": "light"
     },
     "output_type": "display_data"
    },
    {
     "data": {
      "image/png": "[encoded data removed]",
      "text/plain": [
       "<Figure size 432x288 with 1 Axes>"
      ]
     },
     "metadata": {
      "needs_background": "light"
     },
     "output_type": "display_data"
    },
    {
     "data": {
      "image/png": "[encoded data removed]",
      "text/plain": [
       "<Figure size 432x288 with 1 Axes>"
      ]
     },
     "metadata": {
      "needs_background": "light"
     },
     "output_type": "display_data"
    },
    {
     "data": {
      "image/png": "[encoded data removed]",
      "text/plain": [
       "<Figure size 432x288 with 1 Axes>"
      ]
     },
     "metadata": {
      "needs_background": "light"
     },
     "output_type": "display_data"
    },
    {
     "data": {
      "image/png": "[encoded data removed]",
      "text/plain": [
       "<Figure size 432x288 with 1 Axes>"
      ]
     },
     "metadata": {
      "needs_background": "light"
     },
     "output_type": "display_data"
    },
    {
     "data": {
      "image/png": "[encoded data removed]",
      "text/plain": [
       "<Figure size 432x288 with 1 Axes>"
      ]
     },
     "metadata": {
      "needs_background": "light"
     },
     "output_type": "display_data"
    },
    {
     "data": {
      "image/png": "[encoded data removed]",
      "text/plain": [
       "<Figure size 432x288 with 1 Axes>"
      ]
     },
     "metadata": {
      "needs_background": "light"
     },
     "output_type": "display_data"
    }
   ],
   "source": [
    "import matplotlib.pyplot as plt\n",
    "for i in range(10):\n",
    "    img = trainX[i].reshape((28,28))\n",
    "    plt.imshow(img, cmap=\"Greys\")\n",
    "    plt.show()"
   ]
  },
  {
   "cell_type": "code",
   "execution_count": 55,
   "metadata": {},
   "outputs": [],
   "source": [
    "# Convert labels to float type\n",
    "train_labels = np.asfarray(trainY)\n",
    "test_labels = np.asfarray(testY)"
   ]
  },
  {
   "cell_type": "code",
   "execution_count": 70,
   "metadata": {},
   "outputs": [
    {
     "name": "stdout",
     "output_type": "stream",
     "text": [
      "784\n"
     ]
    }
   ],
   "source": [
    "image_size = 28 # width and length\n",
    "no_of_different_labels = 10 #  i.e. 0, 1, 2, 3, ..., 9\n",
    "image_pixels = image_size * image_size\n",
    "print(image_pixels)\n",
    "\n",
    "lr = np.arange(no_of_different_labels)\n",
    "\n",
    "# transform labels into one hot representation\n",
    "train_labels_one_hot = (lr==train_labels.reshape(60000,1)).astype(np.float)\n",
    "test_labels_one_hot = (lr==test_labels.reshape(10000,1)).astype(np.float)\n",
    "\n",
    "# we don't want zeroes and ones in the labels:\n",
    "train_labels_one_hot[train_labels_one_hot==0] = 0.01\n",
    "train_labels_one_hot[train_labels_one_hot==1] = 0.99\n",
    "test_labels_one_hot[test_labels_one_hot==0] = 0.01\n",
    "test_labels_one_hot[test_labels_one_hot==1] = 0.99"
   ]
  },
  {
   "cell_type": "code",
   "execution_count": 73,
   "metadata": {},
   "outputs": [],
   "source": [
    "# Pickling for faster load (probably unecessary right now)\n",
    "import pickle\n",
    "\n",
    "with open(data_dir+\"pickled_mnist.pkl\", \"bw\") as fh:\n",
    "    data = (trainX, \n",
    "            testX, \n",
    "            trainY,\n",
    "            testY,\n",
    "            train_labels_one_hot,\n",
    "            test_labels_one_hot)\n",
    "    pickle.dump(data, fh)"
   ]
  },
  {
   "cell_type": "code",
   "execution_count": 74,
   "metadata": {},
   "outputs": [
    {
     "name": "stdout",
     "output_type": "stream",
     "text": [
      "pickled_mnist.pkl\t   train-images-idx3-ubyte\r\n",
      "t10k-images-idx3-ubyte\t   train-images-idx3-ubyte.gz\r\n",
      "t10k-images-idx3-ubyte.gz  train-labels-idx1-ubyte\r\n",
      "t10k-labels-idx1-ubyte\t   train-labels-idx1-ubyte.gz\r\n",
      "t10k-labels-idx1-ubyte.gz\r\n"
     ]
    }
   ],
   "source": [
    "!ls $data_dir"
   ]
  },
  {
   "cell_type": "code",
   "execution_count": null,
   "metadata": {},
   "outputs": [],
   "source": []
  }
 ],
 "metadata": {
  "kernelspec": {
   "display_name": "gda_py3",
   "language": "python",
   "name": "gda_py3"
  },
  "language_info": {
   "codemirror_mode": {
    "name": "ipython",
    "version": 3
   },
   "file_extension": ".py",
   "mimetype": "text/x-python",
   "name": "python",
   "nbconvert_exporter": "python",
   "pygments_lexer": "ipython3",
   "version": "3.6.7"
  }
 },
 "nbformat": 4,
 "nbformat_minor": 2
}
