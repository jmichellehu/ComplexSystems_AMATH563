{
 "cells": [
  {
   "cell_type": "code",
   "execution_count": 2,
   "metadata": {},
   "outputs": [],
   "source": [
    "import os\n",
    "import gzip\n",
    "import numpy as np\n",
    "from sklearn.linear_model import *\n",
    "\n",
    "import pickle\n",
    "\n",
    "import seaborn as sns\n",
    "import matplotlib.pyplot as plt\n",
    "from sklearn import metrics"
   ]
  },
  {
   "cell_type": "code",
   "execution_count": 3,
   "metadata": {},
   "outputs": [],
   "source": [
    "data_dir=\"/Users/michellehu/git_dirs/ComplexSystems_AMATH563/data/\""
   ]
  },
  {
   "cell_type": "markdown",
   "metadata": {},
   "source": [
    "## Preprocessing and dataset exploration"
   ]
  },
  {
   "cell_type": "code",
   "execution_count": 6,
   "metadata": {
    "scrolled": true
   },
   "outputs": [
    {
     "name": "stdout",
     "output_type": "stream",
     "text": [
      "Exists!\n",
      "Exists!\n",
      "Exists!\n",
      "Exists!\n"
     ]
    }
   ],
   "source": [
    "# Download data if you haven't already\n",
    "gz_fns=[\"t10k-labels-idx1-ubyte.gz\", \n",
    "        \"t10k-images-idx3-ubyte.gz\", \n",
    "        \"train-labels-idx1-ubyte.gz\", \n",
    "        \"train-images-idx3-ubyte.gz\"]\n",
    "data_paths=[data_dir + gz for gz in gz_fns]\n",
    "data_sources=[\"http://yann.lecun.com/exdb/mnist/\" + gz for gz in gz_fns]\n",
    "data_sources\n",
    "for f, source in zip(data_paths, data_sources):\n",
    "    if os.path.exists(f):\n",
    "        print(\"Exists!\")\n",
    "    else:\n",
    "        print(\"Missing\", f)\n",
    "        print(\"Downloading now...\")\n",
    "        !wget -O $f $source"
   ]
  },
  {
   "cell_type": "code",
   "execution_count": 7,
   "metadata": {},
   "outputs": [],
   "source": [
    "# From https://github.com/daniel-e/mnist_octave/blob/master/mnist.py\n",
    "def loadY(fnlabel):\n",
    "    f = gzip.open(fnlabel, 'rb')\n",
    "    f.read(8)\n",
    "    return np.frombuffer(f.read(), dtype = np.uint8)\n",
    "\n",
    "def loadX(fnimg):\n",
    "    f = gzip.open(fnimg, 'rb')\n",
    "    f.read(16)\n",
    "    return np.frombuffer(f.read(), dtype = np.uint8).reshape((-1, 28*28))\n",
    "\n",
    "# Unzip, reformat and reshape\n",
    "trainX = loadX(data_dir+\"train-images-idx3-ubyte.gz\")\n",
    "trainY = loadY(data_dir+\"train-labels-idx1-ubyte.gz\")\n",
    "testX = loadX(data_dir+\"t10k-images-idx3-ubyte.gz\")\n",
    "testY = loadY(data_dir+\"t10k-labels-idx1-ubyte.gz\")"
   ]
  },
  {
   "cell_type": "code",
   "execution_count": 8,
   "metadata": {},
   "outputs": [
    {
     "name": "stdout",
     "output_type": "stream",
     "text": [
      "(784,)\n",
      "(28, 28)\n",
      "28*28 = 784\n",
      "train A: (60000, 784)\n",
      "train B: (60000,)\n",
      "test A: (10000, 784)\n",
      "test B: (10000,)\n"
     ]
    }
   ],
   "source": [
    "# double check that these reshapings make sense\n",
    "print(trainX[0].shape)\n",
    "print(trainX[0].reshape(28,28).shape)\n",
    "print(\"28*28 =\", 28*28)\n",
    "\n",
    "# Check sizes of train and test datasets and labels\n",
    "print(\"train A:\", trainX.shape)\n",
    "print(\"train B:\", trainY.shape)\n",
    "print(\"test A:\", testX.shape)\n",
    "print(\"test B:\", testY.shape)"
   ]
  },
  {
   "cell_type": "code",
   "execution_count": 9,
   "metadata": {},
   "outputs": [
    {
     "name": "stdout",
     "output_type": "stream",
     "text": [
      "Digits:  0 1 2 3 4 5 6 7 8 9\n",
      "labels: [0 1 2 3 4 5 6 7 8 9]\n",
      "Class distribution: [5923 6742 5958 6131 5842 5421 5918 6265 5851 5949]\n"
     ]
    }
   ],
   "source": [
    "# Look at class distribution\n",
    "# http://rasbt.github.io/mlxtend/user_guide/data/loadlocal_mnist/\n",
    "print('Digits:  0 1 2 3 4 5 6 7 8 9')\n",
    "print('labels: %s' % np.unique(trainY))\n",
    "print('Class distribution: %s' % np.bincount(trainY))"
   ]
  },
  {
   "cell_type": "code",
   "execution_count": 10,
   "metadata": {
    "scrolled": true
   },
   "outputs": [
    {
     "data": {
      "image/png": "[encoded data removed]",
      "text/plain": [
       "<Figure size 1152x288 with 10 Axes>"
      ]
     },
     "metadata": {},
     "output_type": "display_data"
    }
   ],
   "source": [
    "# Check out some digits\n",
    "plt.figure(figsize=(16,4))\n",
    "for i in range(10):\n",
    "    ax = plt.subplot(1, 10, i + 1)\n",
    "    img = trainX[i].reshape((28,28))\n",
    "    ax.imshow(img, cmap=\"Greys\")\n",
    "    ax.set_xticks(())\n",
    "    ax.set_yticks(())"
   ]
  },
  {
   "cell_type": "markdown",
   "metadata": {},
   "source": [
    "---"
   ]
  },
  {
   "cell_type": "markdown",
   "metadata": {},
   "source": [
    "# Set up homework"
   ]
  },
  {
   "cell_type": "code",
   "execution_count": 11,
   "metadata": {},
   "outputs": [
    {
     "name": "stdout",
     "output_type": "stream",
     "text": [
      "(60000, 784)\n",
      "(60000,)\n"
     ]
    }
   ],
   "source": [
    "# A is the vectorized MNIST training images\n",
    "A=trainX.copy()\n",
    "print(A.shape)\n",
    "\n",
    "# B is the set of output vectors\n",
    "B=trainY.copy()\n",
    "print(B.shape)"
   ]
  },
  {
   "cell_type": "markdown",
   "metadata": {},
   "source": [
    "### Question 1."
   ]
  },
  {
   "cell_type": "markdown",
   "metadata": {},
   "source": [
    "Using various AX=B solvers, determine a mapping from the image space (A) to the label space (B)"
   ]
  },
  {
   "cell_type": "code",
   "execution_count": 12,
   "metadata": {},
   "outputs": [
    {
     "name": "stdout",
     "output_type": "stream",
     "text": [
      "CPU times: user 29 µs, sys: 1 µs, total: 30 µs\n",
      "Wall time: 31.9 µs\n"
     ]
    }
   ],
   "source": [
    "%%time\n",
    "\n",
    "# Instantiate logistic regression models\n",
    "\n",
    "# with elasticnet regularization and saga solver\n",
    "saga=LogisticRegression(solver=\"saga\", C=1, n_jobs=4, tol=0.01)\n",
    "saga_elastic_L1=LogisticRegression(solver=\"saga\",  C=0.01, penalty=\"elasticnet\", l1_ratio=1, n_jobs=4, tol=0.01)\n",
    "saga_elastic_L2=LogisticRegression(solver=\"saga\",  C=0.01, penalty=\"elasticnet\", l1_ratio=0, n_jobs=4, tol=0.01)\n",
    "saga_elastic_mix=LogisticRegression(solver=\"saga\",  C=0.01, penalty=\"elasticnet\", l1_ratio=0.8, n_jobs=4, tol=0.01)\n",
    "\n",
    "# with stochastic gradient descent\n",
    "sgd_elastic_L1=LogisticRegression(solver=\"sag\", C=0.01, penalty=\"l1\", n_jobs=4, tol=0.01)\n",
    "sgd_elastic_L2=LogisticRegression(solver=\"sag\", C=0.01, penalty=\"l2\", n_jobs=4, tol=0.01)\n",
    "\n",
    "\n",
    "solvers = [saga,\n",
    "           saga_elastic_L1, \n",
    "           saga_elastic_L2,\n",
    "           saga_elastic_mix,\n",
    "           sgd_elastic_L1,\n",
    "           sgd_elastic_L2\n",
    "          ]\n",
    "\n",
    "sparse_only = [ saga_elastic_L1, \n",
    "               saga_elastic_mix,\n",
    "               sgd_elastic_L1,\n",
    "          ]"
   ]
  },
  {
   "cell_type": "code",
   "execution_count": null,
   "metadata": {},
   "outputs": [],
   "source": [
    "def optimize(model, x_train, y_train, x_test, y_test, cv=None):\n",
    "    '''\n",
    "    model = model instance to use with specified solver, regularization etc.\n",
    "    x = samples, features; these are observations (images) with # samples = # measurements and features being the attributes of that measurement\n",
    "    y = samples; these are the _labels_ for the observations of same size as samples\n",
    "    '''\n",
    "    model.fit(x_train, y_train)\n",
    "    predictions=model.predict(x_test)\n",
    "    score=model.score(x_test, y_test)\n",
    "    \n",
    "    if cv is not None:\n",
    "        from sklearn.model_selection import cross_val_score\n",
    "        # Run cv number of simulations using k-fold cross validation approach\n",
    "        cv_scores=cross_val_score(model, x_train, y_train, cv=cv)\n",
    "        return (model, predictions, score, cv_scores)    \n",
    "    else:\n",
    "        return (model, predictions, score)"
   ]
  },
  {
   "cell_type": "code",
   "execution_count": null,
   "metadata": {},
   "outputs": [],
   "source": [
    "%%time\n",
    "model=saga_elastic_L1\n",
    "trained_model, pred, acc = optimize(model, A, B, testX, testY)\n",
    "print(\"model trained\")"
   ]
  },
  {
   "cell_type": "code",
   "execution_count": null,
   "metadata": {},
   "outputs": [],
   "source": [
    "%%time\n",
    "saga_elastic_L1_01=LogisticRegression(solver=\"saga\", penalty=\"elasticnet\", l1_ratio=1, n_jobs=4, tol=0.01)\n",
    "model=saga_elastic_L1_01\n",
    "\n",
    "trained_model_01, pred_01, acc_01 = optimize(model, A, B, testX, testY)\n",
    "\n",
    "print(\"model trained\")\n"
   ]
  },
  {
   "cell_type": "code",
   "execution_count": null,
   "metadata": {},
   "outputs": [],
   "source": [
    "coef=trained_model.coef_\n",
    "coef=coef.reshape(10,28,28)\n",
    "\n",
    "fig, axes = plt.subplots(2, 5, sharex=True, sharey=True)\n",
    "\n",
    "for i, ax in enumerate(axes.flat):\n",
    "    ax.set_axis_off()\n",
    "    im = ax.imshow(coef[i], vmin=-0.01, vmax=0.006)\n",
    "    ax.set_title(i)\n",
    "    \n",
    "cb_ax=fig.add_axes([0.92, 0.1, 0.03, 0.8])\n",
    "cbar=fig.colorbar(im, cax=cb_ax)"
   ]
  },
  {
   "cell_type": "markdown",
   "metadata": {},
   "source": [
    "### with no regularization C=1"
   ]
  },
  {
   "cell_type": "code",
   "execution_count": null,
   "metadata": {},
   "outputs": [],
   "source": [
    "coef=trained_model_01.coef_\n",
    "coef=coef.reshape(10,28,28)\n",
    "cmin=coef.min()\n",
    "cmax=coef.max()\n",
    "\n",
    "fig, axes = plt.subplots(2, 5, sharex=True, sharey=True)\n",
    "\n",
    "for i, ax in enumerate(axes.flat):\n",
    "    ax.set_axis_off()\n",
    "    im = ax.imshow(coef[i], vmin=cmin, vmax=cmax, cmap=\"RdBu\")\n",
    "    ax.set_title(i)\n",
    "    \n",
    "cb_ax=fig.add_axes([0.92, 0.1, 0.03, 0.8])\n",
    "cbar=fig.colorbar(im, cax=cb_ax)"
   ]
  },
  {
   "cell_type": "markdown",
   "metadata": {},
   "source": [
    "### With strong regularization C=0.01"
   ]
  },
  {
   "cell_type": "code",
   "execution_count": null,
   "metadata": {},
   "outputs": [],
   "source": []
  },
  {
   "cell_type": "code",
   "execution_count": null,
   "metadata": {},
   "outputs": [],
   "source": [
    "# Compute losses\n",
    "def compute_loss(model, predictions, testX, testY):\n",
    "    report=metrics.classification_report(testY, predictions)\n",
    "    matrix=metrics.confusion_matrix(testY, predictions, normalize='true')\n",
    "    return (report, matrix)"
   ]
  },
  {
   "cell_type": "code",
   "execution_count": null,
   "metadata": {},
   "outputs": [],
   "source": [
    "%%time\n",
    "r, m = compute_loss(trained_model, pred, testX, testY)\n",
    "r_01, m_01 = compute_loss(trained_model_01, pred_01, testX, testY)"
   ]
  },
  {
   "cell_type": "code",
   "execution_count": null,
   "metadata": {},
   "outputs": [],
   "source": [
    "plt.figure(1)\n",
    "sns.heatmap(m, annot=True, fmt=\".0f\", \n",
    "#             linewidths=.5, \n",
    "            square = True, \n",
    "            robust = True,\n",
    "            cmap = 'Blues_r');\n",
    "\n",
    "plt.figure(2)\n",
    "sns.heatmap(m_01, annot=True, fmt=\".0f\", \n",
    "#             linewidths=.5, \n",
    "            square = True, \n",
    "            robust = True,\n",
    "            cmap = 'Blues_r');"
   ]
  },
  {
   "cell_type": "code",
   "execution_count": null,
   "metadata": {},
   "outputs": [],
   "source": [
    "print(trained_model.n_iter_)\n",
    "print(trained_model_01.n_iter_)"
   ]
  },
  {
   "cell_type": "markdown",
   "metadata": {},
   "source": [
    "Test cross-validation"
   ]
  },
  {
   "cell_type": "code",
   "execution_count": null,
   "metadata": {},
   "outputs": [],
   "source": [
    "%%time\n",
    "def optimize(model, x_train, y_train, x_test, y_test):\n",
    "    '''\n",
    "    model = model instance to use with specified solver, regularization etc.\n",
    "    x = samples, features; these are observations (images) with # samples = # measurements and features being the attributes of that measurement\n",
    "    y = samples; these are the _labels_ for the observations of same size as samples\n",
    "    '''\n",
    "    model.fit(x_train, y_train)\n",
    "    predictions=model.predict(x_test)\n",
    "    score=model.score(x_test, y_test)\n",
    "    \n",
    "    from sklearn.model_selection import cross_val_score\n",
    "    # 5 simulations using k-fold cross validation approach\n",
    "    cv_scores=cross_val_score(model, x_train, y_train, cv=5)\n",
    "    return (model, predictions, score, cv_scores)    \n",
    "\n",
    "model=saga_elastic_L1_01\n",
    "trained_model_01, pred_01, acc_01, cv_01 = optimize(model, A, B, testX, testY)\n",
    "\n",
    "print(\"model trained and cross-validated\")"
   ]
  },
  {
   "cell_type": "code",
   "execution_count": null,
   "metadata": {},
   "outputs": [],
   "source": [
    "# Average of cross-validated scores\n",
    "print(\"{0:.3}\".format(np.mean(cv_01)))"
   ]
  },
  {
   "cell_type": "code",
   "execution_count": null,
   "metadata": {
    "scrolled": true
   },
   "outputs": [],
   "source": [
    "# %%time\n",
    "\n",
    "# # Train, test and assess accuracy of models\n",
    "# trained_models=[]\n",
    "# preds=[]\n",
    "# accs=[]\n",
    "# cvs=[]\n",
    "\n",
    "# for model in solvers:\n",
    "#     trained_model, pred, acc, _ = optimize(model, A, B, testX, testY)\n",
    "#     trained_models.append(trained_model)\n",
    "#     preds.append(pred)\n",
    "#     accs.append(acc)\n",
    "#     cvs.append(cv)\n",
    "#     break\n",
    "# print(\"models trained\")"
   ]
  },
  {
   "cell_type": "code",
   "execution_count": null,
   "metadata": {},
   "outputs": [],
   "source": [
    "# Compare bulk accuracies for one simulation\n",
    "solver_names = [\n",
    "           \"saga_elastic_L1\", \n",
    "           \"saga_elastic_L2\",\n",
    "           \"saga_elastic_mix\",\n",
    "           \"sgd_elastic_L1\",\n",
    "           \"sgd_elastic_L2\"\n",
    "          ]\n",
    "\n",
    "bar_positions=range(len(solver_names))\n",
    "plt.bar(x=bar_positions, height=accs)\n",
    "\n"
   ]
  },
  {
   "cell_type": "code",
   "execution_count": null,
   "metadata": {},
   "outputs": [],
   "source": [
    "# Use seaborn to plot confusion matrix \n",
    "confusion = metrics.confusion_matrix(testY, predictions)\n",
    "\n",
    "plt.figure(figsize=(9,9))\n",
    "sns.heatmap(confusion, annot=True, fmt=\".0f\", \n",
    "#             linewidths=.5, \n",
    "            square = True, \n",
    "            robust = True,\n",
    "            cmap = 'Blues_r');\n",
    "\n",
    "plt.ylabel('True label');\n",
    "plt.xlabel('Predicted label');\n",
    "\n",
    "# title = str('Accuracy Score: '+ \"{0:.3f}\".format(score))\n",
    "# plt.title(title, size = 15);"
   ]
  },
  {
   "cell_type": "markdown",
   "metadata": {},
   "source": [
    "### Question 2"
   ]
  },
  {
   "cell_type": "markdown",
   "metadata": {},
   "source": [
    "Promote sparsity and rank which pixels are most informative for digit labelling"
   ]
  },
  {
   "cell_type": "markdown",
   "metadata": {},
   "source": [
    "Use L1  \n",
    "rank the 784 pixels to see which is most informative  \n",
    "Most informative = largest coefficients in matrix X (trained_model.coef_) --> top 5% of pixels, visualized"
   ]
  },
  {
   "cell_type": "markdown",
   "metadata": {},
   "source": [
    "### Question 3\n",
    "Apply your most important pixels to the test data set to see how accurate you are with as few pixels as possible."
   ]
  },
  {
   "cell_type": "code",
   "execution_count": null,
   "metadata": {},
   "outputs": [],
   "source": [
    "What does this mean?"
   ]
  },
  {
   "cell_type": "markdown",
   "metadata": {},
   "source": [
    "### Question 4\n",
    "Redo the analysis with each digit individually to find the most important pixels for each digit."
   ]
  },
  {
   "cell_type": "markdown",
   "metadata": {},
   "source": [
    "### Question 5\n",
    "Think about the interpretation of what you are doing with this AX = B problem.\n"
   ]
  },
  {
   "cell_type": "code",
   "execution_count": null,
   "metadata": {},
   "outputs": [],
   "source": [
    "f(x) = something\n",
    "A = trainX (observations)\n",
    "B = trainY (labels)\n",
    "\n",
    "X = beta = loadings so we can transform (i.e. map) A (e.g. data, observations, images) into B (e.g. labels)\n",
    "\n",
    "Determine X using logistic regression specifying solvers, regularization (constraints)\n",
    "Use L1 norm where we minimize the average error (better performance with outliers than L2 norm)\n",
    "\n",
    "Ranking most informative pixels"
   ]
  },
  {
   "cell_type": "code",
   "execution_count": null,
   "metadata": {},
   "outputs": [],
   "source": []
  }
 ],
 "metadata": {
  "kernelspec": {
   "display_name": "gda_py3",
   "language": "python",
   "name": "gda_py3"
  },
  "language_info": {
   "codemirror_mode": {
    "name": "ipython",
    "version": 3
   },
   "file_extension": ".py",
   "mimetype": "text/x-python",
   "name": "python",
   "nbconvert_exporter": "python",
   "pygments_lexer": "ipython3",
   "version": "3.6.7"
  }
 },
 "nbformat": 4,
 "nbformat_minor": 2
}
