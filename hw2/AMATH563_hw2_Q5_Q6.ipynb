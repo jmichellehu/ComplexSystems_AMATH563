{
 "cells": [
  {
   "cell_type": "markdown",
   "metadata": {},
   "source": [
    "## Homework 2  - Questions 5 and 6: model comparisons\n",
    "Michelle Hu  \n",
    "---\n",
    "University of Washington  \n",
    "AMATH 563  \n",
    "Due: May 2, 2020  "
   ]
  },
  {
   "cell_type": "code",
   "execution_count": 1,
   "metadata": {},
   "outputs": [],
   "source": [
    "%load_ext autoreload\n",
    "%autoreload 2"
   ]
  },
  {
   "cell_type": "code",
   "execution_count": 2,
   "metadata": {},
   "outputs": [],
   "source": [
    "import os\n",
    "import pandas as pd\n",
    "import numpy as np\n",
    "import matplotlib.pyplot as plt\n",
    "import pickle\n",
    "\n",
    "from scipy.special import rel_entr"
   ]
  },
  {
   "cell_type": "code",
   "execution_count": 3,
   "metadata": {
    "scrolled": true
   },
   "outputs": [],
   "source": [
    "wd = \"/mnt/Backups/jmhu\"\n",
    "\n",
    "data_dir = wd + \"/git_dirs/ComplexSystems_AMATH563/hw2/data/\"\n",
    "model_dir = wd + \"/git_dirs/ComplexSystems_AMATH563/hw2/models/\"\n",
    "fig_dir = wd + \"/git_dirs/ComplexSystems_AMATH563/hw2/figures/\"\n",
    "    \n",
    "if not os.path.exists(data_dir):\n",
    "    !mkdir $data_dir\n",
    "\n",
    "if not os.path.exists(model_dir):\n",
    "    !mkdir $model_dir\n",
    "\n",
    "if not os.path.exists(fig_dir):\n",
    "    !mkdir $fig_dir"
   ]
  },
  {
   "cell_type": "markdown",
   "metadata": {},
   "source": [
    "### Load data"
   ]
  },
  {
   "cell_type": "code",
   "execution_count": 4,
   "metadata": {},
   "outputs": [
    {
     "data": {
      "text/html": [
       "<div>\n",
       "<style scoped>\n",
       "    .dataframe tbody tr th:only-of-type {\n",
       "        vertical-align: middle;\n",
       "    }\n",
       "\n",
       "    .dataframe tbody tr th {\n",
       "        vertical-align: top;\n",
       "    }\n",
       "\n",
       "    .dataframe thead th {\n",
       "        text-align: right;\n",
       "    }\n",
       "</style>\n",
       "<table border=\"1\" class=\"dataframe\">\n",
       "  <thead>\n",
       "    <tr style=\"text-align: right;\">\n",
       "      <th></th>\n",
       "      <th>Year</th>\n",
       "      <th>Hare</th>\n",
       "      <th>Lynx</th>\n",
       "    </tr>\n",
       "  </thead>\n",
       "  <tbody>\n",
       "    <tr>\n",
       "      <th>0</th>\n",
       "      <td>1845</td>\n",
       "      <td>20</td>\n",
       "      <td>32</td>\n",
       "    </tr>\n",
       "    <tr>\n",
       "      <th>1</th>\n",
       "      <td>1847</td>\n",
       "      <td>20</td>\n",
       "      <td>50</td>\n",
       "    </tr>\n",
       "    <tr>\n",
       "      <th>2</th>\n",
       "      <td>1849</td>\n",
       "      <td>52</td>\n",
       "      <td>12</td>\n",
       "    </tr>\n",
       "    <tr>\n",
       "      <th>3</th>\n",
       "      <td>1851</td>\n",
       "      <td>83</td>\n",
       "      <td>10</td>\n",
       "    </tr>\n",
       "    <tr>\n",
       "      <th>4</th>\n",
       "      <td>1853</td>\n",
       "      <td>64</td>\n",
       "      <td>13</td>\n",
       "    </tr>\n",
       "  </tbody>\n",
       "</table>\n",
       "</div>"
      ],
      "text/plain": [
       "   Year  Hare  Lynx\n",
       "0  1845    20    32\n",
       "1  1847    20    50\n",
       "2  1849    52    12\n",
       "3  1851    83    10\n",
       "4  1853    64    13"
      ]
     },
     "execution_count": 4,
     "metadata": {},
     "output_type": "execute_result"
    }
   ],
   "source": [
    "df = pd.read_csv(data_dir+\"population_data.csv\")\n",
    "df.head()"
   ]
  },
  {
   "cell_type": "markdown",
   "metadata": {},
   "source": [
    "### Load regression models "
   ]
  },
  {
   "cell_type": "code",
   "execution_count": 5,
   "metadata": {},
   "outputs": [],
   "source": [
    "hare_model_fns=['/mnt/Backups/jmhu/git_dirs/ComplexSystems_AMATH563/hw2/models/lasso_restricted_hare.pkl',\n",
    " '/mnt/Backups/jmhu/git_dirs/ComplexSystems_AMATH563/hw2/models/lasso8_restricted_hare.pkl',\n",
    " '/mnt/Backups/jmhu/git_dirs/ComplexSystems_AMATH563/hw2/models/lars_restricted_hare.pkl',\n",
    " '/mnt/Backups/jmhu/git_dirs/ComplexSystems_AMATH563/hw2/models/lasso_hare.pkl',\n",
    " '/mnt/Backups/jmhu/git_dirs/ComplexSystems_AMATH563/hw2/models/lasso8_hare.pkl',\n",
    " '/mnt/Backups/jmhu/git_dirs/ComplexSystems_AMATH563/hw2/models/lars_hare.pkl']\n",
    "\n",
    "lynx_model_fns=['/mnt/Backups/jmhu/git_dirs/ComplexSystems_AMATH563/hw2/models/lasso_restricted_hare.pkl',\n",
    " '/mnt/Backups/jmhu/git_dirs/ComplexSystems_AMATH563/hw2/models/lasso8_restricted_hare.pkl',\n",
    " '/mnt/Backups/jmhu/git_dirs/ComplexSystems_AMATH563/hw2/models/lars_restricted_hare.pkl',\n",
    " '/mnt/Backups/jmhu/git_dirs/ComplexSystems_AMATH563/hw2/models/lasso_hare.pkl',\n",
    " '/mnt/Backups/jmhu/git_dirs/ComplexSystems_AMATH563/hw2/models/lasso8_hare.pkl',\n",
    " '/mnt/Backups/jmhu/git_dirs/ComplexSystems_AMATH563/hw2/models/lars_hare.pkl']"
   ]
  },
  {
   "cell_type": "code",
   "execution_count": 6,
   "metadata": {},
   "outputs": [],
   "source": [
    "hare_models=[pickle.load(open(hare_fn, 'rb')) for hare_fn in hare_model_fns]\n",
    "lynx_models=[pickle.load(open(lynx_fn, 'rb')) for lynx_fn in lynx_model_fns]"
   ]
  },
  {
   "cell_type": "code",
   "execution_count": 7,
   "metadata": {},
   "outputs": [
    {
     "data": {
      "text/plain": [
       "[Lasso(alpha=1.0, copy_X=True, fit_intercept=True, max_iter=100000000,\n",
       "       normalize=False, positive=False, precompute=False, random_state=43,\n",
       "       selection='cyclic', tol=0.0001, warm_start=False),\n",
       " Lasso(alpha=0.8, copy_X=True, fit_intercept=True, max_iter=100000000,\n",
       "       normalize=False, positive=False, precompute=False, random_state=43,\n",
       "       selection='cyclic', tol=0.0001, warm_start=False),\n",
       " LassoLars(alpha=1.0, copy_X=True, eps=2.220446049250313e-16, fit_intercept=True,\n",
       "           fit_path=True, max_iter=500, normalize=True, positive=False,\n",
       "           precompute='auto', verbose=False),\n",
       " Lasso(alpha=1.0, copy_X=True, fit_intercept=True, max_iter=100000.0,\n",
       "       normalize=False, positive=False, precompute=False, random_state=0,\n",
       "       selection='cyclic', tol=0.0001, warm_start=False),\n",
       " Lasso(alpha=0.8, copy_X=True, fit_intercept=True, max_iter=100000.0,\n",
       "       normalize=False, positive=False, precompute=False, random_state=0,\n",
       "       selection='cyclic', tol=0.0001, warm_start=False),\n",
       " LassoLars(alpha=1.0, copy_X=True, eps=2.220446049250313e-16, fit_intercept=True,\n",
       "           fit_path=True, max_iter=500, normalize=True, positive=False,\n",
       "           precompute='auto', verbose=False)]"
      ]
     },
     "execution_count": 7,
     "metadata": {},
     "output_type": "execute_result"
    }
   ],
   "source": [
    "hare_models"
   ]
  },
  {
   "cell_type": "code",
   "execution_count": 8,
   "metadata": {},
   "outputs": [
    {
     "data": {
      "text/plain": [
       "[Lasso(alpha=1.0, copy_X=True, fit_intercept=True, max_iter=100000000,\n",
       "       normalize=False, positive=False, precompute=False, random_state=43,\n",
       "       selection='cyclic', tol=0.0001, warm_start=False),\n",
       " Lasso(alpha=0.8, copy_X=True, fit_intercept=True, max_iter=100000000,\n",
       "       normalize=False, positive=False, precompute=False, random_state=43,\n",
       "       selection='cyclic', tol=0.0001, warm_start=False),\n",
       " LassoLars(alpha=1.0, copy_X=True, eps=2.220446049250313e-16, fit_intercept=True,\n",
       "           fit_path=True, max_iter=500, normalize=True, positive=False,\n",
       "           precompute='auto', verbose=False),\n",
       " Lasso(alpha=1.0, copy_X=True, fit_intercept=True, max_iter=100000.0,\n",
       "       normalize=False, positive=False, precompute=False, random_state=0,\n",
       "       selection='cyclic', tol=0.0001, warm_start=False),\n",
       " Lasso(alpha=0.8, copy_X=True, fit_intercept=True, max_iter=100000.0,\n",
       "       normalize=False, positive=False, precompute=False, random_state=0,\n",
       "       selection='cyclic', tol=0.0001, warm_start=False),\n",
       " LassoLars(alpha=1.0, copy_X=True, eps=2.220446049250313e-16, fit_intercept=True,\n",
       "           fit_path=True, max_iter=500, normalize=True, positive=False,\n",
       "           precompute='auto', verbose=False)]"
      ]
     },
     "execution_count": 8,
     "metadata": {},
     "output_type": "execute_result"
    }
   ],
   "source": [
    "lynx_models"
   ]
  },
  {
   "cell_type": "markdown",
   "metadata": {},
   "source": [
    "### Load DMD models\n",
    "Not yet produced and pickled, once complete, merge with above"
   ]
  },
  {
   "cell_type": "code",
   "execution_count": null,
   "metadata": {},
   "outputs": [],
   "source": []
  },
  {
   "cell_type": "code",
   "execution_count": null,
   "metadata": {},
   "outputs": [],
   "source": []
  },
  {
   "cell_type": "code",
   "execution_count": null,
   "metadata": {},
   "outputs": [],
   "source": []
  },
  {
   "cell_type": "markdown",
   "metadata": {},
   "source": [
    "## *Best fit model is the Lasso model of the second iteration (with sinusoidal functions), based on available observations.*"
   ]
  },
  {
   "cell_type": "markdown",
   "metadata": {},
   "source": [
    "---\n",
    "### Question 5.  Compute the KL divergence of the best model fit to the data between all the above models.\n",
    "KL divergence = statistical metric representing info lost when g(x) is used to represent f(x)"
   ]
  },
  {
   "cell_type": "markdown",
   "metadata": {},
   "source": [
    "KL(f,g) = integral [ f(X,Beta) * log (f(X, Beta)/g(X, mu)) dX ]"
   ]
  },
  {
   "cell_type": "markdown",
   "metadata": {},
   "source": [
    "Generate pdfs based on varying IC and model output, variance"
   ]
  },
  {
   "cell_type": "markdown",
   "metadata": {},
   "source": [
    "[wiki](https://en.wikipedia.org/wiki/Kullback%E2%80%93Leibler_divergence)  \n",
    "[scipy implementation](https://docs.scipy.org/doc/scipy/reference/generated/scipy.stats.entropy.html)  \n",
    "see [mlm notes](https://machinelearningmastery.com/divergence-between-probability-distributions/) for discussion on kl_div() and rel_entr()  "
   ]
  },
  {
   "cell_type": "code",
   "execution_count": 10,
   "metadata": {},
   "outputs": [
    {
     "data": {
      "text/plain": [
       "0.0"
      ]
     },
     "execution_count": 10,
     "metadata": {},
     "output_type": "execute_result"
    }
   ],
   "source": [
    "# from https://gist.github.com/swayson/86c296aa354a555536e6765bbe726ff7\n",
    "\n",
    "def kl(p, q):\n",
    "    \"\"\"Kullback-Leibler divergence D(P || Q) for discrete distributions\n",
    "    Parameters\n",
    "    ----------\n",
    "    p, q : array-like, dtype=float, shape=n\n",
    "    Discrete probability distributions.\n",
    "    \"\"\"\n",
    "    p = np.asarray(p, dtype=np.float)\n",
    "    q = np.asarray(q, dtype=np.float)\n",
    "\n",
    "    return np.sum(np.where(p != 0, p * np.log(p / q), 0))\n",
    "\n",
    "p = [0.1, 0.9]\n",
    "q = [0.1, 0.9]\n",
    "\n",
    "kl(p, q)"
   ]
  },
  {
   "cell_type": "markdown",
   "metadata": {},
   "source": [
    "Generate probability distribution functions"
   ]
  },
  {
   "cell_type": "markdown",
   "metadata": {},
   "source": [
    "### Question 6. Retain three of your best fit models and compare their AIC and BIC scores."
   ]
  },
  {
   "cell_type": "code",
   "execution_count": 11,
   "metadata": {},
   "outputs": [],
   "source": [
    "def compute_AICBIC(preds, truth, k, n):\n",
    "    '''\n",
    "    preds = y_hat = model.predict(X)\n",
    "    truth = y\n",
    "    k = number of terms in model\n",
    "    n = number of obserations (how big is X?)\n",
    "    from class notes\n",
    "    '''\n",
    "    resid = truth - preds\n",
    "    sse = sum(resid**2)\n",
    "    aic = 2*k - 2 * np.log(sse)\n",
    "    bic = np.log(n) * k - 2 * np.log(sse)\n",
    "    return (aic, bic)\n",
    "\n",
    "# Compare with\n",
    "# statsmodels.tools.eval_measures.aic\n",
    "# statsmodels.tools.eval_measures.bic\n",
    "\n",
    "# and from https://pypi.org/project/RegscorePy/:\n",
    "# AIC = n*log(residual sum of squares/n) + 2K\n",
    "# BIC = n*log(residual sum of squares/n) + K*log(n)"
   ]
  }
 ],
 "metadata": {
  "kernelspec": {
   "display_name": "gda_py3",
   "language": "python",
   "name": "gda_py3"
  },
  "language_info": {
   "codemirror_mode": {
    "name": "ipython",
    "version": 3
   },
   "file_extension": ".py",
   "mimetype": "text/x-python",
   "name": "python",
   "nbconvert_exporter": "python",
   "pygments_lexer": "ipython3",
   "version": "3.6.7"
  }
 },
 "nbformat": 4,
 "nbformat_minor": 2
}
