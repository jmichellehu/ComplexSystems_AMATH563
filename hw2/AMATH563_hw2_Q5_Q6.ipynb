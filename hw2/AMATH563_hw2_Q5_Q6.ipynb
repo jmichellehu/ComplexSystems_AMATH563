{
 "cells": [
  {
   "cell_type": "markdown",
   "metadata": {},
   "source": [
    "## Homework 2  - Questions 5 and 6: model comparisons\n",
    "Michelle Hu  \n",
    "---\n",
    "University of Washington  \n",
    "AMATH 563  \n",
    "Due: May 6, 2020  "
   ]
  },
  {
   "cell_type": "code",
   "execution_count": 1,
   "metadata": {},
   "outputs": [],
   "source": [
    "%load_ext autoreload\n",
    "%autoreload 2"
   ]
  },
  {
   "cell_type": "code",
   "execution_count": 2,
   "metadata": {},
   "outputs": [],
   "source": [
    "import os\n",
    "import pandas as pd\n",
    "import numpy as np\n",
    "import matplotlib.pyplot as plt\n",
    "import pickle\n",
    "from scipy.integrate import solve_ivp\n",
    "\n",
    "from scipy.special import rel_entr"
   ]
  },
  {
   "cell_type": "code",
   "execution_count": 3,
   "metadata": {
    "scrolled": true
   },
   "outputs": [],
   "source": [
    "wd = \"/mnt/Backups/jmhu\"\n",
    "data_dir = wd + \"/git_dirs/ComplexSystems_AMATH563/hw2/data/\"\n",
    "model_dir = wd + \"/git_dirs/ComplexSystems_AMATH563/hw2/models/\"\n",
    "fig_dir = wd + \"/git_dirs/ComplexSystems_AMATH563/hw2/figures/\""
   ]
  },
  {
   "cell_type": "markdown",
   "metadata": {},
   "source": [
    "#### Define functions"
   ]
  },
  {
   "cell_type": "code",
   "execution_count": 4,
   "metadata": {},
   "outputs": [],
   "source": [
    "def lotka_volterra(t, x0, b, p, r, d):\n",
    "    '''Empirical Lotka-Volterra predator-prey model'''\n",
    "    x, y = x0\n",
    "    xdot = (b - p*y) * x\n",
    "    ydot = (r*x - d) * y\n",
    "    \n",
    "    return(xdot, ydot)\n",
    "\n",
    "\n",
    "def densify(t, y, dt):\n",
    "    '''Point interpolation'''\n",
    "    from scipy.interpolate import interp1d\n",
    "    \n",
    "    f = interp1d(t, y, kind='cubic')\n",
    "    tnew = np.arange(t[0], t[-1], dt)\n",
    "    ynew = f(tnew)\n",
    "    \n",
    "    return(tnew, ynew)\n",
    "\n",
    "\n",
    "def setup_problem(df, make_it_dense=5):\n",
    "    '''Prepare matrices'''\n",
    "    X=df.Hare.values\n",
    "    Y=df.Lynx.values\n",
    "\n",
    "    t = df.Year.values\n",
    "    dt = (t[1] - t[0])/make_it_dense # make 5 times more points\n",
    "\n",
    "    # Interpolate for more points\n",
    "    years, X = densify(t, X, dt)\n",
    "    years, Y = densify(t, Y, dt)\n",
    "    \n",
    "    return X, Y, years\n",
    "\n",
    "\n",
    "def get_predictions(X, Y, years, Xi_coef, Yi_coef, model=lotka_volterra):    \n",
    "    '''Find initial value problem solutions for input model, coefficients and time range'''\n",
    "    t_range = [0, len(years)] \n",
    "    x0 = (X[0], Y[0])\n",
    "\n",
    "    # Extract coefficients\n",
    "    b, p = np.abs(Xi_coef)\n",
    "    d, r = np.abs(Yi_coef)\n",
    "    \n",
    "    sol = solve_ivp(model, t_range, x0, \n",
    "                    args=(b, p, r, d), dense_output=True)\n",
    "\n",
    "    t = np.arange(0, len(years), 1)\n",
    "    predictions = sol.sol(t)\n",
    "\n",
    "    return t, predictions\n",
    "\n",
    "\n",
    "def get_predictions_SINDy(X, Y, years, coefs, model):    \n",
    "    '''Find initial value problem solutions for input model, coefficients and time range'''\n",
    "    t_range = [0, len(years)] \n",
    "    x0 = (X[0], Y[0])\n",
    "    \n",
    "    sol = solve_ivp(model, t_range, x0, \n",
    "                    args=(np.array(coefs)), dense_output=True)\n",
    "\n",
    "    t = np.arange(0, len(years), 1)\n",
    "    predictions = sol.sol(t)\n",
    "\n",
    "    return t, predictions"
   ]
  },
  {
   "cell_type": "markdown",
   "metadata": {},
   "source": [
    "### Load data"
   ]
  },
  {
   "cell_type": "code",
   "execution_count": 5,
   "metadata": {},
   "outputs": [],
   "source": [
    "def fn_list(thisDir, fn_pattern):\n",
    "    '''\n",
    "    Function that returns a sorted list of filenames based on a regex pattern in specified directory\n",
    "    '''\n",
    "    fns=[]\n",
    "    import glob\n",
    "\n",
    "    for f in glob.glob(thisDir + \"/\" + fn_pattern): \n",
    "        fns.append(f)\n",
    "    fns.sort()\n",
    "    \n",
    "    return fns"
   ]
  },
  {
   "cell_type": "code",
   "execution_count": 6,
   "metadata": {},
   "outputs": [
    {
     "data": {
      "text/html": [
       "<div>\n",
       "<style scoped>\n",
       "    .dataframe tbody tr th:only-of-type {\n",
       "        vertical-align: middle;\n",
       "    }\n",
       "\n",
       "    .dataframe tbody tr th {\n",
       "        vertical-align: top;\n",
       "    }\n",
       "\n",
       "    .dataframe thead th {\n",
       "        text-align: right;\n",
       "    }\n",
       "</style>\n",
       "<table border=\"1\" class=\"dataframe\">\n",
       "  <thead>\n",
       "    <tr style=\"text-align: right;\">\n",
       "      <th></th>\n",
       "      <th>Year</th>\n",
       "      <th>Hare</th>\n",
       "      <th>Lynx</th>\n",
       "    </tr>\n",
       "  </thead>\n",
       "  <tbody>\n",
       "    <tr>\n",
       "      <th>0</th>\n",
       "      <td>1845</td>\n",
       "      <td>20</td>\n",
       "      <td>32</td>\n",
       "    </tr>\n",
       "    <tr>\n",
       "      <th>1</th>\n",
       "      <td>1847</td>\n",
       "      <td>20</td>\n",
       "      <td>50</td>\n",
       "    </tr>\n",
       "    <tr>\n",
       "      <th>2</th>\n",
       "      <td>1849</td>\n",
       "      <td>52</td>\n",
       "      <td>12</td>\n",
       "    </tr>\n",
       "    <tr>\n",
       "      <th>3</th>\n",
       "      <td>1851</td>\n",
       "      <td>83</td>\n",
       "      <td>10</td>\n",
       "    </tr>\n",
       "    <tr>\n",
       "      <th>4</th>\n",
       "      <td>1853</td>\n",
       "      <td>64</td>\n",
       "      <td>13</td>\n",
       "    </tr>\n",
       "  </tbody>\n",
       "</table>\n",
       "</div>"
      ],
      "text/plain": [
       "   Year  Hare  Lynx\n",
       "0  1845    20    32\n",
       "1  1847    20    50\n",
       "2  1849    52    12\n",
       "3  1851    83    10\n",
       "4  1853    64    13"
      ]
     },
     "execution_count": 6,
     "metadata": {},
     "output_type": "execute_result"
    }
   ],
   "source": [
    "df = pd.read_csv(data_dir+\"population_data.csv\")\n",
    "df.head()"
   ]
  },
  {
   "cell_type": "markdown",
   "metadata": {},
   "source": [
    "### Load DMD models"
   ]
  },
  {
   "cell_type": "code",
   "execution_count": 7,
   "metadata": {},
   "outputs": [
    {
     "name": "stdout",
     "output_type": "stream",
     "text": [
      "['/mnt/Backups/jmhu/git_dirs/ComplexSystems_AMATH563/hw2/models/DMD_5pts.pkl', '/mnt/Backups/jmhu/git_dirs/ComplexSystems_AMATH563/hw2/models/DMD_combinedHankel_5pts.pkl']\n"
     ]
    }
   ],
   "source": [
    "DMD_fns = fn_list(model_dir, \"*DMD*\")\n",
    "print(DMD_fns)\n",
    "\n",
    "DMD_models = []\n",
    "for DMD_fn in DMD_fns:\n",
    "    with open(DMD_fn, 'rb') as file:\n",
    "        DMD = pickle.load(file)\n",
    "        DMD_models.append(DMD)\n",
    "        \n",
    "# Phi_disk, b_disk, Omega_disk, r_disk       \n",
    "DMD, DMD_Hankel = DMD_models"
   ]
  },
  {
   "cell_type": "markdown",
   "metadata": {},
   "source": [
    "#### Reconstruct with forecast function"
   ]
  },
  {
   "cell_type": "code",
   "execution_count": 8,
   "metadata": {},
   "outputs": [],
   "source": [
    "def forecast(Phi, Omega, t, b):\n",
    "    f = Phi@np.exp(Omega*t)*b\n",
    "    return(f)"
   ]
  },
  {
   "cell_type": "code",
   "execution_count": 9,
   "metadata": {},
   "outputs": [
    {
     "name": "stderr",
     "output_type": "stream",
     "text": [
      "/home/jmhu/miniconda/envs/gda_py3/lib/python3.6/site-packages/ipykernel_launcher.py:8: ComplexWarning: Casting complex values to real discards the imaginary part\n",
      "  \n"
     ]
    }
   ],
   "source": [
    "X, Y, years = setup_problem(df)\n",
    "[Phi, b, Omega, r] = DMD # Extract coefficients from model\n",
    "t = X.shape[0]\n",
    "\n",
    "# Extract DMD forecast \n",
    "forecast_modes = np.zeros((2, t))\n",
    "for i in np.arange(0, t):\n",
    "    forecast_modes[:, i] = forecast(Phi, Omega, i, b)"
   ]
  },
  {
   "cell_type": "markdown",
   "metadata": {},
   "source": [
    "### Load LASSO regressed coefficients and SINDy-derived Lotka-Volterra model"
   ]
  },
  {
   "cell_type": "code",
   "execution_count": 10,
   "metadata": {},
   "outputs": [
    {
     "name": "stdout",
     "output_type": "stream",
     "text": [
      " ---- Hare models ---- \n",
      "lasso_LV_5pts_1_hare\n",
      "\n",
      "\n",
      " ---- Lynx models ---- \n",
      "lasso_LV_5pts_1_lynx\n"
     ]
    }
   ],
   "source": [
    "hare_model_fns=fn_list(model_dir, \"lasso_LV*hare.pkl\")\n",
    "lynx_model_fns=fn_list(model_dir, \"lasso_LV*lynx.pkl\")\n",
    "\n",
    "print(\" ---- Hare models ---- \")\n",
    "for h in hare_model_fns:\n",
    "    print(h.split('/')[-1][:-4])\n",
    "\n",
    "print(\"\\n\")\n",
    "print(\" ---- Lynx models ---- \")\n",
    "for l in lynx_model_fns:\n",
    "    print(l.split('/')[-1][:-4])"
   ]
  },
  {
   "cell_type": "code",
   "execution_count": 11,
   "metadata": {},
   "outputs": [],
   "source": [
    "hare_models=[pickle.load(open(hare_fn, 'rb')) for hare_fn in hare_model_fns]\n",
    "lynx_models=[pickle.load(open(lynx_fn, 'rb')) for lynx_fn in lynx_model_fns]"
   ]
  },
  {
   "cell_type": "code",
   "execution_count": 12,
   "metadata": {},
   "outputs": [
    {
     "data": {
      "image/png": "[encoded data removed]",
      "text/plain": [
       "<Figure size 432x288 with 1 Axes>"
      ]
     },
     "metadata": {
      "needs_background": "light"
     },
     "output_type": "display_data"
    }
   ],
   "source": [
    "# Pull in LASSO_LV model coefficients\n",
    "t, preds = get_predictions(X, Y, years, hare_models[0].coef_, lynx_models[0].coef_)\n",
    "plt.plot(t, preds.T);\n",
    "plt.plot(X)\n",
    "plt.plot(Y);"
   ]
  },
  {
   "cell_type": "markdown",
   "metadata": {},
   "source": [
    "### Load SINDy LV + control model"
   ]
  },
  {
   "cell_type": "code",
   "execution_count": 13,
   "metadata": {},
   "outputs": [],
   "source": [
    "def lotka_volterra_control(t, x0, b, p, r, d):\n",
    "    '''Empirical Lotka-Volterra predator-prey model with SINDy-derived weightings \n",
    "    and published control function from https://arxiv.org/pdf/1605.06682.pdf'''\n",
    "    x, y = x0\n",
    "    xdot = (b - p*y) * x + (2*np.sin(t) + 2*np.sin(t/10))**2\n",
    "    ydot = (r*x - d) * y\n",
    "    \n",
    "    return(xdot, ydot)"
   ]
  },
  {
   "cell_type": "code",
   "execution_count": 14,
   "metadata": {},
   "outputs": [],
   "source": [
    "t_control, preds_control = get_predictions(X, Y, years, \n",
    "                                           hare_models[0].coef_, \n",
    "                                           lynx_models[0].coef_,\n",
    "                                           model = lotka_volterra_control\n",
    "                                          )"
   ]
  },
  {
   "cell_type": "markdown",
   "metadata": {},
   "source": [
    "### Load new SINDy model"
   ]
  },
  {
   "cell_type": "code",
   "execution_count": 15,
   "metadata": {},
   "outputs": [],
   "source": [
    "def new_model(t, x0, a, b, c, d, e):\n",
    "    '''SINDy model'''\n",
    "    x, y = x0\n",
    "    xdot = a*x + b*x*y\n",
    "    ydot = c*x + d*y + e*x*y\n",
    "    return(xdot, ydot)"
   ]
  },
  {
   "cell_type": "code",
   "execution_count": 16,
   "metadata": {},
   "outputs": [
    {
     "name": "stdout",
     "output_type": "stream",
     "text": [
      "/mnt/Backups/jmhu/git_dirs/ComplexSystems_AMATH563/hw2/models/SINDy_new_5pts_thresh1kth.pkl\n"
     ]
    }
   ],
   "source": [
    "SINDy_fn = fn_list(model_dir, \"*SIND*\")[0]\n",
    "print(SINDy_fn)\n",
    "\n",
    "with open(SINDy_fn, 'rb') as file:\n",
    "    SINDy = pickle.load(file)\n",
    "    \n",
    "[a, b, c, d, e] = SINDy"
   ]
  },
  {
   "cell_type": "code",
   "execution_count": 17,
   "metadata": {},
   "outputs": [],
   "source": [
    "t_SINDy, preds_SINDy = get_predictions_SINDy(X, Y, years, \n",
    "                                             [a, b, c, d, e], \n",
    "                                             model = new_model)"
   ]
  },
  {
   "cell_type": "markdown",
   "metadata": {},
   "source": [
    "---\n",
    "## Question 5.  Compute the KL divergence of the best model fit to the data between all the above models.\n",
    "KL divergence = statistical metric representing info lost when g(x) is used to represent f(x)  \n",
    "KL(f,g) = integral [ f(X,Beta) * log (f(X, Beta)/g(X, mu)) dX ]  "
   ]
  },
  {
   "cell_type": "markdown",
   "metadata": {},
   "source": [
    "### Generate probability distribution functions"
   ]
  },
  {
   "cell_type": "code",
   "execution_count": 18,
   "metadata": {},
   "outputs": [],
   "source": [
    "def pdf_plot(data, nbins, toggle=None):\n",
    "    counts, bins, patches = plt.hist(data, nbins)\n",
    "    plt.close()\n",
    "\n",
    "    # get bin centers from bin limits\n",
    "    bin_width=bins[1]-bins[0]\n",
    "\n",
    "    bin_centers=bins+bin_width/2\n",
    "    bin_centers=bin_centers[:-1]\n",
    "    \n",
    "    # calculate bin areas based on width and count\n",
    "    bin_areas=[c * bin_width for c in counts]\n",
    "    \n",
    "    # calculate fractional area for each bin\n",
    "    bin_fractions=[bin_area/sum(bin_areas) for bin_area in bin_areas]\n",
    "    \n",
    "    return bin_centers, bin_fractions\n",
    "\n",
    "# Testing\n",
    "# p_centers, p_fractions = pdf_plot(preds_control[0], 10)\n",
    "# q_centers, q_fractions = pdf_plot(preds_control[1], 10)\n",
    "\n",
    "# plt.plot(p_centers, p_fractions,\n",
    "#          '-', color='salmon')\n",
    "# plt.plot(q_centers, q_fractions,\n",
    "#          '-', color='dodgerblue')"
   ]
  },
  {
   "cell_type": "code",
   "execution_count": 19,
   "metadata": {},
   "outputs": [],
   "source": [
    "def kl(p, q):\n",
    "    \"\"\"Kullback-Leibler divergence D(P || Q) for discrete distributions\n",
    "    Parameters\n",
    "    ----------\n",
    "    p, q : array-like, dtype=float, shape=n\n",
    "    Discrete probability distributions.\n",
    "    ### modified from https://gist.github.com/swayson/86c296aa354a555536e6765bbe726ff7\n",
    "    \"\"\"\n",
    "    p = np.asarray(p, dtype=np.float)\n",
    "    q = np.asarray(q, dtype=np.float)\n",
    "    \n",
    "    div = p*np.log(np.array(p)/np.array(q))\n",
    "    div = div[~np.isnan(div)]\n",
    "    div = np.sum(div)\n",
    "\n",
    "    return np.round(div, 3)\n",
    "\n",
    "def calc_KL(truth, predictions, bins=10):\n",
    "    kl_divs=[]\n",
    "    for i in range(2):\n",
    "        p=predictions[i]\n",
    "        q=truth[i]\n",
    "\n",
    "        _, p_pdf = pdf_plot(p, bins)\n",
    "        _, q_pdf = pdf_plot(q, bins)\n",
    "\n",
    "        kl_divs.append(kl(p_pdf, q_pdf))\n",
    "    return kl_divs"
   ]
  },
  {
   "cell_type": "markdown",
   "metadata": {},
   "source": [
    "### DMD"
   ]
  },
  {
   "cell_type": "code",
   "execution_count": 20,
   "metadata": {},
   "outputs": [
    {
     "data": {
      "text/plain": [
       "[0.333, 0.805]"
      ]
     },
     "execution_count": 20,
     "metadata": {},
     "output_type": "execute_result"
    }
   ],
   "source": [
    "calc_KL([X,Y], forecast_modes)"
   ]
  },
  {
   "cell_type": "markdown",
   "metadata": {},
   "source": [
    "### LASSO LV model SINDy-derived coefficients"
   ]
  },
  {
   "cell_type": "code",
   "execution_count": 21,
   "metadata": {},
   "outputs": [
    {
     "name": "stderr",
     "output_type": "stream",
     "text": [
      "/home/jmhu/miniconda/envs/gda_py3/lib/python3.6/site-packages/ipykernel_launcher.py:12: RuntimeWarning: divide by zero encountered in log\n",
      "  if sys.path[0] == '':\n",
      "/home/jmhu/miniconda/envs/gda_py3/lib/python3.6/site-packages/ipykernel_launcher.py:12: RuntimeWarning: invalid value encountered in multiply\n",
      "  if sys.path[0] == '':\n"
     ]
    },
    {
     "data": {
      "text/plain": [
       "[0.317, 1.114]"
      ]
     },
     "execution_count": 21,
     "metadata": {},
     "output_type": "execute_result"
    }
   ],
   "source": [
    "calc_KL([X,Y], preds)"
   ]
  },
  {
   "cell_type": "markdown",
   "metadata": {},
   "source": [
    "### SINDy LV + Control"
   ]
  },
  {
   "cell_type": "code",
   "execution_count": 22,
   "metadata": {},
   "outputs": [
    {
     "data": {
      "text/plain": [
       "[0.433, 0.419]"
      ]
     },
     "execution_count": 22,
     "metadata": {},
     "output_type": "execute_result"
    }
   ],
   "source": [
    "calc_KL([X,Y], preds_control)"
   ]
  },
  {
   "cell_type": "markdown",
   "metadata": {},
   "source": [
    "### New SINDY model and coefficients"
   ]
  },
  {
   "cell_type": "code",
   "execution_count": 23,
   "metadata": {},
   "outputs": [
    {
     "data": {
      "text/plain": [
       "[1.828, 2.241]"
      ]
     },
     "execution_count": 23,
     "metadata": {},
     "output_type": "execute_result"
    }
   ],
   "source": [
    "calc_KL([X,Y], preds_SINDy)"
   ]
  },
  {
   "cell_type": "markdown",
   "metadata": {},
   "source": [
    "Larger values for KL divergence indicate more information lost when using the selected model to represent observations  \n",
    "* Best model for hares was LASSO restricted SINDy-derived coefficients for empirical Lotka-Volterra model (0.317).  \n",
    "* Best model for Lynx was SINDy LV + control (0.419). \n",
    "* Best overall model was SINDy LV + control (0.433, 0.419)"
   ]
  },
  {
   "cell_type": "markdown",
   "metadata": {},
   "source": [
    "### Compare best-fit overall model to all the other models (treat best-fit model as truth)"
   ]
  },
  {
   "cell_type": "code",
   "execution_count": 24,
   "metadata": {},
   "outputs": [
    {
     "data": {
      "text/plain": [
       "[1.033, 0.988]"
      ]
     },
     "execution_count": 24,
     "metadata": {},
     "output_type": "execute_result"
    }
   ],
   "source": [
    "calc_KL(preds_control, forecast_modes)"
   ]
  },
  {
   "cell_type": "code",
   "execution_count": 25,
   "metadata": {},
   "outputs": [
    {
     "name": "stderr",
     "output_type": "stream",
     "text": [
      "/home/jmhu/miniconda/envs/gda_py3/lib/python3.6/site-packages/ipykernel_launcher.py:12: RuntimeWarning: divide by zero encountered in log\n",
      "  if sys.path[0] == '':\n",
      "/home/jmhu/miniconda/envs/gda_py3/lib/python3.6/site-packages/ipykernel_launcher.py:12: RuntimeWarning: invalid value encountered in multiply\n",
      "  if sys.path[0] == '':\n"
     ]
    },
    {
     "data": {
      "text/plain": [
       "[0.93, 0.939]"
      ]
     },
     "execution_count": 25,
     "metadata": {},
     "output_type": "execute_result"
    }
   ],
   "source": [
    "calc_KL(preds_control, preds)"
   ]
  },
  {
   "cell_type": "code",
   "execution_count": 26,
   "metadata": {},
   "outputs": [
    {
     "data": {
      "text/plain": [
       "[2.907, 3.691]"
      ]
     },
     "execution_count": 26,
     "metadata": {},
     "output_type": "execute_result"
    }
   ],
   "source": [
    "calc_KL(preds_control, preds_SINDy)\n"
   ]
  },
  {
   "cell_type": "markdown",
   "metadata": {},
   "source": [
    "Treating SINDy LV + control model as truth, the DMD model was the best-performing and the completely new SINDy model was the worst-performing"
   ]
  },
  {
   "cell_type": "markdown",
   "metadata": {},
   "source": [
    "---"
   ]
  },
  {
   "cell_type": "markdown",
   "metadata": {},
   "source": [
    "## Question 6. Retain three of your best fit models and compare their AIC and BIC scores."
   ]
  },
  {
   "cell_type": "code",
   "execution_count": 27,
   "metadata": {},
   "outputs": [],
   "source": [
    "def aicbic(predictions, truth, k, n):\n",
    "    '''\n",
    "    predictions = y_hat = model.predict(X)\n",
    "    truth = y = observations\n",
    "    k = number of terms in model\n",
    "    n = number of obserations (how big is X?)\n",
    "    ---> from class notes\n",
    "    '''\n",
    "    resid = truth - predictions\n",
    "    sse = sum(resid**2)\n",
    "    aic = 2*k - 2 * np.log(sse)\n",
    "    bic = np.log(n) * k - 2 * np.log(sse)\n",
    "    return (aic, bic)\n",
    "\n",
    "def calc_AICBIC(truth, predictions, k, n):\n",
    "    aicbics=[]\n",
    "    for i in range(2):\n",
    "        p=predictions[i]\n",
    "        q=truth[i]\n",
    "\n",
    "        aic, bic = aicbic(p, q, k, n)\n",
    "\n",
    "        aicbics.append([aic, bic])\n",
    "    return aicbics"
   ]
  },
  {
   "cell_type": "code",
   "execution_count": 28,
   "metadata": {},
   "outputs": [],
   "source": [
    "n = len(years)"
   ]
  },
  {
   "cell_type": "markdown",
   "metadata": {},
   "source": [
    "### DMD"
   ]
  },
  {
   "cell_type": "code",
   "execution_count": 29,
   "metadata": {},
   "outputs": [
    {
     "data": {
      "text/plain": [
       "[[-20.971098506198754, -12.040897278937031],\n",
       " [-18.22323618100251, -9.293034953740786]]"
      ]
     },
     "execution_count": 29,
     "metadata": {},
     "output_type": "execute_result"
    }
   ],
   "source": [
    "calc_AICBIC([X,Y], forecast_modes, 3, n)"
   ]
  },
  {
   "cell_type": "markdown",
   "metadata": {},
   "source": [
    "### LASSO LV model SINDy-derived coefficients"
   ]
  },
  {
   "cell_type": "code",
   "execution_count": 30,
   "metadata": {},
   "outputs": [
    {
     "data": {
      "text/plain": [
       "[[-21.562222811277373, -9.655287841595076],\n",
       " [-18.567682433210038, -6.660747463527741]]"
      ]
     },
     "execution_count": 30,
     "metadata": {},
     "output_type": "execute_result"
    }
   ],
   "source": [
    "calc_AICBIC([X,Y], preds, 4, n)"
   ]
  },
  {
   "cell_type": "markdown",
   "metadata": {},
   "source": [
    "### SINDy LV + Control"
   ]
  },
  {
   "cell_type": "code",
   "execution_count": 31,
   "metadata": {},
   "outputs": [
    {
     "data": {
      "text/plain": [
       "[[-17.3291749761743, -2.4455062640714296],\n",
       " [-14.764468982306045, 0.11919972979682569]]"
      ]
     },
     "execution_count": 31,
     "metadata": {},
     "output_type": "execute_result"
    }
   ],
   "source": [
    "calc_AICBIC([X,Y], preds_control, 5, n)"
   ]
  },
  {
   "cell_type": "markdown",
   "metadata": {},
   "source": [
    "### New SINDY model and coefficients"
   ]
  },
  {
   "cell_type": "code",
   "execution_count": 32,
   "metadata": {},
   "outputs": [
    {
     "data": {
      "text/plain": [
       "[[-14.805065224126437, 0.07860348797643368],\n",
       " [-13.025080448434245, 1.8585882636686257]]"
      ]
     },
     "execution_count": 32,
     "metadata": {},
     "output_type": "execute_result"
    }
   ],
   "source": [
    "calc_AICBIC([X,Y], preds_SINDy, 5, n)"
   ]
  },
  {
   "cell_type": "markdown",
   "metadata": {},
   "source": [
    "First entry is AIC  \n",
    "Second entry is BIC  \n",
    "\n",
    "First row is hares  \n",
    "Second row is lynx  \n",
    "\n",
    "In both metrics, larger numbers indicate \"worse\" models.\n",
    "\n",
    "* For hares, the best model according to AIC was the LASSO LV model.  According to BIC, the best was the DMD model.\n",
    "* For lynx, the best model according to AIC was also the LASSO LV model.  According to BIC, the best was the DMD model.\n",
    "\n",
    "* AIC metrics match with the KL divergence results for hare predictions.\n"
   ]
  }
 ],
 "metadata": {
  "kernelspec": {
   "display_name": "gda_py3",
   "language": "python",
   "name": "gda_py3"
  },
  "language_info": {
   "codemirror_mode": {
    "name": "ipython",
    "version": 3
   },
   "file_extension": ".py",
   "mimetype": "text/x-python",
   "name": "python",
   "nbconvert_exporter": "python",
   "pygments_lexer": "ipython3",
   "version": "3.6.7"
  }
 },
 "nbformat": 4,
 "nbformat_minor": 2
}
