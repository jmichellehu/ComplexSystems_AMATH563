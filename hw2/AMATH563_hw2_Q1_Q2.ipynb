{
 "cells": [
  {
   "cell_type": "markdown",
   "metadata": {},
   "source": [
    "Michelle Hu  \n",
    "---\n",
    "University of Washington  \n",
    "AMATH 563  \n",
    "Homework 2  \n",
    "Due: May 2, 2020  "
   ]
  },
  {
   "cell_type": "code",
   "execution_count": 1,
   "metadata": {},
   "outputs": [],
   "source": [
    "%load_ext autoreload\n",
    "%autoreload 2"
   ]
  },
  {
   "cell_type": "code",
   "execution_count": 2,
   "metadata": {},
   "outputs": [],
   "source": [
    "import os\n",
    "import pandas as pd\n",
    "import numpy as np\n",
    "import matplotlib.pyplot as plt"
   ]
  },
  {
   "cell_type": "code",
   "execution_count": 3,
   "metadata": {
    "scrolled": true
   },
   "outputs": [],
   "source": [
    "wd = \"/mnt/Backups/jmhu\"\n",
    "\n",
    "data_dir = wd + \"/git_dirs/ComplexSystems_AMATH563/hw2/data/\"\n",
    "model_dir = wd + \"/git_dirs/ComplexSystems_AMATH563/hw2/models/\"\n",
    "fig_dir = wd + \"/git_dirs/ComplexSystems_AMATH563/hw2/figures/\"\n",
    "    \n",
    "if not os.path.exists(data_dir):\n",
    "    !mkdir $data_dir\n",
    "\n",
    "if not os.path.exists(model_dir):\n",
    "    !mkdir $model_dir\n",
    "\n",
    "if not os.path.exists(fig_dir):\n",
    "    !mkdir $fig_dir"
   ]
  },
  {
   "cell_type": "markdown",
   "metadata": {},
   "source": [
    "### Load data"
   ]
  },
  {
   "cell_type": "code",
   "execution_count": 4,
   "metadata": {},
   "outputs": [
    {
     "data": {
      "text/html": [
       "<div>\n",
       "<style scoped>\n",
       "    .dataframe tbody tr th:only-of-type {\n",
       "        vertical-align: middle;\n",
       "    }\n",
       "\n",
       "    .dataframe tbody tr th {\n",
       "        vertical-align: top;\n",
       "    }\n",
       "\n",
       "    .dataframe thead th {\n",
       "        text-align: right;\n",
       "    }\n",
       "</style>\n",
       "<table border=\"1\" class=\"dataframe\">\n",
       "  <thead>\n",
       "    <tr style=\"text-align: right;\">\n",
       "      <th></th>\n",
       "      <th>Year</th>\n",
       "      <th>Hare</th>\n",
       "      <th>Lynx</th>\n",
       "    </tr>\n",
       "  </thead>\n",
       "  <tbody>\n",
       "    <tr>\n",
       "      <th>0</th>\n",
       "      <td>1845</td>\n",
       "      <td>20</td>\n",
       "      <td>32</td>\n",
       "    </tr>\n",
       "    <tr>\n",
       "      <th>1</th>\n",
       "      <td>1847</td>\n",
       "      <td>20</td>\n",
       "      <td>50</td>\n",
       "    </tr>\n",
       "    <tr>\n",
       "      <th>2</th>\n",
       "      <td>1849</td>\n",
       "      <td>52</td>\n",
       "      <td>12</td>\n",
       "    </tr>\n",
       "    <tr>\n",
       "      <th>3</th>\n",
       "      <td>1851</td>\n",
       "      <td>83</td>\n",
       "      <td>10</td>\n",
       "    </tr>\n",
       "    <tr>\n",
       "      <th>4</th>\n",
       "      <td>1853</td>\n",
       "      <td>64</td>\n",
       "      <td>13</td>\n",
       "    </tr>\n",
       "  </tbody>\n",
       "</table>\n",
       "</div>"
      ],
      "text/plain": [
       "   Year  Hare  Lynx\n",
       "0  1845    20    32\n",
       "1  1847    20    50\n",
       "2  1849    52    12\n",
       "3  1851    83    10\n",
       "4  1853    64    13"
      ]
     },
     "execution_count": 4,
     "metadata": {},
     "output_type": "execute_result"
    }
   ],
   "source": [
    "df = pd.read_csv(data_dir+\"population_data.csv\")\n",
    "df.head()"
   ]
  },
  {
   "cell_type": "markdown",
   "metadata": {},
   "source": [
    "### Question 1. Develop a DMD model to forecast the future population states"
   ]
  },
  {
   "cell_type": "markdown",
   "metadata": {},
   "source": [
    "#### Set-up matrices"
   ]
  },
  {
   "cell_type": "code",
   "execution_count": 5,
   "metadata": {},
   "outputs": [
    {
     "name": "stdout",
     "output_type": "stream",
     "text": [
      "(29, 1) (29, 1) (29, 1) (29, 1)\n",
      "(29, 1) (29, 1) (29, 1) (29, 1)\n"
     ]
    }
   ],
   "source": [
    "X=df.Hare.values[:-1]\n",
    "Y=df.Lynx.values[:-1]\n",
    "\n",
    "X=np.expand_dims(X, 1)\n",
    "Y=np.expand_dims(Y, 1)\n",
    "\n",
    "Xprime=df.Hare.values[1:]\n",
    "Yprime=df.Lynx.values[1:]\n",
    "\n",
    "Xprime=np.expand_dims(Xprime, 1)\n",
    "Yprime=np.expand_dims(Yprime, 1)\n",
    "\n",
    "print(X.shape, Xprime.shape, Y.shape, Yprime.shape)\n",
    "print(X.shape, Xprime.shape, Y.shape, Yprime.shape)\n",
    "\n",
    "# X=df.values[:-1, 1:3]\n",
    "# Xprime=df.values[1:, 1:3]\n",
    "\n",
    "# print(X.shape, Xprime.shape)"
   ]
  },
  {
   "cell_type": "code",
   "execution_count": 6,
   "metadata": {},
   "outputs": [],
   "source": [
    "def DMD(X,Xprime,r, dt=2):\n",
    "    '''Dynamic Mode Decomposition Function from book'''\n",
    "    U,Sigma,VT = np.linalg.svd(X,full_matrices=0) # Step 1\n",
    "    Ur = U[:,:r]\n",
    "    Sigmar = np.diag(Sigma[:r])\n",
    "    VTr = VT[:r,:]\n",
    "    Atilde = np.linalg.solve(Sigmar.T,(Ur.T @ Xprime @ VTr.T).T).T # Step 2\n",
    "    Lambda, W = np.linalg.eig(Atilde) # Step 3\n",
    "    Lambda = np.diag(Lambda)\n",
    "    \n",
    "    Phi = Xprime @ np.linalg.solve(Sigmar.T,VTr).T @ W # Step 4\n",
    "    alpha1 = Sigmar @ VTr[:,0]\n",
    "    b = np.linalg.solve(W @ Lambda,alpha1)\n",
    "    Omega = np.log(Lambda)/dt\n",
    "    return Phi, Omega, b, Lambda"
   ]
  },
  {
   "cell_type": "markdown",
   "metadata": {},
   "source": [
    "#### Run DMD"
   ]
  },
  {
   "cell_type": "code",
   "execution_count": 7,
   "metadata": {},
   "outputs": [],
   "source": [
    "# Playing with Phi as single value\n",
    "# Phi_X, Lambda_X, b_X = DMD(X, Xprime, 28)\n",
    "# # Phi_X, Lambda_X, b_X = DMD(X.T, Xprime.T, 28)\n",
    "# # Phi_Y, Lambda_Y, b_Y = DMD(Y.T, Yprime.T, 28)\n",
    "\n",
    "# print(b_X.shape, Phi_X.shape, Lambda_X.shape)\n",
    "# # print(b_Y.shape, Phi_Y.shape, Lambda_Y.shape)"
   ]
  },
  {
   "cell_type": "code",
   "execution_count": 8,
   "metadata": {},
   "outputs": [
    {
     "name": "stdout",
     "output_type": "stream",
     "text": [
      " Phi : Omega : b \n",
      "(29, 1) (1, 1) (1,)\n",
      "(29, 1) (1, 1) (1,)\n"
     ]
    }
   ],
   "source": [
    "r=4\n",
    "Phi_X, Omega_X, b_X, Lambda_X = DMD(X, Xprime, r)\n",
    "Phi_Y, Omega_Y, b_Y, Lambda_Y = DMD(Y, Yprime, r)\n",
    "\n",
    "print(\" Phi : Omega : b \", )\n",
    "print(Phi_X.shape, Omega_X.shape, b_X.shape)\n",
    "print(Phi_Y.shape, Omega_X.shape, b_Y.shape)"
   ]
  },
  {
   "cell_type": "code",
   "execution_count": 9,
   "metadata": {},
   "outputs": [
    {
     "data": {
      "text/plain": [
       "(array([[0.7467699]]), array([[0.7855714]]))"
      ]
     },
     "execution_count": 9,
     "metadata": {},
     "output_type": "execute_result"
    }
   ],
   "source": [
    "Lambda_X, Lambda_Y"
   ]
  },
  {
   "cell_type": "markdown",
   "metadata": {},
   "source": [
    "### => => => No imaginary components for Lambda values "
   ]
  },
  {
   "cell_type": "code",
   "execution_count": 10,
   "metadata": {},
   "outputs": [],
   "source": [
    "def forecast(Phi, Lambda, t, b):\n",
    "    f = Phi*np.exp((np.log(Lambda)/2)*t)*b\n",
    "#     f1 = Phi*np.exp((np.log(Lambda)/2)*1j*t)*b\n",
    "#     f2 = Phi*np.exp((np.log(Lambda)/2)*-1j*t)*b\n",
    "#     f = Phi*np.exp(Omega)*b\n",
    "#     f = f1 + f2\n",
    "    return(f)\n",
    "\n",
    "# def forecast(Phi, Omega, t, b):\n",
    "#     f1 = Phi*np.exp(Omega*1j*t)*b\n",
    "#     f2 = Phi*np.exp(Omega*-1j*t)*b\n",
    "# #     f = Phi*np.exp(Omega)*b\n",
    "#     f = f1 + f2\n",
    "#     return(f)\n",
    "\n",
    "def forecast_t(Phi, Lambda, t, b, IC):\n",
    "    '''hares_t'''\n",
    "    Omega = np.log(Lambda)/2\n",
    "    f = np.array(Phi*np.exp(Omega*t)*b).squeeze()\n",
    "#     f1 = np.array(Phi*np.exp(Omega*t)*b).squeeze()\n",
    "#     f2 = np.array(Phi*np.exp(-Omega*t)*b).squeeze()\n",
    "#     f = f1 + f2\n",
    "    f = np.insert(arr=f, obj=0, values=IC)\n",
    "    return(f)\n",
    "\n",
    "def forecast_not(Phi, Lambda, b, IC):\n",
    "    '''dmd_hares, now hares_not'''\n",
    "    Omega = np.log(Lambda)/2\n",
    "    f = np.array(Phi*np.exp(Omega)*b).squeeze()\n",
    "#     f1 = np.array(Phi*np.exp(Omega)*b).squeeze()\n",
    "#     f2 = np.array(Phi*np.exp(-Omega)*b).squeeze()\n",
    "#     f = f1 + f2 \n",
    "    f = np.insert(arr=f, obj=0, values=IC)\n",
    "    return(f)"
   ]
  },
  {
   "cell_type": "code",
   "execution_count": 13,
   "metadata": {},
   "outputs": [],
   "source": [
    "Phi=Phi_X\n",
    "Lambda=Lambda_X\n",
    "# Omega=Omega_X\n",
    "b=b_X\n",
    "t=df.Year.values\n",
    "\n",
    "# # z=forecast(Phi, Omega, t, b).squeeze()\n",
    "\n",
    "# t=np.arange(0, len(t), 1)\n",
    "# z=np.zeros((len(t), 2))\n",
    "\n",
    "# for i in range(len(t)):\n",
    "#     z[i] = forecast(Phi, Lambda, i, b)\n",
    "\n",
    "# plt.plot(z, \":\")\n",
    "# plt.plot(X)"
   ]
  },
  {
   "cell_type": "code",
   "execution_count": 14,
   "metadata": {},
   "outputs": [],
   "source": [
    "# Without time + IC\n",
    "hares_not = forecast_not(Phi_X, Lambda_X, b_X, df.Hare.values[0])\n",
    "\n",
    "#  With time + IC\n",
    "hares_t = []\n",
    "lynx_t = []\n",
    "\n",
    "years=df.Year.values\n",
    "for t in range(len(years)-1):\n",
    "    hares_t.append(forecast_t(Phi_X, Lambda_X, t, b_X, df.Hare.values[0]))\n",
    "    lynx_t.append(forecast_t(Phi_Y, Lambda_Y, t, b_Y, df.Lynx.values[0]))\n",
    "    \n",
    "# Convert to arrays and remove singleton dimensions\n",
    "hares_t = np.array([(h) for h in hares_t]).squeeze()\n",
    "lynx_t = np.array([(l) for l in lynx_t]).squeeze()"
   ]
  },
  {
   "cell_type": "code",
   "execution_count": 15,
   "metadata": {},
   "outputs": [
    {
     "data": {
      "text/plain": [
       "<matplotlib.legend.Legend at 0x7efd06f67198>"
      ]
     },
     "execution_count": 15,
     "metadata": {},
     "output_type": "execute_result"
    },
    {
     "data": {
      "image/png": "[encoded data removed]",
      "text/plain": [
       "<Figure size 432x288 with 1 Axes>"
      ]
     },
     "metadata": {
      "needs_background": "light"
     },
     "output_type": "display_data"
    }
   ],
   "source": [
    "plt.figure()\n",
    "# plt.plot(hares_t, \"b--\", label=\"Forecast Hares\")\n",
    "plt.plot(hares_not, \":\", label=\"Forecast Hares no time\")\n",
    "\n",
    "plt.plot(df.Hare, \"ko\", label=\"True Hares\")\n",
    "plt.legend(loc=\"upper left\")"
   ]
  },
  {
   "cell_type": "markdown",
   "metadata": {},
   "source": [
    "### Question 2.  Do a time-delay DMD model to produce a forecast and compare with regular DMD. Determine if it is likely that there are latent variables."
   ]
  },
  {
   "cell_type": "code",
   "execution_count": 16,
   "metadata": {},
   "outputs": [
    {
     "name": "stdout",
     "output_type": "stream",
     "text": [
      "(30, 30) (30, 30)\n"
     ]
    }
   ],
   "source": [
    "X=df.Hare.values\n",
    "Y=df.Lynx.values\n",
    "\n",
    "from scipy.linalg import hankel\n",
    "\n",
    "# Construct Hankel matrix\n",
    "H_X = hankel(X)\n",
    "H_Y = hankel(Y)\n",
    "\n",
    "print(H_X.shape, H_Y.shape)"
   ]
  },
  {
   "cell_type": "code",
   "execution_count": 17,
   "metadata": {},
   "outputs": [
    {
     "name": "stdout",
     "output_type": "stream",
     "text": [
      "21\n",
      "20\n"
     ]
    },
    {
     "data": {
      "image/png": "[encoded data removed]",
      "text/plain": [
       "<Figure size 1008x576 with 4 Axes>"
      ]
     },
     "metadata": {
      "needs_background": "light"
     },
     "output_type": "display_data"
    }
   ],
   "source": [
    "import seaborn as sns\n",
    "\n",
    "# Take SVD of H_X\n",
    "u, s, v = np.linalg.svd(H_X)\n",
    "var_explained = np.round(s**2/np.sum(s**2), decimals=3)\n",
    "print(len(var_explained[var_explained>0]))\n",
    "\n",
    "fig, ax = plt.subplots(2, 2, figsize=(14, 8), sharey=True)\n",
    "ax[0,0].plot(var_explained)\n",
    "ax[0,0].plot(np.diag(np.diagflat(s)/np.sum(np.diagflat(s))), \"ro\");\n",
    "ax[1,0].set_xlabel('SVs', fontsize=16)\n",
    "ax[1,0].set_ylabel('% Variance Explained', fontsize=16)\n",
    "sns.barplot(x=list(range(1,len(var_explained)+1)),\n",
    "            y=var_explained, color=\"limegreen\", ec='k', ax=ax[0,1])\n",
    "\n",
    "# Take SVD of H_Y\n",
    "u, s, v = np.linalg.svd(H_Y)\n",
    "var_explained = np.round(s**2/np.sum(s**2), decimals=3)\n",
    "print(len(var_explained[var_explained>0]))\n",
    "ax[1,0].plot(var_explained)\n",
    "ax[1,0].plot(np.diag(np.diagflat(s)/np.sum(np.diagflat(s))), \"ro\");\n",
    "\n",
    "\n",
    "sns.barplot(x=list(range(1,len(var_explained)+1)),\n",
    "            y=var_explained, color=\"limegreen\", ec='k', ax=ax[1,1])\n",
    "plt.xlabel('SVs', fontsize=16);"
   ]
  },
  {
   "cell_type": "markdown",
   "metadata": {},
   "source": [
    "#### SVD of Hankel matrix shows that there are 20 and 21 non-zero modes for hare and lynx populations based on this small dataset"
   ]
  },
  {
   "cell_type": "markdown",
   "metadata": {},
   "source": [
    "This suggests that there are quite a few latent variables not being measured in this dynamic system as we are only measuring 2 variables (lynx and hare)"
   ]
  },
  {
   "cell_type": "code",
   "execution_count": 18,
   "metadata": {},
   "outputs": [
    {
     "name": "stdout",
     "output_type": "stream",
     "text": [
      "Hankel shape: (60, 60)\n",
      "39\n"
     ]
    },
    {
     "data": {
      "image/png": "[encoded data removed]",
      "text/plain": [
       "<Figure size 1008x288 with 1 Axes>"
      ]
     },
     "metadata": {
      "needs_background": "light"
     },
     "output_type": "display_data"
    }
   ],
   "source": [
    "import seaborn as sns\n",
    "\n",
    "# Construct Hankel matrix\n",
    "combined=df.values[:, 1:]\n",
    "H_combined = hankel(combined)\n",
    "print(\"Hankel shape:\", H_combined.shape)\n",
    "\n",
    "# Take SVD of H\n",
    "u, s, v = np.linalg.svd(H_combined)\n",
    "var_explained = np.round(s**2/np.sum(s**2), decimals=3)\n",
    "print(len(var_explained[var_explained>0]))\n",
    "\n",
    "fig, ax = plt.subplots(1, figsize=(14, 4), sharey=True)\n",
    "ax.plot(var_explained)\n",
    "ax.plot(np.diag(np.diagflat(s)/np.sum(np.diagflat(s))), \"ro\");\n",
    "ax.set_xlabel('SVs', fontsize=16)\n",
    "ax.set_ylabel('% Variance Explained', fontsize=16)\n",
    "sns.barplot(x=list(range(1,len(var_explained)+1)),\n",
    "            y=var_explained, color=\"limegreen\", ec='k', ax=ax);"
   ]
  },
  {
   "cell_type": "markdown",
   "metadata": {},
   "source": [
    "### Forecast"
   ]
  },
  {
   "cell_type": "code",
   "execution_count": null,
   "metadata": {},
   "outputs": [],
   "source": []
  },
  {
   "cell_type": "code",
   "execution_count": null,
   "metadata": {},
   "outputs": [],
   "source": []
  },
  {
   "cell_type": "markdown",
   "metadata": {},
   "source": [
    "### Save models"
   ]
  },
  {
   "cell_type": "code",
   "execution_count": null,
   "metadata": {},
   "outputs": [],
   "source": []
  }
 ],
 "metadata": {
  "kernelspec": {
   "display_name": "gda_py3",
   "language": "python",
   "name": "gda_py3"
  },
  "language_info": {
   "codemirror_mode": {
    "name": "ipython",
    "version": 3
   },
   "file_extension": ".py",
   "mimetype": "text/x-python",
   "name": "python",
   "nbconvert_exporter": "python",
   "pygments_lexer": "ipython3",
   "version": "3.6.7"
  }
 },
 "nbformat": 4,
 "nbformat_minor": 2
}
