{
 "cells": [
  {
   "cell_type": "markdown",
   "metadata": {},
   "source": [
    "Michelle Hu  \n",
    "---\n",
    "University of Washington  \n",
    "AMATH 563  \n",
    "Homework 2  \n",
    "Due: May 2, 2020  "
   ]
  },
  {
   "cell_type": "code",
   "execution_count": 1,
   "metadata": {},
   "outputs": [],
   "source": [
    "%load_ext autoreload\n",
    "%autoreload 2"
   ]
  },
  {
   "cell_type": "code",
   "execution_count": 2,
   "metadata": {},
   "outputs": [],
   "source": [
    "import os\n",
    "import pandas as pd\n",
    "import numpy as np\n",
    "import matplotlib.pyplot as plt"
   ]
  },
  {
   "cell_type": "code",
   "execution_count": 3,
   "metadata": {
    "scrolled": true
   },
   "outputs": [],
   "source": [
    "wd = \"/mnt/Backups/jmhu\"\n",
    "\n",
    "data_dir = wd + \"/git_dirs/ComplexSystems_AMATH563/hw2/data/\"\n",
    "model_dir = wd + \"/git_dirs/ComplexSystems_AMATH563/hw2/models/\"\n",
    "fig_dir = wd + \"/git_dirs/ComplexSystems_AMATH563/hw2/figures/\"\n",
    "    \n",
    "if not os.path.exists(data_dir):\n",
    "    !mkdir $data_dir\n",
    "\n",
    "if not os.path.exists(model_dir):\n",
    "    !mkdir $model_dir\n",
    "\n",
    "if not os.path.exists(fig_dir):\n",
    "    !mkdir $fig_dir"
   ]
  },
  {
   "cell_type": "code",
   "execution_count": 4,
   "metadata": {},
   "outputs": [],
   "source": [
    "df = pd.read_csv(data_dir+\"population_data.csv\"\n",
    "                )"
   ]
  },
  {
   "cell_type": "code",
   "execution_count": 5,
   "metadata": {
    "scrolled": true
   },
   "outputs": [
    {
     "data": {
      "text/html": [
       "<div>\n",
       "<style scoped>\n",
       "    .dataframe tbody tr th:only-of-type {\n",
       "        vertical-align: middle;\n",
       "    }\n",
       "\n",
       "    .dataframe tbody tr th {\n",
       "        vertical-align: top;\n",
       "    }\n",
       "\n",
       "    .dataframe thead th {\n",
       "        text-align: right;\n",
       "    }\n",
       "</style>\n",
       "<table border=\"1\" class=\"dataframe\">\n",
       "  <thead>\n",
       "    <tr style=\"text-align: right;\">\n",
       "      <th></th>\n",
       "      <th>Year</th>\n",
       "      <th>Hare</th>\n",
       "      <th>Lynx</th>\n",
       "    </tr>\n",
       "  </thead>\n",
       "  <tbody>\n",
       "    <tr>\n",
       "      <th>0</th>\n",
       "      <td>1845</td>\n",
       "      <td>20</td>\n",
       "      <td>32</td>\n",
       "    </tr>\n",
       "    <tr>\n",
       "      <th>1</th>\n",
       "      <td>1847</td>\n",
       "      <td>20</td>\n",
       "      <td>50</td>\n",
       "    </tr>\n",
       "    <tr>\n",
       "      <th>2</th>\n",
       "      <td>1849</td>\n",
       "      <td>52</td>\n",
       "      <td>12</td>\n",
       "    </tr>\n",
       "    <tr>\n",
       "      <th>3</th>\n",
       "      <td>1851</td>\n",
       "      <td>83</td>\n",
       "      <td>10</td>\n",
       "    </tr>\n",
       "    <tr>\n",
       "      <th>4</th>\n",
       "      <td>1853</td>\n",
       "      <td>64</td>\n",
       "      <td>13</td>\n",
       "    </tr>\n",
       "  </tbody>\n",
       "</table>\n",
       "</div>"
      ],
      "text/plain": [
       "   Year  Hare  Lynx\n",
       "0  1845    20    32\n",
       "1  1847    20    50\n",
       "2  1849    52    12\n",
       "3  1851    83    10\n",
       "4  1853    64    13"
      ]
     },
     "execution_count": 5,
     "metadata": {},
     "output_type": "execute_result"
    }
   ],
   "source": [
    "df.head()"
   ]
  },
  {
   "cell_type": "markdown",
   "metadata": {},
   "source": [
    "### Question 1. Develop a DMD model to forecast the future population states"
   ]
  },
  {
   "cell_type": "markdown",
   "metadata": {},
   "source": [
    "#### Set-up"
   ]
  },
  {
   "cell_type": "code",
   "execution_count": 48,
   "metadata": {},
   "outputs": [
    {
     "name": "stdout",
     "output_type": "stream",
     "text": [
      "(29, 1) (29, 1) (29, 1) (29, 1)\n"
     ]
    }
   ],
   "source": [
    "X=df.Hare.values[:-1]\n",
    "Y=df.Lynx.values[:-1]\n",
    "\n",
    "X=np.expand_dims(X, 1)\n",
    "Y=np.expand_dims(Y, 1)\n",
    "\n",
    "Xprime=df.Hare.values[1:]\n",
    "Yprime=df.Lynx.values[1:]\n",
    "\n",
    "Xprime=np.expand_dims(Xprime, 1)\n",
    "Yprime=np.expand_dims(Yprime, 1)\n",
    "\n",
    "print(X.shape, Xprime.shape, Y.shape, Yprime.shape)"
   ]
  },
  {
   "cell_type": "code",
   "execution_count": 45,
   "metadata": {},
   "outputs": [],
   "source": [
    "def DMD(X,Xprime,r):\n",
    "    '''Dynamic Mode Decomposition Function from book'''\n",
    "    U,Sigma,VT = np.linalg.svd(X,full_matrices=0) # Step 1\n",
    "    Ur = U[:,:r]\n",
    "    Sigmar = np.diag(Sigma[:r])\n",
    "    VTr = VT[:r,:]\n",
    "    Atilde = np.linalg.solve(Sigmar.T,(Ur.T @ Xprime @ VTr.T).T).T # Step 2\n",
    "    Lambda, W = np.linalg.eig(Atilde) # Step 3\n",
    "    Lambda = np.diag(Lambda)\n",
    "    \n",
    "    Phi = Xprime @ np.linalg.solve(Sigmar.T,VTr).T @ W # Step 4\n",
    "    alpha1 = Sigmar @ VTr[:,0]\n",
    "    b = np.linalg.solve(W @ Lambda,alpha1)\n",
    "    return Phi, Lambda, b"
   ]
  },
  {
   "cell_type": "markdown",
   "metadata": {},
   "source": [
    "#### Run DMD"
   ]
  },
  {
   "cell_type": "code",
   "execution_count": 69,
   "metadata": {},
   "outputs": [
    {
     "name": "stdout",
     "output_type": "stream",
     "text": [
      "(1,) (29, 1) (1, 1)\n",
      "(1,) (29, 1) (1, 1)\n"
     ]
    }
   ],
   "source": [
    "r=3\n",
    "Phi_X, Lambda_X, b_X = DMD(X, Xprime, r)\n",
    "Phi_Y, Lambda_Y, b_Y = DMD(Y, Yprime, r)\n",
    "\n",
    "print(b_X.shape, Phi_X.shape, Lambda_X.shape)\n",
    "print(b_Y.shape, Phi_Y.shape, Lambda_Y.shape)"
   ]
  },
  {
   "cell_type": "markdown",
   "metadata": {},
   "source": [
    "#### Forecast population sizes - need help here"
   ]
  },
  {
   "cell_type": "code",
   "execution_count": 53,
   "metadata": {},
   "outputs": [
    {
     "ename": "TypeError",
     "evalue": "only size-1 arrays can be converted to Python scalars",
     "output_type": "error",
     "traceback": [
      "\u001b[0;31m---------------------------------------------------------------------------\u001b[0m",
      "\u001b[0;31mTypeError\u001b[0m                                 Traceback (most recent call last)",
      "\u001b[0;32m<ipython-input-53-44b3d364bc51>\u001b[0m in \u001b[0;36m<module>\u001b[0;34m\u001b[0m\n\u001b[1;32m      9\u001b[0m \u001b[0;31m# Calculate DMD-derived populations\u001b[0m\u001b[0;34m\u001b[0m\u001b[0;34m\u001b[0m\u001b[0;34m\u001b[0m\u001b[0m\n\u001b[1;32m     10\u001b[0m \u001b[0;32mfor\u001b[0m \u001b[0mt\u001b[0m \u001b[0;32min\u001b[0m \u001b[0mrange\u001b[0m\u001b[0;34m(\u001b[0m\u001b[0mlen\u001b[0m\u001b[0;34m(\u001b[0m\u001b[0myears\u001b[0m\u001b[0;34m)\u001b[0m\u001b[0;34m)\u001b[0m\u001b[0;34m:\u001b[0m\u001b[0;34m\u001b[0m\u001b[0;34m\u001b[0m\u001b[0m\n\u001b[0;32m---> 11\u001b[0;31m     \u001b[0mhares_dmd\u001b[0m\u001b[0;34m.\u001b[0m\u001b[0mappend\u001b[0m\u001b[0;34m(\u001b[0m\u001b[0mforecast\u001b[0m\u001b[0;34m(\u001b[0m\u001b[0mPhi_X\u001b[0m\u001b[0;34m,\u001b[0m \u001b[0mLambda_X\u001b[0m\u001b[0;34m,\u001b[0m \u001b[0mt\u001b[0m\u001b[0;34m,\u001b[0m \u001b[0mb_X\u001b[0m\u001b[0;34m)\u001b[0m\u001b[0;34m)\u001b[0m\u001b[0;34m\u001b[0m\u001b[0;34m\u001b[0m\u001b[0m\n\u001b[0m\u001b[1;32m     12\u001b[0m     \u001b[0mlynx_dmd\u001b[0m\u001b[0;34m.\u001b[0m\u001b[0mappend\u001b[0m\u001b[0;34m(\u001b[0m\u001b[0mforecast\u001b[0m\u001b[0;34m(\u001b[0m\u001b[0mPhi_Y\u001b[0m\u001b[0;34m,\u001b[0m \u001b[0mLambda_Y\u001b[0m\u001b[0;34m,\u001b[0m \u001b[0mt\u001b[0m\u001b[0;34m,\u001b[0m \u001b[0mb_Y\u001b[0m\u001b[0;34m)\u001b[0m\u001b[0;34m)\u001b[0m\u001b[0;34m\u001b[0m\u001b[0;34m\u001b[0m\u001b[0m\n\u001b[1;32m     13\u001b[0m \u001b[0;34m\u001b[0m\u001b[0m\n",
      "\u001b[0;32m<ipython-input-53-44b3d364bc51>\u001b[0m in \u001b[0;36mforecast\u001b[0;34m(Phi, Lambda, t, b)\u001b[0m\n\u001b[1;32m      1\u001b[0m \u001b[0;32mdef\u001b[0m \u001b[0mforecast\u001b[0m\u001b[0;34m(\u001b[0m\u001b[0mPhi\u001b[0m\u001b[0;34m,\u001b[0m \u001b[0mLambda\u001b[0m\u001b[0;34m,\u001b[0m \u001b[0mt\u001b[0m\u001b[0;34m,\u001b[0m \u001b[0mb\u001b[0m\u001b[0;34m)\u001b[0m\u001b[0;34m:\u001b[0m\u001b[0;34m\u001b[0m\u001b[0;34m\u001b[0m\u001b[0m\n\u001b[0;32m----> 2\u001b[0;31m     \u001b[0;32mreturn\u001b[0m\u001b[0;34m(\u001b[0m\u001b[0mint\u001b[0m\u001b[0;34m(\u001b[0m\u001b[0mnp\u001b[0m\u001b[0;34m.\u001b[0m\u001b[0marray\u001b[0m\u001b[0;34m(\u001b[0m\u001b[0mPhi\u001b[0m\u001b[0;34m*\u001b[0m\u001b[0mnp\u001b[0m\u001b[0;34m.\u001b[0m\u001b[0mexp\u001b[0m\u001b[0;34m(\u001b[0m\u001b[0mLambda\u001b[0m\u001b[0;34m*\u001b[0m\u001b[0mt\u001b[0m\u001b[0;34m)\u001b[0m\u001b[0;34m*\u001b[0m\u001b[0mb\u001b[0m\u001b[0;34m)\u001b[0m\u001b[0;34m.\u001b[0m\u001b[0msqueeze\u001b[0m\u001b[0;34m(\u001b[0m\u001b[0;34m)\u001b[0m\u001b[0;34m)\u001b[0m\u001b[0;34m)\u001b[0m\u001b[0;34m\u001b[0m\u001b[0;34m\u001b[0m\u001b[0m\n\u001b[0m\u001b[1;32m      3\u001b[0m \u001b[0;34m\u001b[0m\u001b[0m\n\u001b[1;32m      4\u001b[0m \u001b[0mhares_dmd\u001b[0m\u001b[0;34m=\u001b[0m\u001b[0;34m[\u001b[0m\u001b[0;34m]\u001b[0m\u001b[0;34m\u001b[0m\u001b[0;34m\u001b[0m\u001b[0m\n\u001b[1;32m      5\u001b[0m \u001b[0mlynx_dmd\u001b[0m\u001b[0;34m=\u001b[0m\u001b[0;34m[\u001b[0m\u001b[0;34m]\u001b[0m\u001b[0;34m\u001b[0m\u001b[0;34m\u001b[0m\u001b[0m\n",
      "\u001b[0;31mTypeError\u001b[0m: only size-1 arrays can be converted to Python scalars"
     ]
    }
   ],
   "source": [
    "def forecast(Phi, Lambda, t, b):\n",
    "    return(int(np.array(Phi*np.exp(Lambda*t)*b).squeeze()))\n",
    "\n",
    "hares_dmd=[]\n",
    "lynx_dmd=[]\n",
    "\n",
    "years = df.Year.values\n",
    "\n",
    "# Calculate DMD-derived populations\n",
    "for t in range(len(years)):\n",
    "    hares_dmd.append(forecast(Phi_X, Lambda_X, t, b_X))\n",
    "    lynx_dmd.append(forecast(Phi_Y, Lambda_Y, t, b_Y))\n",
    "    \n",
    "# Convert to arrays and remove singleton dimensions\n",
    "hares_dmd = np.array([int(h) for h in hares_dmd]).squeeze()\n",
    "lynx_dmd = np.array([int(l) for l in lynx_dmd]).squeeze()"
   ]
  },
  {
   "cell_type": "code",
   "execution_count": 63,
   "metadata": {},
   "outputs": [
    {
     "data": {
      "text/plain": [
       "(array([26.78201147]), array([[26.78201147]]))"
      ]
     },
     "execution_count": 63,
     "metadata": {},
     "output_type": "execute_result"
    }
   ],
   "source": [
    "t=0\n",
    "Phi_X[t]*b_X, Phi_X[t]*np.exp(Lambda_X*t)*b_X"
   ]
  },
  {
   "cell_type": "code",
   "execution_count": 65,
   "metadata": {},
   "outputs": [
    {
     "data": {
      "text/plain": [
       "(array([69.63322981]), array(146.93815623))"
      ]
     },
     "execution_count": 65,
     "metadata": {},
     "output_type": "execute_result"
    }
   ],
   "source": [
    "t=1\n",
    "Phi_X[t]*b_X, (Phi_X[t]*np.exp(Lambda_X*t)*b_X).squeeze()"
   ]
  },
  {
   "cell_type": "code",
   "execution_count": 66,
   "metadata": {},
   "outputs": [
    {
     "ename": "IndexError",
     "evalue": "index 30 is out of bounds for axis 0 with size 29",
     "output_type": "error",
     "traceback": [
      "\u001b[0;31m---------------------------------------------------------------------------\u001b[0m",
      "\u001b[0;31mIndexError\u001b[0m                                Traceback (most recent call last)",
      "\u001b[0;32m<ipython-input-66-401239888fb0>\u001b[0m in \u001b[0;36m<module>\u001b[0;34m\u001b[0m\n\u001b[1;32m      1\u001b[0m \u001b[0mt\u001b[0m\u001b[0;34m=\u001b[0m\u001b[0;36m30\u001b[0m\u001b[0;34m\u001b[0m\u001b[0;34m\u001b[0m\u001b[0m\n\u001b[0;32m----> 2\u001b[0;31m \u001b[0mPhi_X\u001b[0m\u001b[0;34m[\u001b[0m\u001b[0mt\u001b[0m\u001b[0;34m]\u001b[0m\u001b[0;34m*\u001b[0m\u001b[0mb_X\u001b[0m\u001b[0;34m,\u001b[0m \u001b[0;34m(\u001b[0m\u001b[0mPhi_X\u001b[0m\u001b[0;34m[\u001b[0m\u001b[0mt\u001b[0m\u001b[0;34m]\u001b[0m\u001b[0;34m*\u001b[0m\u001b[0mnp\u001b[0m\u001b[0;34m.\u001b[0m\u001b[0mexp\u001b[0m\u001b[0;34m(\u001b[0m\u001b[0mLambda_X\u001b[0m\u001b[0;34m*\u001b[0m\u001b[0mt\u001b[0m\u001b[0;34m)\u001b[0m\u001b[0;34m*\u001b[0m\u001b[0mb_X\u001b[0m\u001b[0;34m)\u001b[0m\u001b[0;34m.\u001b[0m\u001b[0msqueeze\u001b[0m\u001b[0;34m(\u001b[0m\u001b[0;34m)\u001b[0m\u001b[0;34m\u001b[0m\u001b[0;34m\u001b[0m\u001b[0m\n\u001b[0m",
      "\u001b[0;31mIndexError\u001b[0m: index 30 is out of bounds for axis 0 with size 29"
     ]
    }
   ],
   "source": [
    "t=30\n",
    "Phi_X[t]*b_X, (Phi_X[t]*np.exp(Lambda_X*t)*b_X).squeeze()"
   ]
  },
  {
   "cell_type": "code",
   "execution_count": 59,
   "metadata": {},
   "outputs": [
    {
     "data": {
      "text/plain": [
       "[<matplotlib.lines.Line2D at 0x7f16e290bf28>]"
      ]
     },
     "execution_count": 59,
     "metadata": {},
     "output_type": "execute_result"
    },
    {
     "data": {
      "image/png": "[encoded data removed]",
      "text/plain": [
       "<Figure size 432x288 with 1 Axes>"
      ]
     },
     "metadata": {
      "needs_background": "light"
     },
     "output_type": "display_data"
    }
   ],
   "source": [
    "plt.plot(Phi_X*b_X)\n",
    "plt.plot(X)"
   ]
  },
  {
   "cell_type": "markdown",
   "metadata": {},
   "source": [
    "#### Population at time 0"
   ]
  },
  {
   "cell_type": "code",
   "execution_count": 10,
   "metadata": {},
   "outputs": [
    {
     "name": "stdout",
     "output_type": "stream",
     "text": [
      "19 hares\n",
      "31 lynx\n"
     ]
    }
   ],
   "source": [
    "t=0\n",
    "print(forecast(Phi_X, Lambda_X, t, b_X), \"hares\")\n",
    "print(forecast(Phi_Y, Lambda_Y, t, b_Y), \"lynx\")"
   ]
  },
  {
   "cell_type": "markdown",
   "metadata": {},
   "source": [
    "#### Population at time 1"
   ]
  },
  {
   "cell_type": "code",
   "execution_count": 11,
   "metadata": {},
   "outputs": [
    {
     "name": "stdout",
     "output_type": "stream",
     "text": [
      "42 hares\n",
      "70 lynx\n"
     ]
    }
   ],
   "source": [
    "t=1\n",
    "print(forecast(Phi_X, Lambda_X, t, b_X), \"hares\")\n",
    "print(forecast(Phi_Y, Lambda_Y, t, b_Y), \"lynx\")"
   ]
  },
  {
   "cell_type": "markdown",
   "metadata": {},
   "source": [
    "#### Population at time 20"
   ]
  },
  {
   "cell_type": "code",
   "execution_count": 12,
   "metadata": {},
   "outputs": [
    {
     "name": "stdout",
     "output_type": "stream",
     "text": [
      "61290183 hares\n",
      "213076956 lynx\n"
     ]
    }
   ],
   "source": [
    "t=20\n",
    "print(forecast(Phi_X, Lambda_X, t, b_X), \"hares\")\n",
    "print(forecast(Phi_Y, Lambda_Y, t, b_Y), \"lynx\")"
   ]
  },
  {
   "cell_type": "markdown",
   "metadata": {},
   "source": [
    "#### Population at time 31"
   ]
  },
  {
   "cell_type": "code",
   "execution_count": 13,
   "metadata": {},
   "outputs": [
    {
     "name": "stdout",
     "output_type": "stream",
     "text": [
      "226406783606 hares\n",
      "1206143726304 lynx\n"
     ]
    }
   ],
   "source": [
    "t=31\n",
    "print(forecast(Phi_X, Lambda_X, t, b_X), \"hares\")\n",
    "print(forecast(Phi_Y, Lambda_Y, t, b_Y), \"lynx\")"
   ]
  },
  {
   "cell_type": "markdown",
   "metadata": {},
   "source": [
    "### Question 2.  Do a time-delay DMD model to produce a forecast and compare with regular DMD. Determine if it is likely that there are latent variables."
   ]
  },
  {
   "cell_type": "code",
   "execution_count": 14,
   "metadata": {},
   "outputs": [
    {
     "name": "stdout",
     "output_type": "stream",
     "text": [
      "(30, 30) (30, 30)\n"
     ]
    }
   ],
   "source": [
    "X=df.Hare.values\n",
    "Y=df.Lynx.values\n",
    "\n",
    "from scipy.linalg import hankel\n",
    "\n",
    "# Construct Hankel matrix\n",
    "H_X = hankel(X)\n",
    "H_Y = hankel(Y)\n",
    "\n",
    "print(H_X.shape, H_Y.shape)"
   ]
  },
  {
   "cell_type": "code",
   "execution_count": 34,
   "metadata": {},
   "outputs": [
    {
     "name": "stdout",
     "output_type": "stream",
     "text": [
      "21\n",
      "20\n"
     ]
    },
    {
     "data": {
      "image/png": "[encoded data removed]",
      "text/plain": [
       "<Figure size 1008x576 with 4 Axes>"
      ]
     },
     "metadata": {
      "needs_background": "light"
     },
     "output_type": "display_data"
    }
   ],
   "source": [
    "import seaborn as sns\n",
    "\n",
    "# Take SVD of H_X\n",
    "u, s, v = np.linalg.svd(H_X)\n",
    "var_explained = np.round(s**2/np.sum(s**2), decimals=3)\n",
    "print(len(var_explained[var_explained>0]))\n",
    "\n",
    "fig, ax = plt.subplots(2, 2, figsize=(14, 8), sharey=True)\n",
    "ax[0,0].plot(var_explained)\n",
    "ax[0,0].plot(np.diag(np.diagflat(s)/np.sum(np.diagflat(s))), \"ro\");\n",
    "ax[1,0].set_xlabel('SVs', fontsize=16)\n",
    "ax[1,0].set_ylabel('% Variance Explained', fontsize=16)\n",
    "sns.barplot(x=list(range(1,len(var_explained)+1)),\n",
    "            y=var_explained, color=\"limegreen\", ec='k', ax=ax[0,1])\n",
    "\n",
    "# Take SVD of H_Y\n",
    "u, s, v = np.linalg.svd(H_Y)\n",
    "var_explained = np.round(s**2/np.sum(s**2), decimals=3)\n",
    "print(len(var_explained[var_explained>0]))\n",
    "ax[1,0].plot(var_explained)\n",
    "ax[1,0].plot(np.diag(np.diagflat(s)/np.sum(np.diagflat(s))), \"ro\");\n",
    "\n",
    "\n",
    "sns.barplot(x=list(range(1,len(var_explained)+1)),\n",
    "            y=var_explained, color=\"limegreen\", ec='k', ax=ax[1,1])\n",
    "plt.xlabel('SVs', fontsize=16);"
   ]
  },
  {
   "cell_type": "markdown",
   "metadata": {},
   "source": [
    "#### SVD of Hankel matrix shows that there are 20 and 21 non-zero modes for hare and lynx populations based on this small dataset"
   ]
  },
  {
   "cell_type": "markdown",
   "metadata": {},
   "source": [
    "This suggests that there are quite a few latent variables not being measured in this dynamic system"
   ]
  },
  {
   "cell_type": "markdown",
   "metadata": {},
   "source": [
    "### Question 3. Empirical Predator-Prey models such as Lotka-Volterra are commonly used to model such phenomenon. Consider the model x ̇ = (b − py)x and y ̇ = (rx − d)y. Use the data to fit values of b, p, r and d.\n"
   ]
  },
  {
   "cell_type": "markdown",
   "metadata": {},
   "source": [
    "#### Use SINDy with limited library to fit values for b, p, r and d using the data"
   ]
  },
  {
   "cell_type": "code",
   "execution_count": 38,
   "metadata": {},
   "outputs": [],
   "source": [
    "def lotka_volterra(b, p, r, d, x, y):\n",
    "    '''Empirical Lotka-Volterra predator-prey model'''\n",
    "    xdot = (b - p*y) * x\n",
    "    ydot = (r*x - d) * y\n",
    "    return(xdot, ydot)\n",
    "\n",
    "def lotka_volterra_predator(r, d, x, y):\n",
    "    '''Empirical Lotka-Volterra predator-prey model'''\n",
    "    ydot = (r*x - d) * y\n",
    "    return(ydot)\n",
    "\n",
    "def lotka_volterra_prey(b, p, x, y):\n",
    "    '''Empirical Lotka-Volterra predator-prey model'''\n",
    "    xdot = (b - p*y) * x\n",
    "    return(xdot)"
   ]
  },
  {
   "cell_type": "code",
   "execution_count": 71,
   "metadata": {},
   "outputs": [
    {
     "data": {
      "text/plain": [
       "((30,), (30,), (30,), (30,))"
      ]
     },
     "execution_count": 71,
     "metadata": {},
     "output_type": "execute_result"
    }
   ],
   "source": [
    "# Set up problem\n",
    "X=df.Hare.values\n",
    "Y=df.Lynx.values\n",
    "\n",
    "# Calculate derivatives with center point finite difference\n",
    "xdot=np.zeros_like(X)\n",
    "ydot=np.zeros_like(Y)\n",
    "\n",
    "dt=df.Year[1]-df.Year[0]\n",
    "\n",
    "for j in range(len(xdot)-1):\n",
    "    if j == 0:\n",
    "        pass\n",
    "    else:\n",
    "        xdot[j-1] = ( X[j+1]-X[j-1] ) / (2*dt)\n",
    "        ydot[j-1] = ( Y[j+1]-Y[j-1] ) / (2*dt)\n",
    "        \n",
    "X.shape, Y.shape, xdot.shape, ydot.shape"
   ]
  },
  {
   "cell_type": "code",
   "execution_count": 72,
   "metadata": {},
   "outputs": [
    {
     "data": {
      "text/plain": [
       "((28,), (28,), (28,), (28,))"
      ]
     },
     "execution_count": 72,
     "metadata": {},
     "output_type": "execute_result"
    }
   ],
   "source": [
    "# Toss endpoints\n",
    "X=X[1:-1]\n",
    "Y=Y[1:-1]\n",
    "xdot=xdot[1:-1]\n",
    "ydot=ydot[1:-1]\n",
    "\n",
    "X.shape, Y.shape, xdot.shape, ydot.shape"
   ]
  },
  {
   "cell_type": "code",
   "execution_count": 144,
   "metadata": {},
   "outputs": [
    {
     "data": {
      "text/plain": [
       "((2, 28), 2, (2, 28), 2)"
      ]
     },
     "execution_count": 144,
     "metadata": {},
     "output_type": "execute_result"
    }
   ],
   "source": [
    "# Create library of potential functions based on\n",
    "AX = np.array([ X, X*Y])\n",
    "AX_names = np.array([ \"X\", \"XY\"])\n",
    "\n",
    "AY = np.array([ Y, X*Y])\n",
    "AY_names = np.array([ \"Y\", \"XY\"])\n",
    "AX.shape, len(AX_names), AY.shape, len(AY_names)"
   ]
  },
  {
   "cell_type": "code",
   "execution_count": 145,
   "metadata": {},
   "outputs": [
    {
     "name": "stdout",
     "output_type": "stream",
     "text": [
      "(2,) (2,)\n",
      "(2,) (2,)\n",
      "(2,) (2,)\n",
      "CPU times: user 6.62 ms, sys: 0 ns, total: 6.62 ms\n",
      "Wall time: 5.71 ms\n"
     ]
    }
   ],
   "source": [
    "%%time\n",
    "# solve for vector xi (the weights/coefficients) using regression approach\n",
    "# dx_dt = A @ xi\n",
    "\n",
    "# # Pseudoinverse\n",
    "# Xi_pinv=np.linalg.pinv(AX.T) @ xdot\n",
    "# Yi_pinv=np.linalg.pinv(AY.T) @ ydot\n",
    "# print(Xi_pinv.shape, Yi_pinv.shape)\n",
    "\n",
    "from sklearn import linear_model\n",
    "\n",
    "# LASSO\n",
    "lasso=linear_model.Lasso(random_state=43, max_iter=100000000)\n",
    "lasso.fit(AX.T, xdot)\n",
    "Xi_lasso=lasso.coef_\n",
    "\n",
    "lasso=linear_model.Lasso(random_state=43, max_iter=100000000)\n",
    "lasso.fit(AY.T, ydot)\n",
    "Yi_lasso=lasso.coef_\n",
    "print(Xi_lasso.shape, Yi_lasso.shape)\n",
    "\n",
    "# LASSO 0.8 alpha\n",
    "lasso=linear_model.Lasso(random_state=43, max_iter=100000000, alpha=0.8)\n",
    "lasso.fit(AX.T, xdot)\n",
    "Xi_lasso8=lasso.coef_\n",
    "\n",
    "lasso=linear_model.Lasso(random_state=43, max_iter=100000000, alpha=0.8)\n",
    "lasso.fit(AY.T, ydot)\n",
    "Yi_lasso8=lasso.coef_\n",
    "print(Xi_lasso8.shape, Yi_lasso8.shape)\n",
    "\n",
    "# Least Angle Regression\n",
    "lars = linear_model.LassoLars()\n",
    "lars.fit(AX.T, xdot)\n",
    "Xi_lars=lars.coef_\n",
    "\n",
    "lars = linear_model.LassoLars()\n",
    "lars.fit(AY.T, ydot)\n",
    "Yi_lars=lars.coef_\n",
    "print(Xi_lars.shape, Yi_lars.shape)"
   ]
  },
  {
   "cell_type": "code",
   "execution_count": 146,
   "metadata": {},
   "outputs": [
    {
     "data": {
      "image/png": "[encoded data removed]",
      "text/plain": [
       "<Figure size 864x864 with 6 Axes>"
      ]
     },
     "metadata": {
      "needs_background": "light"
     },
     "output_type": "display_data"
    }
   ],
   "source": [
    "# Plot weightings of solutions\n",
    "ec='k'\n",
    "\n",
    "fig, ax = plt.subplots(3, 2, figsize=(12, 12), sharey=True)\n",
    "\n",
    "# Xi 1 solutions\n",
    "ax[0,0].bar(np.arange(len(AX)), Xi_lasso8, ec=ec, )\n",
    "ax[1,0].bar(np.arange(len(AX)), Xi_lasso, ec=ec)\n",
    "ax[2,0].bar(np.arange(len(AX)), Xi_lars, ec=ec)\n",
    "ax[0,0].set_title(\"Xi LASSO 0.8\")\n",
    "ax[1,0].set_title(\"Xi LASSO\")\n",
    "ax[2,0].set_title(\"Xi LARS\")\n",
    "\n",
    "# Xi 2 solutions\n",
    "ax[0,1].bar(np.arange(len(AY)), Yi_lasso8, ec=ec)\n",
    "ax[1,1].bar(np.arange(len(AY)), Yi_lasso, ec=ec)\n",
    "ax[2,1].bar(np.arange(len(AY)), Yi_lars, ec=ec)\n",
    "ax[0,1].set_title(\"Yi LASSO 0.8\")\n",
    "ax[1,1].set_title(\"Yi LASSO\")\n",
    "ax[2,1].set_title(\"Yi LARS\");\n",
    "\n",
    "ticks=np.arange(len(AX_names))\n",
    "rotation=45\n",
    "\n",
    "ax[0,0].set_xticks(ticks)\n",
    "ax[0,1].set_xticks(ticks)\n",
    "ax[1,0].set_xticks(ticks)\n",
    "ax[1,1].set_xticks(ticks)\n",
    "\n",
    "ax[2,0].set_xticks(ticks)\n",
    "ax[2,0].set_xticklabels(AX_names, rotation=rotation);\n",
    "\n",
    "ax[2,1].set_xticks(ticks)\n",
    "ax[2,1].set_xticklabels(AY_names, rotation=rotation);"
   ]
  },
  {
   "cell_type": "code",
   "execution_count": 149,
   "metadata": {},
   "outputs": [
    {
     "name": "stdout",
     "output_type": "stream",
     "text": [
      "lasso8\n",
      "[-0.27726079 -0.00175354] ['X' 'XY']\n",
      "[-0.40454341] ['Y']\n",
      "\n",
      "\n",
      "lasso\n",
      "[-0.277025   -0.00175628] ['X' 'XY']\n",
      "[-0.402915] ['Y']\n",
      "\n",
      "\n",
      "lars\n",
      "[-0.20724505] ['X']\n",
      "[-0.07559126] ['Y']\n",
      "\n",
      "\n"
     ]
    }
   ],
   "source": [
    "# Find coefficients of LASSO and LARS (L1 normalization)\n",
    "thresh=1e-3\n",
    "\n",
    "X_coefs = [Xi_lasso8, Xi_lasso, Xi_lars]\n",
    "Y_coefs = [Yi_lasso8, Yi_lasso, Yi_lars]\n",
    "models = [\"lasso8\", \"lasso\", \"lars\"]\n",
    "\n",
    "for xi, yi, model in zip(X_coefs, Y_coefs, models):\n",
    "    print(model)\n",
    "    print(xi[np.abs(xi)>thresh], AX_names[np.abs(xi)>thresh])\n",
    "    print(yi[np.abs(yi)>thresh], AY_names[np.abs(yi)>thresh])    \n",
    "    print(\"\\n\")"
   ]
  },
  {
   "cell_type": "markdown",
   "metadata": {},
   "source": [
    "**Coefficients according to lasso L1 regularization (alpha = 1):**  \n",
    "b = -0.277  \n",
    "p = -1.7e-3  \n",
    "r = 0  \n",
    "d = -0.403  "
   ]
  },
  {
   "cell_type": "markdown",
   "metadata": {},
   "source": [
    "### Question 4. Find the best fit nonlinear, dynamical systems model to the data using sparse regression."
   ]
  },
  {
   "cell_type": "code",
   "execution_count": 150,
   "metadata": {},
   "outputs": [
    {
     "data": {
      "text/plain": [
       "((30,), (30,), (30,), (30,))"
      ]
     },
     "execution_count": 150,
     "metadata": {},
     "output_type": "execute_result"
    }
   ],
   "source": [
    "# Set up problem\n",
    "x1=df.Hare.values\n",
    "x2=df.Lynx.values\n",
    "\n",
    "# Calculate derivatives with center point finite difference\n",
    "dx1=np.zeros_like(x1)\n",
    "dx2=np.zeros_like(x2)\n",
    "\n",
    "dt=2\n",
    "\n",
    "for j in range(len(dx1)-1):\n",
    "    if j == 0:\n",
    "        pass\n",
    "    else:\n",
    "        dx1[j-1] = ( x1[j+1]-x1[j-1] ) / (2*dt)\n",
    "        dx2[j-1] = ( x2[j+1]-x2[j-1] ) / (2*dt)\n",
    "        \n",
    "x1.shape, x2.shape, dx1.shape, dx2.shape"
   ]
  },
  {
   "cell_type": "code",
   "execution_count": 151,
   "metadata": {},
   "outputs": [
    {
     "data": {
      "text/plain": [
       "((28,), (28,), (28,), (28,))"
      ]
     },
     "execution_count": 151,
     "metadata": {},
     "output_type": "execute_result"
    }
   ],
   "source": [
    "# Toss endpoints\n",
    "x1s=x1[1:-1]\n",
    "x2s=x2[1:-1]\n",
    "dx1=dx1[1:-1]\n",
    "dx2=dx2[1:-1]\n",
    "\n",
    "x1s.shape, x2s.shape, dx1.shape, dx2.shape"
   ]
  },
  {
   "cell_type": "code",
   "execution_count": 152,
   "metadata": {},
   "outputs": [
    {
     "data": {
      "text/plain": [
       "((21, 28), 21)"
      ]
     },
     "execution_count": 152,
     "metadata": {},
     "output_type": "execute_result"
    }
   ],
   "source": [
    "# Create library of potential functions based on\n",
    "A = np.array([ x1s, x2s, x1s**2, x1s*x2s, x2s**2, \n",
    "              x1s**3, x1s*x2s**2, x1s**2*x2s, x2s**3, \n",
    "              np.sin(x1s), np.cos(x2s), np.sin(x2s), np.cos(x1s), \n",
    "              np.sin(2*x1s), np.cos(2*x2s), np.sin(2*x2s), np.cos(2*x1s),\n",
    "              1/np.sin(x1s), 1/np.cos(x2s), 1/np.sin(x2s), 1/np.cos(x1s) \n",
    "             ])\n",
    "A_names=[\"x1s\", \"x2s\", \"x1s**2\", \"x1s*x2s\", \"x2s**2\", \n",
    "              \"x1s**3\", \"x1s*x2s**2\", \"x1s**2*x2s\", \"x2s**3\", \n",
    "              \"np.sin(x1s)\", \"np.cos(x2s)\", \"np.sin(x2s)\", \"np.cos(x1s)\", \n",
    "              \"np.sin(2*x1s)\", \"np.cos(2*x2s)\", \"np.sin(2*x2s)\", \"np.cos(2*x1s)\",\n",
    "              \"1/np.sin(x1s)\", \"1/np.cos(x2s)\", \"1/np.sin(x2s)\", \"1/np.cos(x1s)\"\n",
    "        ]\n",
    "A.shape, len(A_names)"
   ]
  },
  {
   "cell_type": "markdown",
   "metadata": {},
   "source": [
    "#### Use various solvers with L1 regularization to find function weights"
   ]
  },
  {
   "cell_type": "code",
   "execution_count": 153,
   "metadata": {},
   "outputs": [
    {
     "name": "stdout",
     "output_type": "stream",
     "text": [
      "(21,) (21,)\n",
      "(21,) (21,)\n",
      "(21,) (21,)\n",
      "(21,) (21,)\n",
      "CPU times: user 79.5 ms, sys: 3.72 ms, total: 83.2 ms\n",
      "Wall time: 81.2 ms\n"
     ]
    }
   ],
   "source": [
    "%%time\n",
    "# solve for vector xi (the weights/coefficients) using regression approach\n",
    "# dx_dt = A @ xi\n",
    "\n",
    "# Pseudoinverse\n",
    "xi1_pinv=np.linalg.pinv(A.T) @ dx1\n",
    "xi2_pinv=np.linalg.pinv(A.T) @ dx2\n",
    "print(xi1_pinv.shape, xi2_pinv.shape)\n",
    "\n",
    "from sklearn import linear_model\n",
    "\n",
    "# LASSO\n",
    "lasso=linear_model.Lasso(random_state=0, max_iter=100000000)\n",
    "lasso.fit(A.T, dx1)\n",
    "xi1_lasso=lasso.coef_\n",
    "\n",
    "lasso=linear_model.Lasso(random_state=0, max_iter=100000000)\n",
    "lasso.fit(A.T, dx2)\n",
    "xi2_lasso=lasso.coef_\n",
    "print(xi1_lasso.shape, xi2_lasso.shape)\n",
    "\n",
    "\n",
    "# LASSO alpha = 0.8\n",
    "lasso=linear_model.Lasso(random_state=0, max_iter=100000000, alpha=0.8)\n",
    "lasso.fit(A.T, dx1)\n",
    "xi1_lasso8=lasso.coef_\n",
    "\n",
    "lasso=linear_model.Lasso(random_state=0, max_iter=100000000, alpha=0.8)\n",
    "lasso.fit(A.T, dx2)\n",
    "xi2_lasso8=lasso.coef_\n",
    "print(xi1_lasso8.shape, xi2_lasso8.shape)\n",
    "\n",
    "# Least Angle Regression\n",
    "lars = linear_model.LassoLars()\n",
    "lars.fit(A.T, dx1)\n",
    "xi1_lars=lars.coef_\n",
    "\n",
    "lars = linear_model.LassoLars()\n",
    "lars.fit(A.T, dx2)\n",
    "xi2_lars=lars.coef_\n",
    "print(xi1_lars.shape, xi2_lars.shape)"
   ]
  },
  {
   "cell_type": "code",
   "execution_count": 155,
   "metadata": {},
   "outputs": [
    {
     "data": {
      "image/png": "[encoded data removed]",
      "text/plain": [
       "<Figure size 864x864 with 6 Axes>"
      ]
     },
     "metadata": {
      "needs_background": "light"
     },
     "output_type": "display_data"
    }
   ],
   "source": [
    "# Plot weightings of solutions\n",
    "ec='k'\n",
    "\n",
    "fig, ax = plt.subplots(3, 2, figsize=(12, 12), sharex=True, sharey=True)\n",
    "\n",
    "# Xi 1 solutions\n",
    "ax[0,0].bar(np.arange(len(A)), xi1_lasso8, ec=ec)\n",
    "ax[1,0].bar(np.arange(len(A)), xi1_lasso, ec=ec)\n",
    "ax[2,0].bar(np.arange(len(A)), xi1_lars, ec=ec)\n",
    "ax[0,0].set_title(\"Xi 1 LASSO 8\")\n",
    "ax[1,0].set_title(\"Xi 1 LASSO\")\n",
    "ax[2,0].set_title(\"Xi 1 LARS\")\n",
    "\n",
    "# Xi 2 solutions\n",
    "ax[0,1].bar(np.arange(len(A)), xi2_lasso8, ec=ec)\n",
    "ax[1,1].bar(np.arange(len(A)), xi2_lasso, ec=ec)\n",
    "ax[2,1].bar(np.arange(len(A)), xi2_lars, ec=ec)\n",
    "ax[0,1].set_title(\"Xi 2 LASSO 8\")\n",
    "ax[1,1].set_title(\"Xi 2 LASSO\")\n",
    "ax[2,1].set_title(\"Xi 2 LARS\");"
   ]
  },
  {
   "cell_type": "code",
   "execution_count": 156,
   "metadata": {},
   "outputs": [
    {
     "name": "stdout",
     "output_type": "stream",
     "text": [
      "['x1s', 'x1s**2', 'x2s**2', 'x1s*x2s**2', 'x2s**3', 'np.cos(x2s)', 'np.cos(x1s)', 'np.cos(2*x2s)', 'np.cos(2*x1s)', '1/np.cos(x2s)', '1/np.cos(x1s)']\n",
      "[ 0  2  4  6  8 10 12 14 16 18 20]\n"
     ]
    }
   ],
   "source": [
    "# Set up candidate function tick names\n",
    "A_names_sub=A_names[::2]\n",
    "print(A_names_sub)\n",
    "\n",
    "ticks=np.arange(len(A_names))\n",
    "ticks=ticks[::2]\n",
    "print(ticks)"
   ]
  },
  {
   "cell_type": "code",
   "execution_count": 182,
   "metadata": {},
   "outputs": [
    {
     "data": {
      "image/png": "[encoded data removed]",
      "text/plain": [
       "<Figure size 864x576 with 4 Axes>"
      ]
     },
     "metadata": {
      "needs_background": "light"
     },
     "output_type": "display_data"
    }
   ],
   "source": [
    "# Zoomed Lasso solutions\n",
    "fig, ax = plt.subplots(2, 2, figsize=(12, 8), sharey=True)\n",
    "plt.subplots_adjust(hspace=0.4)\n",
    "\n",
    "ax[0,0].bar(np.arange(len(A)), xi1_lasso, ec=ec)\n",
    "ax[1,0].bar(np.arange(len(A)), xi1_lars, ec=ec)\n",
    "ax[0,0].set_title(\"Xi 1 LASSO\")\n",
    "ax[1,0].set_title(\"Xi 1 LARS\")\n",
    "\n",
    "ax[0,1].bar(np.arange(len(A)), xi2_lasso, ec=ec)\n",
    "ax[1,1].bar(np.arange(len(A)), xi2_lars, ec=ec)\n",
    "ax[0,1].set_title(\"Xi 2 LASSO\")\n",
    "ax[1,1].set_title(\"Xi 2 LARS\")\n",
    "\n",
    "plt.suptitle(\"LASSO solutions - zoomed\", y=0.95);\n",
    "\n",
    "### ==== Axis ticklabels === ###\n",
    "thresh=0\n",
    "\n",
    "def good_functions(xi, thresh, A_name):\n",
    "    '''First get indices of coefficients larger than threshold\n",
    "    Then extract library candidate function names based on indices\n",
    "    '''\n",
    "    xi_ind=(np.indices(xi.shape).squeeze())[np.abs(xi)>thresh] \n",
    "    xi_names=[ A_name[x] for x in xi_ind ] \n",
    "    return(xi_ind, xi_names)\n",
    "\n",
    "# LASSO solutions\n",
    "xi1_lasso_ind, xi1_lasso_names = good_functions(xi1_lasso, thresh, A_names)\n",
    "xi2_lasso_ind, xi2_lasso_names = good_functions(xi2_lasso, thresh, A_names)\n",
    "\n",
    "# LARS solutions\n",
    "xi1_lars_ind, xi1_lars_names = good_functions(xi1_lars, thresh, A_names)\n",
    "xi2_lars_ind, xi2_lars_names = good_functions(xi2_lars, thresh, A_names)\n",
    "\n",
    "rotation=45\n",
    "\n",
    "ax[0,0].set_xticks(xi1_lasso_ind)\n",
    "ax[0,0].set_xticklabels(xi1_lasso_names, rotation=rotation)\n",
    "\n",
    "ax[0,1].set_xticks(xi2_lasso_ind)\n",
    "ax[0,1].set_xticklabels(xi2_lasso_names, rotation=rotation);\n",
    "\n",
    "ax[1,0].set_xticks(xi1_lars_ind)\n",
    "ax[1,0].set_xticklabels(xi1_lars_names, rotation=rotation);\n",
    "\n",
    "ax[1,1].set_xticks(xi2_lars_ind)\n",
    "ax[1,1].set_xticklabels(xi2_lars_names, rotation=rotation);"
   ]
  },
  {
   "cell_type": "code",
   "execution_count": 188,
   "metadata": {},
   "outputs": [
    {
     "name": "stdout",
     "output_type": "stream",
     "text": [
      "lasso\n",
      "[-0.25564433 -0.28067634  0.19444816  0.05773681] ['x1s' 'x2s' '1/np.sin(x2s)' '1/np.cos(x1s)']\n",
      "[-0.19649504 -0.05258153  0.05125806] ['x2s' '1/np.sin(x1s)' '1/np.cos(x1s)']\n",
      "\n",
      "\n",
      "lars\n",
      "[-0.21862302 -0.08031208] ['x1s' 'x2s']\n",
      "[-0.07559126] ['x2s']\n",
      "\n",
      "\n"
     ]
    }
   ],
   "source": [
    "# Find coefficients of LASSO and LARS (L1 normalization)\n",
    "thresh=0.05\n",
    "\n",
    "xi1_coefs = [xi1_lasso8, xi1_lasso, xi1_lars]\n",
    "xi2_coefs = [xi2_lasso8, xi2_lasso, xi2_lars]\n",
    "models = [\"lasso8\", \"lasso\", \"lars\"]\n",
    "\n",
    "A_names=np.array(A_names)\n",
    "\n",
    "for i, (xi1, xi2, model) in enumerate(zip(xi1_coefs, xi2_coefs, models)):\n",
    "    if i == 0:\n",
    "        pass\n",
    "    else:\n",
    "        print(model)\n",
    "        print(xi1[np.abs(xi1)>thresh], A_names[np.abs(xi1)>thresh])\n",
    "        print(xi2[np.abs(xi2)>thresh], A_names[np.abs(xi2)>thresh])    \n",
    "        print(\"\\n\")"
   ]
  },
  {
   "cell_type": "markdown",
   "metadata": {},
   "source": [
    "### LASSO solution takeaways and checks\n",
    "Hare population dependent on:\n",
    "- hare population (x1, secant(x1))\n",
    "- lynx population (x2, cosecant(x2))\n",
    "\n",
    "Lynx population dependent on:\n",
    "- lynx population (x2s) ==> negatively linear wth lynx pop (more lynx, slower growth)\n",
    "- hare population (secant(x1), cosecant(x1)) ==> periodic with hare population"
   ]
  },
  {
   "cell_type": "markdown",
   "metadata": {},
   "source": [
    "### Thoughts"
   ]
  },
  {
   "cell_type": "markdown",
   "metadata": {},
   "source": [
    "#### [SINDY](https://arxiv.org/pdf/1605.06682.pdf) *automatically* balances sparsity with model accuracy"
   ]
  },
  {
   "cell_type": "markdown",
   "metadata": {},
   "source": [
    "authors said that SINDY + control worked better and SINDY alone  \n",
    "dx/dt = f(x, u)"
   ]
  },
  {
   "cell_type": "markdown",
   "metadata": {},
   "source": [
    "Lotka-Volterra Predator-Prey Model  \n",
    "dx1/dt = ax1 - bx1x2 + u^2  \n",
    "dx2/dt = -cx2 + dx1x2  \n",
    "with x1 = hare population  \n",
    "and x2 = lynx population\n",
    "\n",
    "authros used u(t) = 2sin(t) + 2sin(t/10)  \n",
    "using 100 timesteps (t) for training and 100 time steps (t) for validation"
   ]
  },
  {
   "cell_type": "markdown",
   "metadata": {},
   "source": [
    "### Question 5.  Compute the KL divergence of the best model fit to the data between all the above models (LASSO8, LASSO, and LARS).\n",
    "KL divergence = statistical metrix representing info lost when g(x) is used to represent f(x)"
   ]
  },
  {
   "cell_type": "markdown",
   "metadata": {},
   "source": [
    "KL(f,g) = integral [ f(X,Beta) * log (f(X, Beta)/g(X, mu)) dX ]"
   ]
  },
  {
   "cell_type": "markdown",
   "metadata": {},
   "source": [
    "[wiki](https://en.wikipedia.org/wiki/Kullback%E2%80%93Leibler_divergence)  \n",
    "[scipy implementation](https://docs.scipy.org/doc/scipy/reference/generated/scipy.stats.entropy.html)  \n",
    "see [mlm notes](https://machinelearningmastery.com/divergence-between-probability-distributions/) for discussion on kl_div() and rel_entr()  "
   ]
  },
  {
   "cell_type": "code",
   "execution_count": null,
   "metadata": {},
   "outputs": [],
   "source": [
    "from scipy.special import rel_entr"
   ]
  },
  {
   "cell_type": "code",
   "execution_count": null,
   "metadata": {},
   "outputs": [],
   "source": [
    "# from https://gist.github.com/swayson/86c296aa354a555536e6765bbe726ff7\n",
    "\n",
    "def kl(p, q):\n",
    "    \"\"\"Kullback-Leibler divergence D(P || Q) for discrete distributions\n",
    "    Parameters\n",
    "    ----------\n",
    "    p, q : array-like, dtype=float, shape=n\n",
    "    Discrete probability distributions.\n",
    "    \"\"\"\n",
    "    p = np.asarray(p, dtype=np.float)\n",
    "    q = np.asarray(q, dtype=np.float)\n",
    "\n",
    "    return np.sum(np.where(p != 0, p * np.log(p / q), 0))\n",
    "\n",
    "p = [0.1, 0.9]\n",
    "q = [0.1, 0.9]\n",
    "\n",
    "kl(p, q)"
   ]
  },
  {
   "cell_type": "code",
   "execution_count": 192,
   "metadata": {},
   "outputs": [
    {
     "name": "stdout",
     "output_type": "stream",
     "text": [
      "(28,)\n"
     ]
    },
    {
     "data": {
      "text/plain": [
       "array([-18.29265514, -20.16665608, -27.77407799, -22.60498209,\n",
       "       -36.40109152, -28.18523152,  -7.88086429, -13.45904033,\n",
       "       -48.82274191, -54.40738306, -34.49000094, -11.85527358,\n",
       "        -5.36310996, -27.50414926, -39.37270384, -45.54089104,\n",
       "       -38.72459767,  -8.01667281,   4.76118358, -50.94837285,\n",
       "       -54.71407555, -15.08988022, -10.01839077, -33.0671098 ,\n",
       "       -47.30579178, -18.31544944,  -7.42704657,  -7.26530825])"
      ]
     },
     "execution_count": 192,
     "metadata": {},
     "output_type": "execute_result"
    }
   ],
   "source": [
    "# Get predictions of dx1 and dx2 based on LASSO and LARS\n",
    "dx1_lasso=A.T @ xi1_lasso\n",
    "print(dx1_lasso.shape)\n",
    "dx1_lasso"
   ]
  },
  {
   "cell_type": "code",
   "execution_count": 193,
   "metadata": {},
   "outputs": [
    {
     "data": {
      "image/png": "[encoded data removed]",
      "text/plain": [
       "<Figure size 432x288 with 1 Axes>"
      ]
     },
     "metadata": {
      "needs_background": "light"
     },
     "output_type": "display_data"
    }
   ],
   "source": [
    "# Pretty close, jsut need the initial conditions to move it closer\n",
    "plt.plot(dx1, label=\"dx1\")\n",
    "plt.plot(dx1_lasso, label=\"dx1_lasso\")\n",
    "\n",
    "plt.legend();\n",
    "plt.title(\"Hare time derivatives\");"
   ]
  },
  {
   "cell_type": "markdown",
   "metadata": {},
   "source": [
    "# Need to turn this back into hares"
   ]
  },
  {
   "cell_type": "code",
   "execution_count": null,
   "metadata": {},
   "outputs": [],
   "source": [
    "b2_lasso=A.T @ xi2_lasso\n",
    "print(b2_lasso.shape)\n",
    "b2_lasso"
   ]
  },
  {
   "cell_type": "code",
   "execution_count": null,
   "metadata": {},
   "outputs": [],
   "source": [
    "# Pretty close as is\n",
    "plt.plot(dx2, label=\"dx2\")\n",
    "plt.plot(b2_lasso, label=\"b2_lasso\")\n",
    "plt.legend();\n",
    "plt.title(\"Lynx time derivatives\");"
   ]
  },
  {
   "cell_type": "markdown",
   "metadata": {},
   "source": [
    "## Should this be x1 and predicted x1 using b_lasso?"
   ]
  },
  {
   "cell_type": "code",
   "execution_count": null,
   "metadata": {},
   "outputs": [],
   "source": [
    "# predicted x1 using b1_lasso will require integration\n",
    "from scipy.integrate import odeint"
   ]
  },
  {
   "cell_type": "code",
   "execution_count": null,
   "metadata": {},
   "outputs": [],
   "source": [
    "def deriv(b):\n",
    "    dx_dt=\n",
    "    return()"
   ]
  },
  {
   "cell_type": "code",
   "execution_count": null,
   "metadata": {},
   "outputs": [],
   "source": [
    "odeint(b1_lasso, y0=x1[1], t=df.Year.values[1:-1])"
   ]
  },
  {
   "cell_type": "code",
   "execution_count": null,
   "metadata": {},
   "outputs": [],
   "source": [
    "kl(x1, i=integrated)"
   ]
  },
  {
   "cell_type": "markdown",
   "metadata": {},
   "source": [
    "### Question 6. Retain three of your best fit models and compare their AIC and BIC scores."
   ]
  },
  {
   "cell_type": "markdown",
   "metadata": {},
   "source": [
    "---\n",
    "## Part 2 - Belousov-Zhabotinsky data"
   ]
  },
  {
   "cell_type": "markdown",
   "metadata": {},
   "source": [
    "### Question 1. Download data"
   ]
  },
  {
   "cell_type": "code",
   "execution_count": null,
   "metadata": {},
   "outputs": [],
   "source": [
    "# courses.washington.edu/amath582/BZ.mat"
   ]
  },
  {
   "cell_type": "markdown",
   "metadata": {},
   "source": [
    "### Question 2. Repeat questions 1 and 2 from Part 1 using this data."
   ]
  },
  {
   "cell_type": "markdown",
   "metadata": {},
   "source": [
    "### Question 1. Find best fit nonlinear, dynamical systems model to the data using sparse regression\n",
    "nonlinear = not linear  \n",
    "best = lowest error, highest accuracy  \n",
    "sparse = fewest model terms, (L1 regularization)  "
   ]
  },
  {
   "cell_type": "markdown",
   "metadata": {},
   "source": [
    "### Question 2. Compute KL divergence of the best model fit to the data\n",
    "KL divergence = statistical metrix representing info lost when g(x) is used to represent f(x)"
   ]
  },
  {
   "cell_type": "code",
   "execution_count": null,
   "metadata": {},
   "outputs": [],
   "source": []
  }
 ],
 "metadata": {
  "kernelspec": {
   "display_name": "gda_py3",
   "language": "python",
   "name": "gda_py3"
  },
  "language_info": {
   "codemirror_mode": {
    "name": "ipython",
    "version": 3
   },
   "file_extension": ".py",
   "mimetype": "text/x-python",
   "name": "python",
   "nbconvert_exporter": "python",
   "pygments_lexer": "ipython3",
   "version": "3.6.7"
  }
 },
 "nbformat": 4,
 "nbformat_minor": 2
}
