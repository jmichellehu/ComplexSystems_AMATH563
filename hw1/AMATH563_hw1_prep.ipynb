{
 "cells": [
  {
   "cell_type": "markdown",
   "metadata": {},
   "source": [
    "## Preprocessing and dataset exploration"
   ]
  },
  {
   "cell_type": "code",
   "execution_count": 7,
   "metadata": {},
   "outputs": [],
   "source": [
    "import os\n",
    "import gzip\n",
    "import numpy as np\n",
    "\n",
    "import pickle\n",
    "import matplotlib.pyplot as plt\n",
    "import joblib"
   ]
  },
  {
   "cell_type": "markdown",
   "metadata": {},
   "source": [
    "### Set up directories"
   ]
  },
  {
   "cell_type": "code",
   "execution_count": 2,
   "metadata": {},
   "outputs": [],
   "source": [
    "# data_dir=\"/Users/michellehu/git_dirs/ComplexSystems_AMATH563/data/\"\n",
    "wd=\"/mnt/Backups/jmhu\"\n",
    "\n",
    "data_dir=wd+\"/git_dirs/ComplexSystems_AMATH563/data/\"\n",
    "model_dir=wd+\"/git_dirs/ComplexSystems_AMATH563/models/\"\n",
    "fig_dir = wd+\"/git_dirs/ComplexSystems_AMATH563/figures/\"\n",
    "    \n",
    "if not os.path.exists(data_dir):\n",
    "    !mkdir $data_dir\n",
    "\n",
    "if not os.path.exists(model_dir):\n",
    "    !mkdir $model_dir\n",
    "\n",
    "if not os.path.exists(fig_dir):\n",
    "    !mkdir $fig_dir"
   ]
  },
  {
   "cell_type": "markdown",
   "metadata": {},
   "source": [
    "### Download files"
   ]
  },
  {
   "cell_type": "code",
   "execution_count": 3,
   "metadata": {
    "scrolled": true
   },
   "outputs": [],
   "source": [
    "gz_fns=[\"t10k-labels-idx1-ubyte.gz\", \n",
    "        \"t10k-images-idx3-ubyte.gz\", \n",
    "        \"train-labels-idx1-ubyte.gz\", \n",
    "        \"train-images-idx3-ubyte.gz\"]\n",
    "data_paths=[data_dir + gz for gz in gz_fns]\n",
    "data_sources=[\"http://yann.lecun.com/exdb/mnist/\" + gz for gz in gz_fns]\n",
    "\n",
    "for f, source in zip(data_paths, data_sources):\n",
    "    if not os.path.exists(f):\n",
    "        print(\"Missing\", f)\n",
    "        print(\"Downloading now...\")\n",
    "        !wget -O $f $source"
   ]
  },
  {
   "cell_type": "markdown",
   "metadata": {},
   "source": [
    "### Load data"
   ]
  },
  {
   "cell_type": "code",
   "execution_count": 4,
   "metadata": {},
   "outputs": [],
   "source": [
    "# From https://github.com/daniel-e/mnist_octave/blob/master/mnist.py\n",
    "def loadY(fnlabel):\n",
    "    f = gzip.open(fnlabel, 'rb')\n",
    "    f.read(8)\n",
    "    return np.frombuffer(f.read(), dtype = np.uint8)\n",
    "\n",
    "def loadX(fnimg):\n",
    "    f = gzip.open(fnimg, 'rb')\n",
    "    f.read(16)\n",
    "    return np.frombuffer(f.read(), dtype = np.uint8).reshape((-1, 28*28))\n",
    "\n",
    "# Unzip, reformat and reshape\n",
    "trainX = loadX(data_dir+\"train-images-idx3-ubyte.gz\")\n",
    "trainY = loadY(data_dir+\"train-labels-idx1-ubyte.gz\")\n",
    "testX = loadX(data_dir+\"t10k-images-idx3-ubyte.gz\")\n",
    "testY = loadY(data_dir+\"t10k-labels-idx1-ubyte.gz\")"
   ]
  },
  {
   "cell_type": "markdown",
   "metadata": {},
   "source": [
    "### Check shapes, sizes and values"
   ]
  },
  {
   "cell_type": "code",
   "execution_count": 5,
   "metadata": {},
   "outputs": [
    {
     "name": "stdout",
     "output_type": "stream",
     "text": [
      "(784,)\n",
      "(28, 28)\n",
      "28*28 = 784\n",
      "train A: (60000, 784)\n",
      "train B: (60000,)\n",
      "test A: (10000, 784)\n",
      "test B: (10000,)\n",
      "labels: [0 1 2 3 4 5 6 7 8 9]\n",
      "Class distribution: [5923 6742 5958 6131 5842 5421 5918 6265 5851 5949]\n"
     ]
    }
   ],
   "source": [
    "# double check that these reshapings make sense\n",
    "print(trainX[0].shape)\n",
    "print(trainX[0].reshape(28,28).shape)\n",
    "print(\"28*28 =\", 28*28)\n",
    "\n",
    "# Check sizes of train and test datasets and labels\n",
    "print(\"train A:\", trainX.shape)\n",
    "print(\"train B:\", trainY.shape)\n",
    "print(\"test A:\", testX.shape)\n",
    "print(\"test B:\", testY.shape)\n",
    "\n",
    "# Look at class distribution\n",
    "# http://rasbt.github.io/mlxtend/user_guide/data/loadlocal_mnist/\n",
    "print('labels: %s' % np.unique(trainY))\n",
    "print('Class distribution: %s' % np.bincount(trainY))"
   ]
  },
  {
   "cell_type": "markdown",
   "metadata": {},
   "source": [
    "### Visualize first 10 samples of training data"
   ]
  },
  {
   "cell_type": "code",
   "execution_count": 6,
   "metadata": {
    "scrolled": true
   },
   "outputs": [
    {
     "data": {
      "image/png": "[encoded data removed]",
      "text/plain": [
       "<Figure size 1152x288 with 10 Axes>"
      ]
     },
     "metadata": {},
     "output_type": "display_data"
    }
   ],
   "source": [
    "plt.figure(figsize=(16,4))\n",
    "for i in range(10):\n",
    "    ax = plt.subplot(1, 10, i + 1)\n",
    "    img = trainX[i].reshape((28,28))\n",
    "    ax.imshow(img, cmap=\"Greys\")\n",
    "    ax.set_xticks(())\n",
    "    ax.set_yticks(())\n",
    "    ax.set_title(trainY[i])"
   ]
  },
  {
   "cell_type": "code",
   "execution_count": null,
   "metadata": {},
   "outputs": [],
   "source": [
    "### Save data for later"
   ]
  },
  {
   "cell_type": "code",
   "execution_count": null,
   "metadata": {},
   "outputs": [],
   "source": [
    "# Pickling for faster load (probably unecessary right now)\n",
    "import pickle\n",
    "\n",
    "with open(data_dir+\"pickled_mnist.pkl\", \"bw\") as fh:\n",
    "    data = (trainX, \n",
    "            testX, \n",
    "            trainY,\n",
    "            testY,\n",
    "            train_labels_one_hot,\n",
    "            test_labels_one_hot)\n",
    "    pickle.dump(data, fh)"
   ]
  }
 ],
 "metadata": {
  "kernelspec": {
   "display_name": "gda_py3",
   "language": "python",
   "name": "gda_py3"
  },
  "language_info": {
   "codemirror_mode": {
    "name": "ipython",
    "version": 3
   },
   "file_extension": ".py",
   "mimetype": "text/x-python",
   "name": "python",
   "nbconvert_exporter": "python",
   "pygments_lexer": "ipython3",
   "version": "3.6.7"
  }
 },
 "nbformat": 4,
 "nbformat_minor": 2
}
